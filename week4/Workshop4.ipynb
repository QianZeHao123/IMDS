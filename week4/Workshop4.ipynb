{
 "cells": [
  {
   "cell_type": "markdown",
   "id": "b1c625ab",
   "metadata": {},
   "source": [
    "# IMDS Computer Workshop 4\n",
    "### *By Jeffrey Giansiracusa - Michaelmas 2023*\n",
    "\n",
    "\n",
    "This worksheet covers the content of lectures:\n",
    "\n",
    "    4.1 Vectors and vector spaces\n",
    "    4.2 Dot product\n",
    "    4.3 Projections\n",
    "\n",
    "Key points for you to learn:\n",
    "\n",
    "* Vectors, addition and scalar multiplication\n",
    "* The dot product and how we use it to measure lengths and angles\n",
    "* Projection of vectors onto a line\n"
   ]
  },
  {
   "cell_type": "markdown",
   "id": "cb567ac3",
   "metadata": {},
   "source": [
    "# Initialization code to run before you start your work\n",
    "\n",
    "Click on the cell below and then type Shift-Return to execute it."
   ]
  },
  {
   "cell_type": "code",
   "execution_count": null,
   "id": "ee4ab88a",
   "metadata": {},
   "outputs": [],
   "source": [
    "import numpy as np\n",
    "import math\n",
    "from mpl_toolkits import mplot3d\n",
    "import matplotlib.pyplot as plt\n",
    "\n",
    "from bokeh.io import output_notebook, show\n",
    "from bokeh.plotting import figure\n",
    "output_notebook()\n",
    "\n",
    "\n",
    "# Input is a list of 2d vectors to be plotted.\n",
    "def Plot2dVectors(list_of_endpoints):   \n",
    "    p = figure(width=600, height=600, title=\"Vectors!\")\n",
    "    for vect in list_of_endpoints:\n",
    "        xcoords = [0,vect[0]]\n",
    "        ycoords = [0,vect[1]]\n",
    "        p.line(xcoords, ycoords, line_width=2)\n",
    "        p.circle([vect[0]], [vect[1]], color='red', size=6)\n",
    "    show(p)\n",
    "\n",
    "# Input is a list of 3d vectors\n",
    "# This will draw the vectors with shadows and vertical rise indicators\n",
    "def Plot3dVectors(list):       \n",
    "    ax = plt.axes(projection = '3d')\n",
    "    for vect in list:\n",
    "        ax.plot([0,vect[0]], [0,vect[1]], [0,vect[2]],color='blue')\n",
    "        ax.plot([0,vect[0]], [0,vect[1]], [0,0],color='grey')\n",
    "        ax.plot([vect[0],vect[0]], [vect[1],vect[1]], [0,vect[2]], '--', color='grey')\n",
    "    ax.plot([0,0], [-10,10], 'g--')\n",
    "    ax.plot([-10,10], [0, 0], 'g--')\n",
    "    plt.draw()\n",
    "    plt.show()    \n",
    "\n",
    "def Plot3dDots(list):       \n",
    "    limit=20\n",
    "    plt.figure(figsize=(10, 8), dpi=80)\n",
    "    ax = plt.axes(projection = '3d')\n",
    "    ax.set_xlim(-limit,limit)\n",
    "    ax.set_ylim(-limit,limit)\n",
    "    ax.set_zlim(-limit,limit)\n",
    "\n",
    "    # Draw the shadow\n",
    "    ax.scatter3D([item[0] for item in list], [item[1] for item in list], [-20 for item in list], color='grey')\n",
    "\n",
    "    # Draw the coordinate axes\n",
    "    ax.plot([0,0], [-limit,limit], [0,0], 'g--')\n",
    "    ax.plot([-limit,limit], [0, 0], [0,0], 'g--')\n",
    "    ax.plot([0,0], [0, 0], [-limit,limit], 'g--')\n",
    "\n",
    "    # Now draw the points\n",
    "    ax.scatter3D([item[0] for item in list], [item[1] for item in list], [item[2] for item in list], c=[item[2] for item in list])\n",
    "\n",
    "    plt.draw()\n",
    "    plt.show()   "
   ]
  },
  {
   "cell_type": "markdown",
   "id": "6b0b0d91",
   "metadata": {},
   "source": [
    "### If you have Holoviews and Plotly installed and working,\n",
    "then you can get an interactive 3d view using the fancy version defined below."
   ]
  },
  {
   "cell_type": "code",
   "execution_count": null,
   "id": "d998b228",
   "metadata": {},
   "outputs": [],
   "source": [
    "\n",
    "import holoviews as hv\n",
    "from holoviews import dim, opts\n",
    "hv.extension('plotly')\n",
    "\n",
    "def FancyPlot3dVectors(list):\n",
    "    xcoords=[]\n",
    "    ycoords=[]\n",
    "    zcoords=[]\n",
    "    colorlist=[]\n",
    "    for vect in list:\n",
    "        steps = np.mgrid[0:100]*0.01\n",
    "        x = steps*vect[0]\n",
    "        y = steps*vect[1]\n",
    "        z = steps*vect[2]\n",
    "        xcoords += [val for val in x]\n",
    "        ycoords += [val for val in y]\n",
    "        zcoords += [val for val in z]\n",
    "        colorlist += [(1-val) for val in steps]\n",
    "    xcoords = np.array(xcoords)\n",
    "    ycoords = np.array(ycoords)\n",
    "    zcoords = np.array(zcoords)\n",
    "    return hv.Scatter3D((xcoords, ycoords, zcoords)).opts(cmap='fire', color=colorlist, size=5, width=800, height=800)\n"
   ]
  },
  {
   "cell_type": "markdown",
   "id": "d5f72ea8",
   "metadata": {},
   "source": [
    "# -----------------------------------------------------\n",
    "# Now some quick basics in Python\n"
   ]
  },
  {
   "cell_type": "markdown",
   "id": "4090f073",
   "metadata": {},
   "source": [
    "We can easily do basic mathematical operations:\n",
    "\n",
    "* addition and subtraction: + and -\n",
    "* multiplication:  *\n",
    "* division: /\n",
    "* powers x^y:  math.pow(x,y)\n",
    "* useful functions:  math.exp(), math.sqrt(), math.log(), etc\n",
    "* trig functions: math.sin(), math.cos(), math.tan(), math.asin(), math.acos(), math.atan()  (all in radians)\n"
   ]
  },
  {
   "cell_type": "markdown",
   "id": "efcbd338",
   "metadata": {},
   "source": [
    "### Vectors\n",
    "\n",
    "Python lists are okay for storing data, but to do mathematics gracefully, it is helpful to convert them into vectors for use with NumPy. As we saw earlier, the command np.array(...) turns a list of numbers into a NumPy vector."
   ]
  },
  {
   "cell_type": "code",
   "execution_count": null,
   "id": "eee40301",
   "metadata": {},
   "outputs": [],
   "source": [
    "U = np.array( [1,2] )   \n",
    "V = np.array( [2,10] )\n",
    "\n",
    "A = [5.1, 6.8, 9, 10]\n",
    "W = np.array(A)\n",
    "\n",
    "print(U,V,W)"
   ]
  },
  {
   "cell_type": "markdown",
   "id": "43711f96",
   "metadata": {},
   "source": [
    "Now we can do operations with vectors, such as addition and multiplication by a scalar."
   ]
  },
  {
   "cell_type": "code",
   "execution_count": null,
   "id": "f86d52ae",
   "metadata": {},
   "outputs": [],
   "source": [
    "print('U =',U)\n",
    "print('V =',V)\n",
    "print('U+V =',U + V)\n",
    "print('4U =',4*U)"
   ]
  },
  {
   "cell_type": "markdown",
   "id": "c9e7b7cb",
   "metadata": {},
   "source": [
    "A linear combination of vectors is thus very easy with NumPy:"
   ]
  },
  {
   "cell_type": "code",
   "execution_count": null,
   "id": "4a971dfa",
   "metadata": {},
   "outputs": [],
   "source": [
    "U = np.array([1,2, 3])   \n",
    "V = np.array([4,5,6])\n",
    "W = np.array([7,8,9])\n",
    "\n",
    "10*U + 2*V - 5*W "
   ]
  },
  {
   "cell_type": "markdown",
   "id": "09d78f39-9fbc-4658-95ff-5762558eb31b",
   "metadata": {},
   "source": [
    "A useful trick with NumPy is to apply some mathematical operation to every element in a vector.\n",
    "\n",
    "For example, \n",
    "* U+1 \n",
    "adds 1 to each element of U, and\n",
    "*  U\\**2\n",
    "squares each element of U.\n",
    "\n",
    "In contrast, if you wanted to square every element in a list *without NumPy*, then you would need a for loop, like this:\n",
    "* ListOfSquares = [x\\**2 for x in ListOfNumbers]\n",
    "\n",
    "\n",
    "We can also apply certain mathematical functions to each element in a vector.  For example if you want to take the cosine of every number in a vector, you can use\n",
    "\n",
    "* np.cos(U)\n",
    "\n",
    "Note that we have to use np.cos instead of math.cos because math.cos doesn't know how to work with vectors.\n",
    "\n",
    "There is more.  If U+V means add each element of U to the corresponding element of V, can you guess what U\\**V or U/V might do?  If you're not sure, go ahead and try it below.\n",
    "\n"
   ]
  },
  {
   "cell_type": "code",
   "execution_count": null,
   "id": "214d0407-fb6e-41a2-be89-948de538ea82",
   "metadata": {
    "tags": []
   },
   "outputs": [],
   "source": [
    "# code here"
   ]
  },
  {
   "cell_type": "markdown",
   "id": "840bc2cb",
   "metadata": {},
   "source": [
    "### Use U @ V for the dot product of vectors\n",
    "NumPy has an operator that automatically computes the dot product of two vectors (as long as they both have the same length).\n",
    "Use U @ V to compute $\\vec{U}\\cdot \\vec{V}$.\n",
    "\n",
    "(Next week we'll see that the @ operator is also used for matrix multiplication.)"
   ]
  },
  {
   "cell_type": "markdown",
   "id": "55a58412-829c-43c8-a888-51f52e765f27",
   "metadata": {},
   "source": [
    "### Visualisations\n",
    "\n",
    "In the initialisation block at the top, there are some easy-to-use plotting functions defined for you.\n",
    "\n",
    "**Plot2dVectors(...)** takes a list of 2d (x,y) vectors as input (the vectors can be np.arrays or simply Python lists of numbes) and draws them in the plane.\n",
    "\n",
    "**Plot3dvectors(...)** does the same in 3d.  \n",
    "\n",
    "Making sense of 3d plots is sometimes difficult, and it can be useful to have a plot that you can rotate around and look at from different directions.  if **Plotly** is working for you, you can use the 'fancy' version instead\n",
    "\n",
    "**FancyPlot3dVectors(...)**\n",
    "\n"
   ]
  },
  {
   "cell_type": "code",
   "execution_count": null,
   "id": "61d5fdfe",
   "metadata": {},
   "outputs": [],
   "source": [
    "# An example of 2d plotting\n",
    "\n",
    "vect1 = [2, 5]\n",
    "vect2 = [5,-4]\n",
    "vect3 = [-4,0]\n",
    "\n",
    "list_of_vectors = [vect1, vect2, vect3]\n",
    "Plot2dVectors(list_of_vectors)\n",
    "\n"
   ]
  },
  {
   "cell_type": "code",
   "execution_count": null,
   "id": "c7742df8-a808-44aa-976c-9e059976a6bc",
   "metadata": {
    "tags": []
   },
   "outputs": [],
   "source": [
    "# An example of 3d plotting.\n",
    "# The input is a list containing some number of 3d vectors [x,y,z] (as Python lists or np.array objects)\n",
    "\n",
    "Plot3dVectors( [[7,7,3], [5,-5,2], [-8,1,5], [-5, -10, 5]] )"
   ]
  },
  {
   "cell_type": "code",
   "execution_count": null,
   "id": "8660c362-c7bd-4f27-b38d-a4e1a016fe87",
   "metadata": {
    "tags": []
   },
   "outputs": [],
   "source": [
    "FancyPlot3dVectors( [[7,7,3], [5,-5,2], [-8,1,5], [-5, -10, 5]] )\n"
   ]
  },
  {
   "cell_type": "markdown",
   "id": "45863664",
   "metadata": {},
   "source": [
    "---\n",
    "#  Now it is your turn to do work on some exercises \n"
   ]
  },
  {
   "cell_type": "markdown",
   "id": "474d0d19",
   "metadata": {},
   "source": [
    "---\n",
    "### Exercise 1\n",
    "\n",
    "1. What is the length of the vector $\\vec{v}=(1,2)$?  Use the dot product.\n",
    "2. What is the angle between the vectors $\\vec{u}=(3,0)$ and $\\vec{v}$? Use the dot product. \n",
    "3. What is the angle between the vectors $\\vec{u}$ and $\\vec{w}=(-1,2)$?\n",
    "4. Now find the angle between the 3d vectors (5,1,0) and (-4,2,7)."
   ]
  },
  {
   "cell_type": "code",
   "execution_count": null,
   "id": "51f0c597",
   "metadata": {},
   "outputs": [],
   "source": [
    "# Write some code here\n",
    "\n",
    "u = ...\n",
    "v = ...\n",
    "w = ...\n",
    "\n"
   ]
  },
  {
   "cell_type": "markdown",
   "id": "44cb9f1f-b420-49cf-af07-94ba5418f999",
   "metadata": {
    "tags": []
   },
   "source": [
    "4. Write a function **Proj(vect1, vect2)** that calculates and returns the projection of vect1 onto vect2.  Make sure it works in both 2d and 3d (and higher dimensions).\n",
    "5. Use your function to calculate the projection of $\\vec{u}$ onto $\\vec{v}$, and the projection of $\\vec{w}$ onto $\\vec{v}$."
   ]
  },
  {
   "cell_type": "code",
   "execution_count": null,
   "id": "9c7c9477-513a-4a3b-a740-2f931c35014f",
   "metadata": {
    "tags": []
   },
   "outputs": [],
   "source": [
    "def Proj(vect1, vect2):\n",
    "    # put some code here\n",
    "    ...\n",
    "    return ...\n"
   ]
  },
  {
   "cell_type": "markdown",
   "id": "8a99dbd7-8735-4377-aaa7-98cf9167e444",
   "metadata": {},
   "source": [
    "Here is some code to draw a plot and check that you code is working correctly in 2d."
   ]
  },
  {
   "cell_type": "code",
   "execution_count": null,
   "id": "f004810d-e815-43cc-a657-88779fcfb512",
   "metadata": {
    "tags": []
   },
   "outputs": [],
   "source": [
    "def Plot2dProjection(vect1, vect2):   \n",
    "    p = figure(width=800, height=600, title=\"Vectors!\")\n",
    "    vect3 = Proj(vect1, vect2)\n",
    "    for vect in [vect1, vect2, vect3]:\n",
    "        xcoords = [0,vect[0]]\n",
    "        ycoords = [0,vect[1]]\n",
    "        p.line(xcoords, ycoords, line_width=2, color='blue')\n",
    "        p.circle([vect[0]], [vect[1]], color='red', size=6)\n",
    "    p.line([vect3[0], vect1[0]], [vect3[1], vect1[1]], line_width=2, color='grey')\n",
    "    show(p)"
   ]
  },
  {
   "cell_type": "code",
   "execution_count": null,
   "id": "1eb07838-49df-4c03-b3c1-87e8d4455b83",
   "metadata": {
    "tags": []
   },
   "outputs": [],
   "source": [
    "# Test your projection function here.\n",
    "Plot2dProjection(..., ...)"
   ]
  },
  {
   "cell_type": "markdown",
   "id": "07a478e0-1fdb-45d5-bbda-42806e083ba4",
   "metadata": {},
   "source": [
    "---\n",
    "# Exercise 2\n",
    "\n",
    "The equation $L_1: 5x - 2y = 0$ defines a line in the plane $\\mathbb{R}^2$.  \n",
    "\n",
    " 1. Find a few points on $L_1$. \n",
    " 2. Use your Proj function to find the distance from the point (10,10) to $L_1$.\n",
    " "
   ]
  },
  {
   "cell_type": "code",
   "execution_count": null,
   "id": "314d9c18-dbec-467c-b47e-4ab29000f060",
   "metadata": {
    "tags": []
   },
   "outputs": [],
   "source": [
    "# code here\n"
   ]
  },
  {
   "cell_type": "markdown",
   "id": "d514b098-5b98-4240-acd5-802f9223063c",
   "metadata": {},
   "source": [
    " Now consider the line $L_2: 4x + 3y = 8$. Note that this line doesn't pass through the origin.\n",
    " \n",
    " 3. Find a couple of points on this line.\n",
    "\n",
    "If $\\vec{v}=(a,b)$ is a vector that lies on the line $L_2$, then translating by -$\\vec{v}$ should give us a line that passes through the origin.  \n",
    "\n",
    "5. Find the distance from the point (10,10) to the line $L_2$. To do this, you can translate everything by $-\\vec{v}$ and then use the same method as you used in part 2. "
   ]
  },
  {
   "cell_type": "markdown",
   "id": "95059bdd",
   "metadata": {},
   "source": [
    "---\n",
    "# Exercise 3\n",
    "\n",
    "We have some hippos in the zoo and the vet comes to check on them.  She measures weight W (in tonnes) and body circumferences C (in meters).  In a healthy hippo we expect these numbers to be related:\n",
    "$$ 3W = 2C. $$\n",
    "\n",
    "The hippos in give the following (W,C) vectors.\n",
    "\n",
    "* Hippo 1: (5, 7.5)\n",
    "* Hippo 2: (6, 7)\n",
    "* Hippo 3: (4.5, 6.75)\n",
    "* Hippo 4: (6.6, 9.9)\n",
    "\n",
    "Tasks: \n",
    "1. Plot these data points.\n",
    "2. The vet suspects that one hippo is unwell! Which one?  \n",
    "\n",
    "*Note:  This is a little different from the usual linear regression setup where one variable is independent and the other is dependent.  Here W and C are related, but we shouldn't consider one dependent.  Instead, think of this as being about distance to a line.*\n",
    "\n",
    "3. Use projection to find out what its weight and circumference should probably be.\n",
    "4. Can you find a vector $\\vec{v}$ such that a hippo is healthy if the dot product $\\vec{v} \\cdot (W,C)$ is approximately zero?"
   ]
  },
  {
   "cell_type": "code",
   "execution_count": null,
   "id": "af6601ce",
   "metadata": {},
   "outputs": [],
   "source": [
    "h1 = [5, 7.4]\n",
    "h2 = [6.3, 7]\n",
    "h3 = [4.5, 6.75]\n",
    "h4 = [6.6, 9.7]\n",
    "\n",
    "# code here\n"
   ]
  },
  {
   "cell_type": "code",
   "execution_count": null,
   "id": "e06d7f4b-c9cc-4296-958a-f9c08b20af84",
   "metadata": {
    "tags": []
   },
   "outputs": [],
   "source": [
    "[100/78, 200/160]"
   ]
  },
  {
   "cell_type": "markdown",
   "id": "e7f67e0f-faaf-4209-8dbb-80ef6196d110",
   "metadata": {},
   "source": [
    "---\n",
    "\n",
    "# Exercise 4\n",
    "\n",
    "In machine learning and data science, we often have vectors where the length doesn't matter much but the direction is important.  In a situation like this, if we want to measure how similar two vectors are, we might just look at the angle between the vectors.  In fact, we can use the cosine of the angle as a measure of the similariy.  A cosine of 1 means the vectors point in the same direction, 0 means they are orthogonal, and -1 means they point in opposite directions.  This is called **cosine similarity**.\n",
    "\n",
    "One example where cosine similarity gets used frequently is in text analysis.  We might compare the relative frequencies of words or letters.  Does one document use consonants more than vowels when compared to another?  Suppose one text has 100 consonants and 78 vowels, while another has 200 consonants and 160 vowels.  The second text is twice as long, so the distance between the points (100,78) and (200,160) might be large, but the ratios 100/78 = 1.28 and 200/160 = 1.25 are very close.  Eventhough their lengths are very different, these two vectors point in nearly the same direction and so their cosine siilarity is close to 1.  \n",
    "\n",
    "\n",
    "Here is an example.  Consider the following poems.\n",
    "\n",
    "### 1 \n",
    "\n",
    "*Some primal termite knocked on wood\n",
    "\n",
    "And tasted it, and found it good!\n",
    "\n",
    "And that is why your Cousin May\n",
    "\n",
    "Fell through the parlor floor today.*\n",
    "\n",
    "### 2\n",
    "\n",
    "*When I was One,\n",
    "\n",
    "I had just begun.\n",
    "\n",
    "When I was Two,\n",
    "\n",
    "I was nearly new.\n",
    "\n",
    "When I was Three\n",
    "\n",
    "I was hardly me.\n",
    "\n",
    "When I was Four,\n",
    "\n",
    "I was not much more.\n",
    "\n",
    "When I was Five,\n",
    "\n",
    "I was just alive.\n",
    "\n",
    "But now I am Six,\n",
    "\n",
    "I'm as clever as clever,\n",
    "\n",
    "So I think I'll be six now for ever and ever. *\n",
    "\n",
    "### 3\n",
    "\n",
    "And death shall have no dominion.\n",
    "\n",
    "Dead man naked they shall be one\n",
    "\n",
    "With the man in the wind and the west moon;\n",
    "\n",
    "When their bones are picked clean and the clean bones gone,\n",
    "\n",
    "They shall have stars at elbow and foot;\n",
    "\n",
    "Though they go mad they shall be sane,\n",
    "\n",
    "Though they sink through the sea they shall rise again;\n",
    "\n",
    "Though lovers be lost love shall not;\n",
    "\n",
    "And death shall have no dominion.\n",
    "\n",
    "And death shall have no dominion.\n",
    "\n",
    "Under the windings of the sea\n",
    "\n",
    "They lying long shall not die windily;\n",
    "\n",
    "Twisting on racks when sinews give way,\n",
    "\n",
    "Strapped to a wheel, yet they shall not break;\n",
    "\n",
    "Faith in their hands shall snap in two,\n",
    "\n",
    "And the unicorn evils run them through;\n",
    "\n",
    "Split all ends up they shan’t crack;\n",
    "\n",
    "And death shall have no dominion.\n",
    "\n",
    "And death shall have no dominion.\n",
    "\n",
    "No more may gulls cry at their ears\n",
    "\n",
    "Or waves break loud on the seashores;\n",
    "\n",
    "Where blew a flower may a flower no more\n",
    "\n",
    "Lift its head to the blows of the rain;\n",
    "\n",
    "Though they be mad and dead as nails,\n",
    "\n",
    "Heads of the characters hammer through daisies;\n",
    "\n",
    "Break in the sun till the sun breaks down,\n",
    "\n",
    "And death shall have no dominion.\n",
    "\n",
    "### ----------------\n",
    "\n",
    "For each of these poems, count how many times the letters d,e, and m occur.  For example, there are two d's in the first one.  Put these numbers into a vector for each poem.\n",
    "\n",
    "P1 = (number of d's, number of e's, number of m's) of poem 1.\n",
    "P2 = same for poem 2.\n",
    "P2 = same for poem 3.\n",
    "\n",
    "Note that one poem is significantly longer than the others, so we expect any letter count to be higher for it.\n",
    "\n",
    "Calculate the cosine similarity between each pair of P1, P2, P3.\n"
   ]
  },
  {
   "cell_type": "code",
   "execution_count": null,
   "id": "33e0bbe2-1c51-4440-91e4-a9d10011837d",
   "metadata": {},
   "outputs": [],
   "source": [
    "# code here\n",
    "# It might be helpful to use the string.count method to count occurrences of each letter, as shown below.\n",
    "\n",
    "a_string = \"the quick brown fox\"\n",
    "print(a_string.count('q'))\n"
   ]
  }
 ],
 "metadata": {
  "kernelspec": {
   "display_name": "Python 3 (ipykernel)",
   "language": "python",
   "name": "python3"
  },
  "language_info": {
   "codemirror_mode": {
    "name": "ipython",
    "version": 3
   },
   "file_extension": ".py",
   "mimetype": "text/x-python",
   "name": "python",
   "nbconvert_exporter": "python",
   "pygments_lexer": "ipython3",
   "version": "3.10.13"
  }
 },
 "nbformat": 4,
 "nbformat_minor": 5
}
