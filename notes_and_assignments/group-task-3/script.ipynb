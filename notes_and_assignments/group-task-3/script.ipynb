{
 "cells": [
  {
   "cell_type": "markdown",
   "metadata": {},
   "source": [
    "## Question 1 AB Matrix Product"
   ]
  },
  {
   "cell_type": "code",
   "execution_count": 2,
   "metadata": {},
   "outputs": [
    {
     "name": "stdout",
     "output_type": "stream",
     "text": [
      "Vectors are linearly dependent.\n"
     ]
    }
   ],
   "source": [
    "import numpy as np\n",
    "\n",
    "# Define the matrix\n",
    "matrix = np.array([[1, 4, 5],\n",
    "                   [3, -1, 2],\n",
    "                   [4, 5, 9]])\n",
    "\n",
    "# Calculate the determinant of the matrix\n",
    "determinant = np.linalg.det(matrix)\n",
    "\n",
    "# Check for linear independence\n",
    "if determinant != 0:\n",
    "    print(\"Vectors are linearly independent.\")\n",
    "else:\n",
    "    print(\"Vectors are linearly dependent.\")"
   ]
  },
  {
   "cell_type": "code",
   "execution_count": 7,
   "metadata": {},
   "outputs": [
    {
     "name": "stdout",
     "output_type": "stream",
     "text": [
      "The vector (1, 0, -1) is in the plane spanned by (4, 11, 7) and (3, 11, 8).\n",
      "x = 0.999999999999999\n",
      "y = -0.9999999999999994\n"
     ]
    }
   ],
   "source": [
    "import numpy as np\n",
    "\n",
    "# Define the vectors\n",
    "v = np.array([1, 0, -1])\n",
    "u1 = np.array([4, 11, 7])\n",
    "u2 = np.array([3, 11, 8])\n",
    "\n",
    "# Create the coefficient matrix and the constant vector\n",
    "coeff_matrix = np.array([[4, 3], [11, 11], [7, 8]])\n",
    "constants = np.array([1, 0, -1])\n",
    "\n",
    "# Solve the system of equations\n",
    "coefficients = np.linalg.lstsq(coeff_matrix, constants, rcond=None)[0]\n",
    "\n",
    "# Check if a solution exists\n",
    "if np.allclose(np.dot(coeff_matrix, coefficients), constants):\n",
    "    print(\"The vector (1, 0, -1) is in the plane spanned by (4, 11, 7) and (3, 11, 8).\")\n",
    "else:\n",
    "    print(\"The vector (1, 0, -1) is not in the plane spanned by (4, 11, 7) and (3, 11, 8).\")\n",
    "\n",
    "print(\"x =\", coefficients[0])\n",
    "print(\"y =\", coefficients[1])"
   ]
  },
  {
   "cell_type": "code",
   "execution_count": 4,
   "metadata": {},
   "outputs": [
    {
     "name": "stdout",
     "output_type": "stream",
     "text": [
      "c1 = 0.999999999999999\n",
      "c2 = -0.9999999999999994\n"
     ]
    }
   ],
   "source": [
    "import numpy as np\n",
    "\n",
    "# 定义向量\n",
    "v = np.array([1, 0, -1])\n",
    "u1 = np.array([4, 11, 7])\n",
    "u2 = np.array([3, 11, 8])\n",
    "\n",
    "# 构建系数矩阵\n",
    "coeff_matrix = np.vstack((u1, u2)).T\n",
    "\n",
    "# 解线性方程组\n",
    "coefficients, _, _, _ = np.linalg.lstsq(coeff_matrix, v, rcond=None)\n",
    "\n",
    "# 输出系数\n",
    "print(\"c1 =\", coefficients[0])\n",
    "print(\"c2 =\", coefficients[1])\n"
   ]
  },
  {
   "cell_type": "code",
   "execution_count": null,
   "metadata": {},
   "outputs": [],
   "source": []
  }
 ],
 "metadata": {
  "kernelspec": {
   "display_name": "IMDS",
   "language": "python",
   "name": "python3"
  },
  "language_info": {
   "codemirror_mode": {
    "name": "ipython",
    "version": 3
   },
   "file_extension": ".py",
   "mimetype": "text/x-python",
   "name": "python",
   "nbconvert_exporter": "python",
   "pygments_lexer": "ipython3",
   "version": "3.9.18"
  }
 },
 "nbformat": 4,
 "nbformat_minor": 2
}
