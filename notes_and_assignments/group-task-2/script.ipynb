{
 "cells": [
  {
   "cell_type": "markdown",
   "metadata": {},
   "source": [
    "## Question 1 AB Matrix Product"
   ]
  },
  {
   "cell_type": "code",
   "execution_count": 1,
   "metadata": {},
   "outputs": [
    {
     "ename": "ValueError",
     "evalue": "shapes (3,4) and (3,3) not aligned: 4 (dim 1) != 3 (dim 0)",
     "output_type": "error",
     "traceback": [
      "\u001b[1;31m---------------------------------------------------------------------------\u001b[0m",
      "\u001b[1;31mValueError\u001b[0m                                Traceback (most recent call last)",
      "\u001b[1;32mc:\\Users\\QianZ\\Documents\\Project\\IMDS\\notes_and_assignments\\group-task-2\\script.ipynb 单元格 2\u001b[0m line \u001b[0;36m1\n\u001b[0;32m     <a href='vscode-notebook-cell:/c%3A/Users/QianZ/Documents/Project/IMDS/notes_and_assignments/group-task-2/script.ipynb#W3sZmlsZQ%3D%3D?line=9'>10</a>\u001b[0m B \u001b[39m=\u001b[39m np\u001b[39m.\u001b[39marray([\n\u001b[0;32m     <a href='vscode-notebook-cell:/c%3A/Users/QianZ/Documents/Project/IMDS/notes_and_assignments/group-task-2/script.ipynb#W3sZmlsZQ%3D%3D?line=10'>11</a>\u001b[0m     [\u001b[39m7\u001b[39m, \u001b[39m-\u001b[39m\u001b[39m1\u001b[39m, \u001b[39m2\u001b[39m],\n\u001b[0;32m     <a href='vscode-notebook-cell:/c%3A/Users/QianZ/Documents/Project/IMDS/notes_and_assignments/group-task-2/script.ipynb#W3sZmlsZQ%3D%3D?line=11'>12</a>\u001b[0m     [\u001b[39m1\u001b[39m, \u001b[39m1\u001b[39m, \u001b[39m0\u001b[39m],\n\u001b[0;32m     <a href='vscode-notebook-cell:/c%3A/Users/QianZ/Documents/Project/IMDS/notes_and_assignments/group-task-2/script.ipynb#W3sZmlsZQ%3D%3D?line=12'>13</a>\u001b[0m     [\u001b[39m2\u001b[39m, \u001b[39m0\u001b[39m, \u001b[39m1\u001b[39m]\n\u001b[0;32m     <a href='vscode-notebook-cell:/c%3A/Users/QianZ/Documents/Project/IMDS/notes_and_assignments/group-task-2/script.ipynb#W3sZmlsZQ%3D%3D?line=13'>14</a>\u001b[0m ])\n\u001b[0;32m     <a href='vscode-notebook-cell:/c%3A/Users/QianZ/Documents/Project/IMDS/notes_and_assignments/group-task-2/script.ipynb#W3sZmlsZQ%3D%3D?line=15'>16</a>\u001b[0m \u001b[39m# Calculate the product of A and B\u001b[39;00m\n\u001b[1;32m---> <a href='vscode-notebook-cell:/c%3A/Users/QianZ/Documents/Project/IMDS/notes_and_assignments/group-task-2/script.ipynb#W3sZmlsZQ%3D%3D?line=16'>17</a>\u001b[0m AB_product \u001b[39m=\u001b[39m np\u001b[39m.\u001b[39;49mdot(A, B)\n\u001b[0;32m     <a href='vscode-notebook-cell:/c%3A/Users/QianZ/Documents/Project/IMDS/notes_and_assignments/group-task-2/script.ipynb#W3sZmlsZQ%3D%3D?line=17'>18</a>\u001b[0m AB_product\n",
      "\u001b[1;31mValueError\u001b[0m: shapes (3,4) and (3,3) not aligned: 4 (dim 1) != 3 (dim 0)"
     ]
    }
   ],
   "source": [
    "import numpy as np\n",
    "\n",
    "# Define the matrices A and B\n",
    "A = np.array([\n",
    "    [1, 0, 4, 1],\n",
    "    [0, 2, 0, 2],\n",
    "    [6, 0, 3, 11]\n",
    "])\n",
    "\n",
    "B = np.array([\n",
    "    [7, -1, 2],\n",
    "    [1, 1, 0],\n",
    "    [2, 0, 1]\n",
    "])\n",
    "\n",
    "# Calculate the product of A and B\n",
    "AB_product = np.dot(A, B)\n",
    "AB_product\n"
   ]
  },
  {
   "cell_type": "markdown",
   "metadata": {},
   "source": [
    "## Question 2 Dimension of the span"
   ]
  },
  {
   "cell_type": "code",
   "execution_count": 1,
   "metadata": {},
   "outputs": [
    {
     "data": {
      "text/plain": [
       "3"
      ]
     },
     "execution_count": 1,
     "metadata": {},
     "output_type": "execute_result"
    }
   ],
   "source": [
    "import numpy as np\n",
    "\n",
    "# Define the vectors\n",
    "vectors = np.array([\n",
    "    [5, 2, 0, 7],\n",
    "    [7, 5, 0, 12],\n",
    "    [9, 0, 0, 9],\n",
    "    [0, 1, 1, 3]\n",
    "])\n",
    "\n",
    "# Using numpy to find the rank of the matrix composed of the given vectors\n",
    "rank_of_matrix = np.linalg.matrix_rank(vectors)\n",
    "rank_of_matrix"
   ]
  },
  {
   "cell_type": "code",
   "execution_count": null,
   "metadata": {},
   "outputs": [],
   "source": []
  }
 ],
 "metadata": {
  "kernelspec": {
   "display_name": "IMDS",
   "language": "python",
   "name": "python3"
  },
  "language_info": {
   "codemirror_mode": {
    "name": "ipython",
    "version": 3
   },
   "file_extension": ".py",
   "mimetype": "text/x-python",
   "name": "python",
   "nbconvert_exporter": "python",
   "pygments_lexer": "ipython3",
   "version": "3.10.13"
  }
 },
 "nbformat": 4,
 "nbformat_minor": 2
}
