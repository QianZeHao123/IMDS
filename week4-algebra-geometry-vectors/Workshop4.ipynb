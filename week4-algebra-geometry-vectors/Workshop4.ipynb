{
 "cells": [
  {
   "cell_type": "markdown",
   "id": "b1c625ab",
   "metadata": {},
   "source": [
    "# IMDS Computer Workshop 4\n",
    "### *By Jeffrey Giansiracusa - Michaelmas 2023*\n",
    "\n",
    "\n",
    "This worksheet covers the content of lectures:\n",
    "\n",
    "    4.1 Vectors and vector spaces\n",
    "    4.2 Dot product\n",
    "    4.3 Projections\n",
    "\n",
    "Key points for you to learn:\n",
    "\n",
    "* Vectors, addition and scalar multiplication\n",
    "* The dot product and how we use it to measure lengths and angles\n",
    "* Projection of vectors onto a line\n"
   ]
  },
  {
   "cell_type": "markdown",
   "id": "cb567ac3",
   "metadata": {},
   "source": [
    "# Initialization code to run before you start your work\n",
    "\n",
    "Click on the cell below and then type Shift-Return to execute it."
   ]
  },
  {
   "cell_type": "code",
   "execution_count": 1,
   "id": "ee4ab88a",
   "metadata": {},
   "outputs": [
    {
     "data": {
      "text/html": [
       "<style>\n",
       "        .bk-notebook-logo {\n",
       "            display: block;\n",
       "            width: 20px;\n",
       "            height: 20px;\n",
       "            background-image: url(data:image/png;base64,iVBORw0KGgoAAAANSUhEUgAAABQAAAAUCAYAAACNiR0NAAAABHNCSVQICAgIfAhkiAAAAAlwSFlzAAALEgAACxIB0t1+/AAAABx0RVh0U29mdHdhcmUAQWRvYmUgRmlyZXdvcmtzIENTNui8sowAAAOkSURBVDiNjZRtaJVlGMd/1/08zzln5zjP1LWcU9N0NkN8m2CYjpgQYQXqSs0I84OLIC0hkEKoPtiH3gmKoiJDU7QpLgoLjLIQCpEsNJ1vqUOdO7ppbuec5+V+rj4ctwzd8IIbbi6u+8f1539dt3A78eXC7QizUF7gyV1fD1Yqg4JWz84yffhm0qkFqBogB9rM8tZdtwVsPUhWhGcFJngGeWrPzHm5oaMmkfEg1usvLFyc8jLRqDOMru7AyC8saQr7GG7f5fvDeH7Ej8CM66nIF+8yngt6HWaKh7k49Soy9nXurCi1o3qUbS3zWfrYeQDTB/Qj6kX6Ybhw4B+bOYoLKCC9H3Nu/leUTZ1JdRWkkn2ldcCamzrcf47KKXdAJllSlxAOkRgyHsGC/zRday5Qld9DyoM4/q/rUoy/CXh3jzOu3bHUVZeU+DEn8FInkPBFlu3+nW3Nw0mk6vCDiWg8CeJaxEwuHS3+z5RgY+YBR6V1Z1nxSOfoaPa4LASWxxdNp+VWTk7+4vzaou8v8PN+xo+KY2xsw6une2frhw05CTYOmQvsEhjhWjn0bmXPjpE1+kplmmkP3suftwTubK9Vq22qKmrBhpY4jvd5afdRA3wGjFAgcnTK2s4hY0/GPNIb0nErGMCRxWOOX64Z8RAC4oCXdklmEvcL8o0BfkNK4lUg9HTl+oPlQxdNo3Mg4Nv175e/1LDGzZen30MEjRUtmXSfiTVu1kK8W4txyV6BMKlbgk3lMwYCiusNy9fVfvvwMxv8Ynl6vxoByANLTWplvuj/nF9m2+PDtt1eiHPBr1oIfhCChQMBw6Aw0UulqTKZdfVvfG7VcfIqLG9bcldL/+pdWTLxLUy8Qq38heUIjh4XlzZxzQm19lLFlr8vdQ97rjZVOLf8nclzckbcD4wxXMidpX30sFd37Fv/GtwwhzhxGVAprjbg0gCAEeIgwCZyTV2Z1REEW8O4py0wsjeloKoMr6iCY6dP92H6Vw/oTyICIthibxjm/DfN9lVz8IqtqKYLUXfoKVMVQVVJOElGjrnnUt9T9wbgp8AyYKaGlqingHZU/uG2NTZSVqwHQTWkx9hxjkpWDaCg6Ckj5qebgBVbT3V3NNXMSiWSDdGV3hrtzla7J+duwPOToIg42ChPQOQjspnSlp1V+Gjdged7+8UN5CRAV7a5EdFNwCjEaBR27b3W890TE7g24NAP/mMDXRWrGoFPQI9ls/MWO2dWFAar/xcOIImbbpA3zgAAAABJRU5ErkJggg==);\n",
       "        }\n",
       "    </style>\n",
       "    <div>\n",
       "        <a href=\"https://bokeh.org\" target=\"_blank\" class=\"bk-notebook-logo\"></a>\n",
       "        <span id=\"ffc44863-bca0-47e7-bc2d-9d800db4449d\">Loading BokehJS ...</span>\n",
       "    </div>\n"
      ]
     },
     "metadata": {},
     "output_type": "display_data"
    },
    {
     "data": {
      "application/javascript": "(function(root) {\n  function now() {\n    return new Date();\n  }\n\n  const force = true;\n\n  if (typeof root._bokeh_onload_callbacks === \"undefined\" || force === true) {\n    root._bokeh_onload_callbacks = [];\n    root._bokeh_is_loading = undefined;\n  }\n\nconst JS_MIME_TYPE = 'application/javascript';\n  const HTML_MIME_TYPE = 'text/html';\n  const EXEC_MIME_TYPE = 'application/vnd.bokehjs_exec.v0+json';\n  const CLASS_NAME = 'output_bokeh rendered_html';\n\n  /**\n   * Render data to the DOM node\n   */\n  function render(props, node) {\n    const script = document.createElement(\"script\");\n    node.appendChild(script);\n  }\n\n  /**\n   * Handle when an output is cleared or removed\n   */\n  function handleClearOutput(event, handle) {\n    const cell = handle.cell;\n\n    const id = cell.output_area._bokeh_element_id;\n    const server_id = cell.output_area._bokeh_server_id;\n    // Clean up Bokeh references\n    if (id != null && id in Bokeh.index) {\n      Bokeh.index[id].model.document.clear();\n      delete Bokeh.index[id];\n    }\n\n    if (server_id !== undefined) {\n      // Clean up Bokeh references\n      const cmd_clean = \"from bokeh.io.state import curstate; print(curstate().uuid_to_server['\" + server_id + \"'].get_sessions()[0].document.roots[0]._id)\";\n      cell.notebook.kernel.execute(cmd_clean, {\n        iopub: {\n          output: function(msg) {\n            const id = msg.content.text.trim();\n            if (id in Bokeh.index) {\n              Bokeh.index[id].model.document.clear();\n              delete Bokeh.index[id];\n            }\n          }\n        }\n      });\n      // Destroy server and session\n      const cmd_destroy = \"import bokeh.io.notebook as ion; ion.destroy_server('\" + server_id + \"')\";\n      cell.notebook.kernel.execute(cmd_destroy);\n    }\n  }\n\n  /**\n   * Handle when a new output is added\n   */\n  function handleAddOutput(event, handle) {\n    const output_area = handle.output_area;\n    const output = handle.output;\n\n    // limit handleAddOutput to display_data with EXEC_MIME_TYPE content only\n    if ((output.output_type != \"display_data\") || (!Object.prototype.hasOwnProperty.call(output.data, EXEC_MIME_TYPE))) {\n      return\n    }\n\n    const toinsert = output_area.element.find(\".\" + CLASS_NAME.split(' ')[0]);\n\n    if (output.metadata[EXEC_MIME_TYPE][\"id\"] !== undefined) {\n      toinsert[toinsert.length - 1].firstChild.textContent = output.data[JS_MIME_TYPE];\n      // store reference to embed id on output_area\n      output_area._bokeh_element_id = output.metadata[EXEC_MIME_TYPE][\"id\"];\n    }\n    if (output.metadata[EXEC_MIME_TYPE][\"server_id\"] !== undefined) {\n      const bk_div = document.createElement(\"div\");\n      bk_div.innerHTML = output.data[HTML_MIME_TYPE];\n      const script_attrs = bk_div.children[0].attributes;\n      for (let i = 0; i < script_attrs.length; i++) {\n        toinsert[toinsert.length - 1].firstChild.setAttribute(script_attrs[i].name, script_attrs[i].value);\n        toinsert[toinsert.length - 1].firstChild.textContent = bk_div.children[0].textContent\n      }\n      // store reference to server id on output_area\n      output_area._bokeh_server_id = output.metadata[EXEC_MIME_TYPE][\"server_id\"];\n    }\n  }\n\n  function register_renderer(events, OutputArea) {\n\n    function append_mime(data, metadata, element) {\n      // create a DOM node to render to\n      const toinsert = this.create_output_subarea(\n        metadata,\n        CLASS_NAME,\n        EXEC_MIME_TYPE\n      );\n      this.keyboard_manager.register_events(toinsert);\n      // Render to node\n      const props = {data: data, metadata: metadata[EXEC_MIME_TYPE]};\n      render(props, toinsert[toinsert.length - 1]);\n      element.append(toinsert);\n      return toinsert\n    }\n\n    /* Handle when an output is cleared or removed */\n    events.on('clear_output.CodeCell', handleClearOutput);\n    events.on('delete.Cell', handleClearOutput);\n\n    /* Handle when a new output is added */\n    events.on('output_added.OutputArea', handleAddOutput);\n\n    /**\n     * Register the mime type and append_mime function with output_area\n     */\n    OutputArea.prototype.register_mime_type(EXEC_MIME_TYPE, append_mime, {\n      /* Is output safe? */\n      safe: true,\n      /* Index of renderer in `output_area.display_order` */\n      index: 0\n    });\n  }\n\n  // register the mime type if in Jupyter Notebook environment and previously unregistered\n  if (root.Jupyter !== undefined) {\n    const events = require('base/js/events');\n    const OutputArea = require('notebook/js/outputarea').OutputArea;\n\n    if (OutputArea.prototype.mime_types().indexOf(EXEC_MIME_TYPE) == -1) {\n      register_renderer(events, OutputArea);\n    }\n  }\n  if (typeof (root._bokeh_timeout) === \"undefined\" || force === true) {\n    root._bokeh_timeout = Date.now() + 5000;\n    root._bokeh_failed_load = false;\n  }\n\n  const NB_LOAD_WARNING = {'data': {'text/html':\n     \"<div style='background-color: #fdd'>\\n\"+\n     \"<p>\\n\"+\n     \"BokehJS does not appear to have successfully loaded. If loading BokehJS from CDN, this \\n\"+\n     \"may be due to a slow or bad network connection. Possible fixes:\\n\"+\n     \"</p>\\n\"+\n     \"<ul>\\n\"+\n     \"<li>re-rerun `output_notebook()` to attempt to load from CDN again, or</li>\\n\"+\n     \"<li>use INLINE resources instead, as so:</li>\\n\"+\n     \"</ul>\\n\"+\n     \"<code>\\n\"+\n     \"from bokeh.resources import INLINE\\n\"+\n     \"output_notebook(resources=INLINE)\\n\"+\n     \"</code>\\n\"+\n     \"</div>\"}};\n\n  function display_loaded() {\n    const el = document.getElementById(\"ffc44863-bca0-47e7-bc2d-9d800db4449d\");\n    if (el != null) {\n      el.textContent = \"BokehJS is loading...\";\n    }\n    if (root.Bokeh !== undefined) {\n      if (el != null) {\n        el.textContent = \"BokehJS \" + root.Bokeh.version + \" successfully loaded.\";\n      }\n    } else if (Date.now() < root._bokeh_timeout) {\n      setTimeout(display_loaded, 100)\n    }\n  }\n\n  function run_callbacks() {\n    try {\n      root._bokeh_onload_callbacks.forEach(function(callback) {\n        if (callback != null)\n          callback();\n      });\n    } finally {\n      delete root._bokeh_onload_callbacks\n    }\n    console.debug(\"Bokeh: all callbacks have finished\");\n  }\n\n  function load_libs(css_urls, js_urls, callback) {\n    if (css_urls == null) css_urls = [];\n    if (js_urls == null) js_urls = [];\n\n    root._bokeh_onload_callbacks.push(callback);\n    if (root._bokeh_is_loading > 0) {\n      console.debug(\"Bokeh: BokehJS is being loaded, scheduling callback at\", now());\n      return null;\n    }\n    if (js_urls == null || js_urls.length === 0) {\n      run_callbacks();\n      return null;\n    }\n    console.debug(\"Bokeh: BokehJS not loaded, scheduling load and callback at\", now());\n    root._bokeh_is_loading = css_urls.length + js_urls.length;\n\n    function on_load() {\n      root._bokeh_is_loading--;\n      if (root._bokeh_is_loading === 0) {\n        console.debug(\"Bokeh: all BokehJS libraries/stylesheets loaded\");\n        run_callbacks()\n      }\n    }\n\n    function on_error(url) {\n      console.error(\"failed to load \" + url);\n    }\n\n    for (let i = 0; i < css_urls.length; i++) {\n      const url = css_urls[i];\n      const element = document.createElement(\"link\");\n      element.onload = on_load;\n      element.onerror = on_error.bind(null, url);\n      element.rel = \"stylesheet\";\n      element.type = \"text/css\";\n      element.href = url;\n      console.debug(\"Bokeh: injecting link tag for BokehJS stylesheet: \", url);\n      document.body.appendChild(element);\n    }\n\n    for (let i = 0; i < js_urls.length; i++) {\n      const url = js_urls[i];\n      const element = document.createElement('script');\n      element.onload = on_load;\n      element.onerror = on_error.bind(null, url);\n      element.async = false;\n      element.src = url;\n      console.debug(\"Bokeh: injecting script tag for BokehJS library: \", url);\n      document.head.appendChild(element);\n    }\n  };\n\n  function inject_raw_css(css) {\n    const element = document.createElement(\"style\");\n    element.appendChild(document.createTextNode(css));\n    document.body.appendChild(element);\n  }\n\n  const js_urls = [\"https://cdn.bokeh.org/bokeh/release/bokeh-3.2.2.min.js\", \"https://cdn.bokeh.org/bokeh/release/bokeh-gl-3.2.2.min.js\", \"https://cdn.bokeh.org/bokeh/release/bokeh-widgets-3.2.2.min.js\", \"https://cdn.bokeh.org/bokeh/release/bokeh-tables-3.2.2.min.js\", \"https://cdn.bokeh.org/bokeh/release/bokeh-mathjax-3.2.2.min.js\"];\n  const css_urls = [];\n\n  const inline_js = [    function(Bokeh) {\n      Bokeh.set_log_level(\"info\");\n    },\nfunction(Bokeh) {\n    }\n  ];\n\n  function run_inline_js() {\n    if (root.Bokeh !== undefined || force === true) {\n          for (let i = 0; i < inline_js.length; i++) {\n      inline_js[i].call(root, root.Bokeh);\n    }\nif (force === true) {\n        display_loaded();\n      }} else if (Date.now() < root._bokeh_timeout) {\n      setTimeout(run_inline_js, 100);\n    } else if (!root._bokeh_failed_load) {\n      console.log(\"Bokeh: BokehJS failed to load within specified timeout.\");\n      root._bokeh_failed_load = true;\n    } else if (force !== true) {\n      const cell = $(document.getElementById(\"ffc44863-bca0-47e7-bc2d-9d800db4449d\")).parents('.cell').data().cell;\n      cell.output_area.append_execute_result(NB_LOAD_WARNING)\n    }\n  }\n\n  if (root._bokeh_is_loading === 0) {\n    console.debug(\"Bokeh: BokehJS loaded, going straight to plotting\");\n    run_inline_js();\n  } else {\n    load_libs(css_urls, js_urls, function() {\n      console.debug(\"Bokeh: BokehJS plotting callback run at\", now());\n      run_inline_js();\n    });\n  }\n}(window));",
      "application/vnd.bokehjs_load.v0+json": ""
     },
     "metadata": {},
     "output_type": "display_data"
    }
   ],
   "source": [
    "import numpy as np\n",
    "import math\n",
    "from mpl_toolkits import mplot3d\n",
    "import matplotlib.pyplot as plt\n",
    "\n",
    "from bokeh.io import output_notebook, show\n",
    "from bokeh.plotting import figure\n",
    "output_notebook()\n",
    "\n",
    "\n",
    "# Input is a list of 2d vectors to be plotted.\n",
    "def Plot2dVectors(list_of_endpoints):   \n",
    "    p = figure(width=600, height=600, title=\"Vectors!\")\n",
    "    for vect in list_of_endpoints:\n",
    "        xcoords = [0,vect[0]]\n",
    "        ycoords = [0,vect[1]]\n",
    "        p.line(xcoords, ycoords, line_width=2)\n",
    "        p.circle([vect[0]], [vect[1]], color='red', size=6)\n",
    "    show(p)\n",
    "\n",
    "# Input is a list of 3d vectors\n",
    "# This will draw the vectors with shadows and vertical rise indicators\n",
    "def Plot3dVectors(list):       \n",
    "    ax = plt.axes(projection = '3d')\n",
    "    for vect in list:\n",
    "        ax.plot([0,vect[0]], [0,vect[1]], [0,vect[2]],color='blue')\n",
    "        ax.plot([0,vect[0]], [0,vect[1]], [0,0],color='grey')\n",
    "        ax.plot([vect[0],vect[0]], [vect[1],vect[1]], [0,vect[2]], '--', color='grey')\n",
    "    ax.plot([0,0], [-10,10], 'g--')\n",
    "    ax.plot([-10,10], [0, 0], 'g--')\n",
    "    plt.draw()\n",
    "    plt.show()    \n",
    "\n",
    "def Plot3dDots(list):       \n",
    "    limit=20\n",
    "    plt.figure(figsize=(10, 8), dpi=80)\n",
    "    ax = plt.axes(projection = '3d')\n",
    "    ax.set_xlim(-limit,limit)\n",
    "    ax.set_ylim(-limit,limit)\n",
    "    ax.set_zlim(-limit,limit)\n",
    "\n",
    "    # Draw the shadow\n",
    "    ax.scatter3D([item[0] for item in list], [item[1] for item in list], [-20 for item in list], color='grey')\n",
    "\n",
    "    # Draw the coordinate axes\n",
    "    ax.plot([0,0], [-limit,limit], [0,0], 'g--')\n",
    "    ax.plot([-limit,limit], [0, 0], [0,0], 'g--')\n",
    "    ax.plot([0,0], [0, 0], [-limit,limit], 'g--')\n",
    "\n",
    "    # Now draw the points\n",
    "    ax.scatter3D([item[0] for item in list], [item[1] for item in list], [item[2] for item in list], c=[item[2] for item in list])\n",
    "\n",
    "    plt.draw()\n",
    "    plt.show()   "
   ]
  },
  {
   "cell_type": "markdown",
   "id": "6b0b0d91",
   "metadata": {},
   "source": [
    "### If you have Holoviews and Plotly installed and working,\n",
    "then you can get an interactive 3d view using the fancy version defined below."
   ]
  },
  {
   "cell_type": "code",
   "execution_count": 2,
   "id": "d998b228",
   "metadata": {},
   "outputs": [
    {
     "data": {
      "application/javascript": "(function(root) {\n  function now() {\n    return new Date();\n  }\n\n  var force = true;\n  var py_version = '3.2.2'.replace('rc', '-rc.').replace('.dev', '-dev.');\n  var is_dev = py_version.indexOf(\"+\") !== -1 || py_version.indexOf(\"-\") !== -1;\n  var reloading = false;\n  var Bokeh = root.Bokeh;\n  var bokeh_loaded = Bokeh != null && (Bokeh.version === py_version || (Bokeh.versions !== undefined && Bokeh.versions.has(py_version)));\n\n  if (typeof (root._bokeh_timeout) === \"undefined\" || force) {\n    root._bokeh_timeout = Date.now() + 5000;\n    root._bokeh_failed_load = false;\n  }\n\n  function run_callbacks() {\n    try {\n      root._bokeh_onload_callbacks.forEach(function(callback) {\n        if (callback != null)\n          callback();\n      });\n    } finally {\n      delete root._bokeh_onload_callbacks;\n    }\n    console.debug(\"Bokeh: all callbacks have finished\");\n  }\n\n  function load_libs(css_urls, js_urls, js_modules, js_exports, callback) {\n    if (css_urls == null) css_urls = [];\n    if (js_urls == null) js_urls = [];\n    if (js_modules == null) js_modules = [];\n    if (js_exports == null) js_exports = {};\n\n    root._bokeh_onload_callbacks.push(callback);\n\n    if (root._bokeh_is_loading > 0) {\n      console.debug(\"Bokeh: BokehJS is being loaded, scheduling callback at\", now());\n      return null;\n    }\n    if (js_urls.length === 0 && js_modules.length === 0 && Object.keys(js_exports).length === 0) {\n      run_callbacks();\n      return null;\n    }\n    if (!reloading) {\n      console.debug(\"Bokeh: BokehJS not loaded, scheduling load and callback at\", now());\n    }\n\n    function on_load() {\n      root._bokeh_is_loading--;\n      if (root._bokeh_is_loading === 0) {\n        console.debug(\"Bokeh: all BokehJS libraries/stylesheets loaded\");\n        run_callbacks()\n      }\n    }\n    window._bokeh_on_load = on_load\n\n    function on_error() {\n      console.error(\"failed to load \" + url);\n    }\n\n    var skip = [];\n    if (window.requirejs) {\n      window.requirejs.config({'packages': {}, 'paths': {'plotly': 'https://cdn.plot.ly/plotly-2.18.0.min', 'jspanel': 'https://cdn.jsdelivr.net/npm/jspanel4@4.12.0/dist/jspanel', 'jspanel-modal': 'https://cdn.jsdelivr.net/npm/jspanel4@4.12.0/dist/extensions/modal/jspanel.modal', 'jspanel-tooltip': 'https://cdn.jsdelivr.net/npm/jspanel4@4.12.0/dist/extensions/tooltip/jspanel.tooltip', 'jspanel-hint': 'https://cdn.jsdelivr.net/npm/jspanel4@4.12.0/dist/extensions/hint/jspanel.hint', 'jspanel-layout': 'https://cdn.jsdelivr.net/npm/jspanel4@4.12.0/dist/extensions/layout/jspanel.layout', 'jspanel-contextmenu': 'https://cdn.jsdelivr.net/npm/jspanel4@4.12.0/dist/extensions/contextmenu/jspanel.contextmenu', 'jspanel-dock': 'https://cdn.jsdelivr.net/npm/jspanel4@4.12.0/dist/extensions/dock/jspanel.dock', 'gridstack': 'https://cdn.jsdelivr.net/npm/gridstack@7.2.3/dist/gridstack-all', 'notyf': 'https://cdn.jsdelivr.net/npm/notyf@3/notyf.min'}, 'shim': {'jspanel': {'exports': 'jsPanel'}, 'gridstack': {'exports': 'GridStack'}}});\n      require([\"plotly\"], function(Plotly) {\n\twindow.Plotly = Plotly\n\ton_load()\n      })\n      require([\"jspanel\"], function(jsPanel) {\n\twindow.jsPanel = jsPanel\n\ton_load()\n      })\n      require([\"jspanel-modal\"], function() {\n\ton_load()\n      })\n      require([\"jspanel-tooltip\"], function() {\n\ton_load()\n      })\n      require([\"jspanel-hint\"], function() {\n\ton_load()\n      })\n      require([\"jspanel-layout\"], function() {\n\ton_load()\n      })\n      require([\"jspanel-contextmenu\"], function() {\n\ton_load()\n      })\n      require([\"jspanel-dock\"], function() {\n\ton_load()\n      })\n      require([\"gridstack\"], function(GridStack) {\n\twindow.GridStack = GridStack\n\ton_load()\n      })\n      require([\"notyf\"], function() {\n\ton_load()\n      })\n      root._bokeh_is_loading = css_urls.length + 10;\n    } else {\n      root._bokeh_is_loading = css_urls.length + js_urls.length + js_modules.length + Object.keys(js_exports).length;\n    }\n\n    var existing_stylesheets = []\n    var links = document.getElementsByTagName('link')\n    for (var i = 0; i < links.length; i++) {\n      var link = links[i]\n      if (link.href != null) {\n\texisting_stylesheets.push(link.href)\n      }\n    }\n    for (var i = 0; i < css_urls.length; i++) {\n      var url = css_urls[i];\n      if (existing_stylesheets.indexOf(url) !== -1) {\n\ton_load()\n\tcontinue;\n      }\n      const element = document.createElement(\"link\");\n      element.onload = on_load;\n      element.onerror = on_error;\n      element.rel = \"stylesheet\";\n      element.type = \"text/css\";\n      element.href = url;\n      console.debug(\"Bokeh: injecting link tag for BokehJS stylesheet: \", url);\n      document.body.appendChild(element);\n    }    if (((window['Plotly'] !== undefined) && (!(window['Plotly'] instanceof HTMLElement))) || window.requirejs) {\n      var urls = ['https://cdn.holoviz.org/panel/1.2.3/dist/bundled/plotlyplot/plotly-2.18.0.min.js'];\n      for (var i = 0; i < urls.length; i++) {\n        skip.push(urls[i])\n      }\n    }    if (((window['jsPanel'] !== undefined) && (!(window['jsPanel'] instanceof HTMLElement))) || window.requirejs) {\n      var urls = ['https://cdn.holoviz.org/panel/1.2.3/dist/bundled/floatpanel/jspanel4@4.12.0/dist/jspanel.js', 'https://cdn.holoviz.org/panel/1.2.3/dist/bundled/floatpanel/jspanel4@4.12.0/dist/extensions/modal/jspanel.modal.js', 'https://cdn.holoviz.org/panel/1.2.3/dist/bundled/floatpanel/jspanel4@4.12.0/dist/extensions/tooltip/jspanel.tooltip.js', 'https://cdn.holoviz.org/panel/1.2.3/dist/bundled/floatpanel/jspanel4@4.12.0/dist/extensions/hint/jspanel.hint.js', 'https://cdn.holoviz.org/panel/1.2.3/dist/bundled/floatpanel/jspanel4@4.12.0/dist/extensions/layout/jspanel.layout.js', 'https://cdn.holoviz.org/panel/1.2.3/dist/bundled/floatpanel/jspanel4@4.12.0/dist/extensions/contextmenu/jspanel.contextmenu.js', 'https://cdn.holoviz.org/panel/1.2.3/dist/bundled/floatpanel/jspanel4@4.12.0/dist/extensions/dock/jspanel.dock.js'];\n      for (var i = 0; i < urls.length; i++) {\n        skip.push(urls[i])\n      }\n    }    if (((window['GridStack'] !== undefined) && (!(window['GridStack'] instanceof HTMLElement))) || window.requirejs) {\n      var urls = ['https://cdn.holoviz.org/panel/1.2.3/dist/bundled/gridstack/gridstack@7.2.3/dist/gridstack-all.js'];\n      for (var i = 0; i < urls.length; i++) {\n        skip.push(urls[i])\n      }\n    }    if (((window['Notyf'] !== undefined) && (!(window['Notyf'] instanceof HTMLElement))) || window.requirejs) {\n      var urls = ['https://cdn.holoviz.org/panel/1.2.3/dist/bundled/notificationarea/notyf@3/notyf.min.js'];\n      for (var i = 0; i < urls.length; i++) {\n        skip.push(urls[i])\n      }\n    }    var existing_scripts = []\n    var scripts = document.getElementsByTagName('script')\n    for (var i = 0; i < scripts.length; i++) {\n      var script = scripts[i]\n      if (script.src != null) {\n\texisting_scripts.push(script.src)\n      }\n    }\n    for (var i = 0; i < js_urls.length; i++) {\n      var url = js_urls[i];\n      if (skip.indexOf(url) !== -1 || existing_scripts.indexOf(url) !== -1) {\n\tif (!window.requirejs) {\n\t  on_load();\n\t}\n\tcontinue;\n      }\n      var element = document.createElement('script');\n      element.onload = on_load;\n      element.onerror = on_error;\n      element.async = false;\n      element.src = url;\n      console.debug(\"Bokeh: injecting script tag for BokehJS library: \", url);\n      document.head.appendChild(element);\n    }\n    for (var i = 0; i < js_modules.length; i++) {\n      var url = js_modules[i];\n      if (skip.indexOf(url) !== -1 || existing_scripts.indexOf(url) !== -1) {\n\tif (!window.requirejs) {\n\t  on_load();\n\t}\n\tcontinue;\n      }\n      var element = document.createElement('script');\n      element.onload = on_load;\n      element.onerror = on_error;\n      element.async = false;\n      element.src = url;\n      element.type = \"module\";\n      console.debug(\"Bokeh: injecting script tag for BokehJS library: \", url);\n      document.head.appendChild(element);\n    }\n    for (const name in js_exports) {\n      var url = js_exports[name];\n      if (skip.indexOf(url) >= 0 || root[name] != null) {\n\tif (!window.requirejs) {\n\t  on_load();\n\t}\n\tcontinue;\n      }\n      var element = document.createElement('script');\n      element.onerror = on_error;\n      element.async = false;\n      element.type = \"module\";\n      console.debug(\"Bokeh: injecting script tag for BokehJS library: \", url);\n      element.textContent = `\n      import ${name} from \"${url}\"\n      window.${name} = ${name}\n      window._bokeh_on_load()\n      `\n      document.head.appendChild(element);\n    }\n    if (!js_urls.length && !js_modules.length) {\n      on_load()\n    }\n  };\n\n  function inject_raw_css(css) {\n    const element = document.createElement(\"style\");\n    element.appendChild(document.createTextNode(css));\n    document.body.appendChild(element);\n  }\n\n  var js_urls = [\"https://cdn.holoviz.org/panel/1.2.3/dist/bundled/jquery/jquery.slim.min.js\", \"https://cdn.holoviz.org/panel/1.2.3/dist/bundled/plotlyplot/plotly-2.18.0.min.js\", \"https://cdn.bokeh.org/bokeh/release/bokeh-3.2.2.min.js\", \"https://cdn.bokeh.org/bokeh/release/bokeh-gl-3.2.2.min.js\", \"https://cdn.bokeh.org/bokeh/release/bokeh-widgets-3.2.2.min.js\", \"https://cdn.bokeh.org/bokeh/release/bokeh-tables-3.2.2.min.js\", \"https://cdn.holoviz.org/panel/1.2.3/dist/panel.min.js\"];\n  var js_modules = [];\n  var js_exports = {};\n  var css_urls = [];\n  var inline_js = [    function(Bokeh) {\n      Bokeh.set_log_level(\"info\");\n    },\nfunction(Bokeh) {} // ensure no trailing comma for IE\n  ];\n\n  function run_inline_js() {\n    if ((root.Bokeh !== undefined) || (force === true)) {\n      for (var i = 0; i < inline_js.length; i++) {\n        inline_js[i].call(root, root.Bokeh);\n      }\n      // Cache old bokeh versions\n      if (Bokeh != undefined && !reloading) {\n\tvar NewBokeh = root.Bokeh;\n\tif (Bokeh.versions === undefined) {\n\t  Bokeh.versions = new Map();\n\t}\n\tif (NewBokeh.version !== Bokeh.version) {\n\t  Bokeh.versions.set(NewBokeh.version, NewBokeh)\n\t}\n\troot.Bokeh = Bokeh;\n      }} else if (Date.now() < root._bokeh_timeout) {\n      setTimeout(run_inline_js, 100);\n    } else if (!root._bokeh_failed_load) {\n      console.log(\"Bokeh: BokehJS failed to load within specified timeout.\");\n      root._bokeh_failed_load = true;\n    }\n    root._bokeh_is_initializing = false\n  }\n\n  function load_or_wait() {\n    // Implement a backoff loop that tries to ensure we do not load multiple\n    // versions of Bokeh and its dependencies at the same time.\n    // In recent versions we use the root._bokeh_is_initializing flag\n    // to determine whether there is an ongoing attempt to initialize\n    // bokeh, however for backward compatibility we also try to ensure\n    // that we do not start loading a newer (Panel>=1.0 and Bokeh>3) version\n    // before older versions are fully initialized.\n    if (root._bokeh_is_initializing && Date.now() > root._bokeh_timeout) {\n      root._bokeh_is_initializing = false;\n      root._bokeh_onload_callbacks = undefined;\n      console.log(\"Bokeh: BokehJS was loaded multiple times but one version failed to initialize.\");\n      load_or_wait();\n    } else if (root._bokeh_is_initializing || (typeof root._bokeh_is_initializing === \"undefined\" && root._bokeh_onload_callbacks !== undefined)) {\n      setTimeout(load_or_wait, 100);\n    } else {\n      Bokeh = root.Bokeh;\n      bokeh_loaded = Bokeh != null && (Bokeh.version === py_version || (Bokeh.versions !== undefined && Bokeh.versions.has(py_version)));\n      root._bokeh_is_initializing = true\n      root._bokeh_onload_callbacks = []\n      if (!reloading && (!bokeh_loaded || is_dev)) {\n\troot.Bokeh = undefined;\n      }\n      load_libs(css_urls, js_urls, js_modules, js_exports, function() {\n\tconsole.debug(\"Bokeh: BokehJS plotting callback run at\", now());\n\trun_inline_js();\n      });\n    }\n  }\n  // Give older versions of the autoload script a head-start to ensure\n  // they initialize before we start loading newer version.\n  setTimeout(load_or_wait, 100)\n}(window));",
      "application/vnd.holoviews_load.v0+json": ""
     },
     "metadata": {},
     "output_type": "display_data"
    },
    {
     "data": {
      "application/javascript": "\nif ((window.PyViz === undefined) || (window.PyViz instanceof HTMLElement)) {\n  window.PyViz = {comms: {}, comm_status:{}, kernels:{}, receivers: {}, plot_index: []}\n}\n\n\n    function JupyterCommManager() {\n    }\n\n    JupyterCommManager.prototype.register_target = function(plot_id, comm_id, msg_handler) {\n      if (window.comm_manager || ((window.Jupyter !== undefined) && (Jupyter.notebook.kernel != null))) {\n        var comm_manager = window.comm_manager || Jupyter.notebook.kernel.comm_manager;\n        comm_manager.register_target(comm_id, function(comm) {\n          comm.on_msg(msg_handler);\n        });\n      } else if ((plot_id in window.PyViz.kernels) && (window.PyViz.kernels[plot_id])) {\n        window.PyViz.kernels[plot_id].registerCommTarget(comm_id, function(comm) {\n          comm.onMsg = msg_handler;\n        });\n      } else if (typeof google != 'undefined' && google.colab.kernel != null) {\n        google.colab.kernel.comms.registerTarget(comm_id, (comm) => {\n          var messages = comm.messages[Symbol.asyncIterator]();\n          function processIteratorResult(result) {\n            var message = result.value;\n            console.log(message)\n            var content = {data: message.data, comm_id};\n            var buffers = []\n            for (var buffer of message.buffers || []) {\n              buffers.push(new DataView(buffer))\n            }\n            var metadata = message.metadata || {};\n            var msg = {content, buffers, metadata}\n            msg_handler(msg);\n            return messages.next().then(processIteratorResult);\n          }\n          return messages.next().then(processIteratorResult);\n        })\n      }\n    }\n\n    JupyterCommManager.prototype.get_client_comm = function(plot_id, comm_id, msg_handler) {\n      if (comm_id in window.PyViz.comms) {\n        return window.PyViz.comms[comm_id];\n      } else if (window.comm_manager || ((window.Jupyter !== undefined) && (Jupyter.notebook.kernel != null))) {\n        var comm_manager = window.comm_manager || Jupyter.notebook.kernel.comm_manager;\n        var comm = comm_manager.new_comm(comm_id, {}, {}, {}, comm_id);\n        if (msg_handler) {\n          comm.on_msg(msg_handler);\n        }\n      } else if ((plot_id in window.PyViz.kernels) && (window.PyViz.kernels[plot_id])) {\n        var comm = window.PyViz.kernels[plot_id].connectToComm(comm_id);\n        comm.open();\n        if (msg_handler) {\n          comm.onMsg = msg_handler;\n        }\n      } else if (typeof google != 'undefined' && google.colab.kernel != null) {\n        var comm_promise = google.colab.kernel.comms.open(comm_id)\n        comm_promise.then((comm) => {\n          window.PyViz.comms[comm_id] = comm;\n          if (msg_handler) {\n            var messages = comm.messages[Symbol.asyncIterator]();\n            function processIteratorResult(result) {\n              var message = result.value;\n              var content = {data: message.data};\n              var metadata = message.metadata || {comm_id};\n              var msg = {content, metadata}\n              msg_handler(msg);\n              return messages.next().then(processIteratorResult);\n            }\n            return messages.next().then(processIteratorResult);\n          }\n        }) \n        var sendClosure = (data, metadata, buffers, disposeOnDone) => {\n          return comm_promise.then((comm) => {\n            comm.send(data, metadata, buffers, disposeOnDone);\n          });\n        };\n        var comm = {\n          send: sendClosure\n        };\n      }\n      window.PyViz.comms[comm_id] = comm;\n      return comm;\n    }\n    window.PyViz.comm_manager = new JupyterCommManager();\n    \n\n\nvar JS_MIME_TYPE = 'application/javascript';\nvar HTML_MIME_TYPE = 'text/html';\nvar EXEC_MIME_TYPE = 'application/vnd.holoviews_exec.v0+json';\nvar CLASS_NAME = 'output';\n\n/**\n * Render data to the DOM node\n */\nfunction render(props, node) {\n  var div = document.createElement(\"div\");\n  var script = document.createElement(\"script\");\n  node.appendChild(div);\n  node.appendChild(script);\n}\n\n/**\n * Handle when a new output is added\n */\nfunction handle_add_output(event, handle) {\n  var output_area = handle.output_area;\n  var output = handle.output;\n  if ((output.data == undefined) || (!output.data.hasOwnProperty(EXEC_MIME_TYPE))) {\n    return\n  }\n  var id = output.metadata[EXEC_MIME_TYPE][\"id\"];\n  var toinsert = output_area.element.find(\".\" + CLASS_NAME.split(' ')[0]);\n  if (id !== undefined) {\n    var nchildren = toinsert.length;\n    var html_node = toinsert[nchildren-1].children[0];\n    html_node.innerHTML = output.data[HTML_MIME_TYPE];\n    var scripts = [];\n    var nodelist = html_node.querySelectorAll(\"script\");\n    for (var i in nodelist) {\n      if (nodelist.hasOwnProperty(i)) {\n        scripts.push(nodelist[i])\n      }\n    }\n\n    scripts.forEach( function (oldScript) {\n      var newScript = document.createElement(\"script\");\n      var attrs = [];\n      var nodemap = oldScript.attributes;\n      for (var j in nodemap) {\n        if (nodemap.hasOwnProperty(j)) {\n          attrs.push(nodemap[j])\n        }\n      }\n      attrs.forEach(function(attr) { newScript.setAttribute(attr.name, attr.value) });\n      newScript.appendChild(document.createTextNode(oldScript.innerHTML));\n      oldScript.parentNode.replaceChild(newScript, oldScript);\n    });\n    if (JS_MIME_TYPE in output.data) {\n      toinsert[nchildren-1].children[1].textContent = output.data[JS_MIME_TYPE];\n    }\n    output_area._hv_plot_id = id;\n    if ((window.Bokeh !== undefined) && (id in Bokeh.index)) {\n      window.PyViz.plot_index[id] = Bokeh.index[id];\n    } else {\n      window.PyViz.plot_index[id] = null;\n    }\n  } else if (output.metadata[EXEC_MIME_TYPE][\"server_id\"] !== undefined) {\n    var bk_div = document.createElement(\"div\");\n    bk_div.innerHTML = output.data[HTML_MIME_TYPE];\n    var script_attrs = bk_div.children[0].attributes;\n    for (var i = 0; i < script_attrs.length; i++) {\n      toinsert[toinsert.length - 1].childNodes[1].setAttribute(script_attrs[i].name, script_attrs[i].value);\n    }\n    // store reference to server id on output_area\n    output_area._bokeh_server_id = output.metadata[EXEC_MIME_TYPE][\"server_id\"];\n  }\n}\n\n/**\n * Handle when an output is cleared or removed\n */\nfunction handle_clear_output(event, handle) {\n  var id = handle.cell.output_area._hv_plot_id;\n  var server_id = handle.cell.output_area._bokeh_server_id;\n  if (((id === undefined) || !(id in PyViz.plot_index)) && (server_id !== undefined)) { return; }\n  var comm = window.PyViz.comm_manager.get_client_comm(\"hv-extension-comm\", \"hv-extension-comm\", function () {});\n  if (server_id !== null) {\n    comm.send({event_type: 'server_delete', 'id': server_id});\n    return;\n  } else if (comm !== null) {\n    comm.send({event_type: 'delete', 'id': id});\n  }\n  delete PyViz.plot_index[id];\n  if ((window.Bokeh !== undefined) & (id in window.Bokeh.index)) {\n    var doc = window.Bokeh.index[id].model.document\n    doc.clear();\n    const i = window.Bokeh.documents.indexOf(doc);\n    if (i > -1) {\n      window.Bokeh.documents.splice(i, 1);\n    }\n  }\n}\n\n/**\n * Handle kernel restart event\n */\nfunction handle_kernel_cleanup(event, handle) {\n  delete PyViz.comms[\"hv-extension-comm\"];\n  window.PyViz.plot_index = {}\n}\n\n/**\n * Handle update_display_data messages\n */\nfunction handle_update_output(event, handle) {\n  handle_clear_output(event, {cell: {output_area: handle.output_area}})\n  handle_add_output(event, handle)\n}\n\nfunction register_renderer(events, OutputArea) {\n  function append_mime(data, metadata, element) {\n    // create a DOM node to render to\n    var toinsert = this.create_output_subarea(\n    metadata,\n    CLASS_NAME,\n    EXEC_MIME_TYPE\n    );\n    this.keyboard_manager.register_events(toinsert);\n    // Render to node\n    var props = {data: data, metadata: metadata[EXEC_MIME_TYPE]};\n    render(props, toinsert[0]);\n    element.append(toinsert);\n    return toinsert\n  }\n\n  events.on('output_added.OutputArea', handle_add_output);\n  events.on('output_updated.OutputArea', handle_update_output);\n  events.on('clear_output.CodeCell', handle_clear_output);\n  events.on('delete.Cell', handle_clear_output);\n  events.on('kernel_ready.Kernel', handle_kernel_cleanup);\n\n  OutputArea.prototype.register_mime_type(EXEC_MIME_TYPE, append_mime, {\n    safe: true,\n    index: 0\n  });\n}\n\nif (window.Jupyter !== undefined) {\n  try {\n    var events = require('base/js/events');\n    var OutputArea = require('notebook/js/outputarea').OutputArea;\n    if (OutputArea.prototype.mime_types().indexOf(EXEC_MIME_TYPE) == -1) {\n      register_renderer(events, OutputArea);\n    }\n  } catch(err) {\n  }\n}\n",
      "application/vnd.holoviews_load.v0+json": ""
     },
     "metadata": {},
     "output_type": "display_data"
    },
    {
     "data": {
      "text/html": [
       "<style>*[data-root-id],\n",
       "*[data-root-id] > * {\n",
       "  box-sizing: border-box;\n",
       "  font-family: var(--jp-ui-font-family);\n",
       "  font-size: var(--jp-ui-font-size1);\n",
       "  color: var(--vscode-editor-foreground, var(--jp-ui-font-color1));\n",
       "}\n",
       "\n",
       "/* Override VSCode background color */\n",
       ".cell-output-ipywidget-background:has(\n",
       "    > .cell-output-ipywidget-background > .lm-Widget > *[data-root-id]\n",
       "  ),\n",
       ".cell-output-ipywidget-background:has(> .lm-Widget > *[data-root-id]) {\n",
       "  background-color: transparent !important;\n",
       "}\n",
       "</style>"
      ]
     },
     "metadata": {},
     "output_type": "display_data"
    },
    {
     "data": {
      "text/html": [
       "\n",
       "<div class=\"logo-block\">\n",
       "<img src='data:image/png;base64,iVBORw0KGgoAAAANSUhEUgAAAEAAAABACAYAAACqaXHeAAAABHNCSVQICAgIfAhkiAAAAAlwSFlz\n",
       "AAAB+wAAAfsBxc2miwAAABl0RVh0U29mdHdhcmUAd3d3Lmlua3NjYXBlLm9yZ5vuPBoAAA6zSURB\n",
       "VHic7ZtpeFRVmsf/5966taWqUlUJ2UioBBJiIBAwCZtog9IOgjqACsogKtqirT2ttt069nQ/zDzt\n",
       "tI4+CrJIREFaFgWhBXpUNhHZQoKBkIUASchWla1S+3ar7r1nPkDaCAnZKoQP/D7mnPOe9/xy76n3\n",
       "nFSAW9ziFoPFNED2LLK5wcyBDObkb8ZkxuaoSYlI6ZcOKq1eWFdedqNzGHQBk9RMEwFAASkk0Xw3\n",
       "ETacDNi2vtvc7L0ROdw0AjoSotQVkKSvHQz/wRO1lScGModBFbDMaNRN1A4tUBCS3lk7BWhQkgpD\n",
       "lG4852/+7DWr1R3uHAZVQDsbh6ZPN7CyxUrCzJMRouusj0ipRwD2uKm0Zn5d2dFwzX1TCGhnmdGo\n",
       "G62Nna+isiUqhkzuKrkQaJlPEv5mFl2fvGg2t/VnzkEV8F5ioioOEWkLG86fvbpthynjdhXYZziQ\n",
       "x1hC9J2NFyi8vCTt91Fh04KGip0AaG9zuCk2wQCVyoNU3Hjezee9bq92duzzTmxsRJoy+jEZZZYo\n",
       "GTKJ6SJngdJqAfRzpze0+jHreUtPc7gpBLQnIYK6BYp/uGhw9YK688eu7v95ysgshcg9qSLMo3JC\n",
       "4jqLKQFBgdKDPoQ+Pltb8dUyQLpeDjeVgI6EgLIQFT5tEl3rn2losHVsexbZ3EyT9wE1uGdkIPcy\n",
       "BGxn8QUq1QrA5nqW5i2tLqvrrM9NK6AdkVIvL9E9bZL/oyfMVd/jqvc8LylzRBKDJSzIExwhQzuL\n",
       "QYGQj4rHfFTc8mUdu3E7yoLtbTe9gI4EqVgVkug2i5+uXGo919ixbRog+3fTbQ8qJe4ZOYNfMoTI\n",
       "OoshUNosgO60AisX15aeI2PSIp5KiFLI9ubb1vV3Qb2ltwLakUCDAkWX7/nHKRmmGIl9VgYsUhJm\n",
       "2NXjKYADtM1ygne9QQDIXlk49FBstMKx66D1v4+XuQr7vqTe0VcBHQlRWiOCbmmSYe2SqtL6q5rJ\n",
       "zsTb7lKx3FKOYC4DoqyS/B5bvLPxvD9Qtf6saxYLQGJErmDOdOMr/zo96km1nElr8bmPOBwI9COv\n",
       "HnFPRIwmkSOv9kcAS4heRsidOkpeWBgZM+UBrTFAXNYL5Vf2ii9c1trNzpYdaoVil3WIc+wdk+gQ\n",
       "noie3ecCcxt9ITcLAPWt/laGEO/9U6PmzZkenTtsSMQ8uYywJVW+grCstAvCIaAdArAsIWkRDDs/\n",
       "KzLm2YcjY1Lv0UdW73HabE9n6V66cxSzfEmuJssTpKGVp+0vHq73FwL46eOjpMpbRAnNmJFrGJNu\n",
       "Ukf9Yrz+3rghiumCKNXXWPhLYcjxGsIpoCMsIRoFITkW8AuyM8jC1+/QLx4bozCEJIq38+1rtpR6\n",
       "V/yzb8eBlRb3fo5l783N0CWolAzJHaVNzkrTzlEp2bQ2q3TC5gn6wpnoQAmwSiGh2GitnTmVMc5O\n",
       "UyfKWUKCIsU7+fZDKwqdT6DDpvkzAX4/+AMFjk0tDp5GRXLpQ2MUmhgDp5gxQT8+Y7hyPsMi8uxF\n",
       "71H0oebujHALECjFKaW9Lm68n18wXp2kVzIcABytD5iXFzg+WVXkegpAsOOYziqo0OkK76GyquC3\n",
       "ltZAzMhhqlSNmmWTE5T6e3IN05ITFLM4GdN0vtZ3ob8Jh1NAKXFbm5PtLU/eqTSlGjkNAJjdgn/N\n",
       "aedXa0tdi7+t9G0FIF49rtMSEgAs1kDLkTPO7ebm4IUWeyh1bKomXqlgMG6kJmHcSM0clYLJ8XtR\n",
       "1GTnbV3F6I5wCGikAb402npp1h1s7LQUZZSMIfALFOuL3UUrfnS8+rez7v9qcold5tilgHbO1fjK\n",
       "9ubb17u9oshxzMiUBKXWqJNxd+fqb0tLVs4lILFnK71H0Ind7uiPgACVcFJlrb0tV6DzxqqTIhUM\n",
       "CwDf1/rrVhTa33/3pGPxJYdQ2l2cbgVcQSosdx8uqnDtbGjh9SlDVSMNWhlnilfqZk42Th2ZpLpf\n",
       "xrHec5e815zrr0dfBZSwzkZfqsv+1FS1KUknUwPARVvItfKUY+cn57yP7qv07UE3p8B2uhUwLk09\n",
       "e0SCOrK+hbdYHYLjRIl71wWzv9jpEoeOHhGRrJAzyEyNiJuUqX0g2sBN5kGK6y2Blp5M3lsB9Qh4\n",
       "y2Ja6x6+i0ucmKgwMATwhSjdUu49tKrQ/pvN5d53ml2CGwCmJipmKjgmyuaXzNeL2a0AkQ01Th5j\n",
       "2DktO3Jyk8f9vcOBQHV94OK+fPumJmvQHxJoWkaKWq9Vs+yUsbq0zGT1I4RgeH2b5wef7+c7bl8F\n",
       "eKgoHVVZa8ZPEORzR6sT1BzDUAD/d9F78e2Tzv99v8D+fLVTqAKAsbGamKey1Mt9Ann4eH3gTXTz\n",
       "idWtAJ8PQWOk7NzSeQn/OTHDuEikVF1R4z8BQCy+6D1aWRfY0tTGG2OM8rRoPaeIj5ZHzJxszElN\n",
       "VM8K8JS5WOfv8mzRnQAKoEhmt8gyPM4lU9SmBK1MCQBnW4KONT86v1hZ1PbwSXPw4JWussVjtH9Y\n",
       "NCoiL9UoH/6PSu8jFrfY2t36erQHXLIEakMi1SydmzB31h3GGXFDFNPaK8Rme9B79Ixrd0WN+1ij\n",
       "NRQ/doRmuFLBkHSTOm5GruG+pFjFdAmorG4IXH1Qua6ASniclfFtDYt+oUjKipPrCQB7QBQ2lrgP\n",
       "fFzm+9XWUtcqJ3/5vDLDpJ79XHZk3u8nGZ42qlj1+ydtbxysCezrydp6ugmipNJ7WBPB5tydY0jP\n",
       "HaVNzs3QzeE4ZpTbI+ZbnSFPbVOw9vsfnVvqWnirPyCNGD08IlqtYkh2hjZ5dErEQzoNm+6ykyOt\n",
       "Lt5/PQEuSRRKo22VkydK+vvS1XEKlhCJAnsqvcVvH7f/ZU2R67eXbMEGAMiIV5oWZWiWvz5Fv2xG\n",
       "sjqNJQRvn3Rs2lji/lNP19VjAQDgD7FHhujZB9OGqYxRkZxixgRDVlqS6uEOFaJUVu0rPFzctrnF\n",
       "JqijImVp8dEKVWyUXDk92zAuMZ6bFwpBU1HrOw6AdhQgUooChb0+ItMbWJitSo5Ws3IAOGEOtL53\n",
       "0vHZih9sC4vtofZ7Qu6523V/fmGcds1TY3V36pUsBwAbSlxnVh2xLfAD/IAIMDf7XYIkNmXfpp2l\n",
       "18rkAJAy9HKFaIr/qULkeQQKy9zf1JgDB2uaeFNGijo5QsUyacNUUTOnGO42xSnv4oOwpDi1zYkc\n",
       "efUc3I5Gk6PhyTuVKaOGyLUAYPGIoY9Pu/atL/L92+4q9wbflRJ2Trpm/jPjdBtfnqB/dIThcl8A\n",
       "KG7hbRuKnb8qsQsVvVlTrwQAQMUlf3kwJI24Z4JhPMtcfng5GcH49GsrxJpGvvHIaeem2ma+KSjQ\n",
       "lIwUdYyCY8j4dE1KzijNnIP2llF2wcXNnsoapw9XxsgYAl6k+KzUXbi2yP3KR2ecf6z3BFsBICdW\n",
       "nvnIaG3eHybqX7vbpEqUMT+9OL4Qpe8VON7dXuFd39v19FoAABRVePbGGuXTszO0P7tu6lghUonE\n",
       "llRdrhArLvmKdh9u29jcFiRRkfLUxBiFNiqSU9icoZQHo5mYBI1MBgBH6wMNb+U7Pnw337H4gi1Y\n",
       "ciWs+uks3Z9fztUvfzxTm9Ne8XXkvQLHNytOOZeiD4e0PgkAIAYCYknKUNUDSXEKzdWNpnil7r4p\n",
       "xqkjTarZMtk/K8TQ6Qve78qqvXurGwIJqcOUKfUWHsm8KGvxSP68YudXq4pcj39X49uOK2X142O0\n",
       "Tz5/u/7TVybqH0rSya6ZBwD21/gubbrgWdDgEOx9WUhfBaC2ibcEBYm7a7x+ukrBMNcEZggyR0TE\n",
       "T8zUPjikQ4VosQZbTpS4vqizBKvqmvjsqnpfzaZyx9JPiz1/bfGKdgD45XB1zoIMzYbfTdS/NClB\n",
       "Gct0USiY3YL/g0LHy/uq/Ef6uo5+n0R/vyhp17Klpge763f8rMu6YU/zrn2nml+2WtH+Z+5IAAFc\n",
       "2bUTdTDOSNa9+cQY7YLsOIXhevEkCvzph7a8laecz/Un/z4/Ae04XeL3UQb57IwU9ZDr9UuKVajv\n",
       "nxp1+1UVIo/LjztZkKH59fO3G/JemqCfmaCRqbqbd90ZZ8FfjtkfAyD0J/9+C2h1hDwsSxvGjNDc\n",
       "b4zk5NfrSwiQblLHzZhg+Jf4aPlUwpDqkQqa9nimbt1/TDH8OitGMaQnj+RJS6B1fbF7SY1TqO5v\n",
       "/v0WAADl1f7zokgS7s7VT2DZ7pegUjBM7mjtiDZbcN4j0YrHH0rXpCtY0qPX0cVL0rv5jv/ZXend\n",
       "0u/EESYBAFBU4T4Qa5TflZOhTe7pmKpaP8kCVUVw1+yhXfJWvn1P3hnXi33JsTN6PnP3hHZ8Z3/h\n",
       "aLHzmkNPuPj7Bc/F/Q38CwjTpSwQXgE4Vmwry9tpfq/ZFgqFMy4AVDtCvi8rvMvOmv0N4YwbVgEA\n",
       "sPM72/KVnzfspmH7HQGCRLG2yL1+z8XwvPcdCbsAANh+xPzstgMtxeGKt+6MK3/tacfvwhWvIwMi\n",
       "oKEBtm0H7W+UVfkc/Y1V0BhoPlDr/w1w/eu1vjIgAgDg22OtX6/eYfnEz/focrZTHAFR+PSs56/7\n",
       "q32nwpjazxgwAQCwcU/T62t3WL7r6/jVRa6/byp1rei+Z98ZUAEAhEPHPc8fKnTU9nbgtnOe8h0l\n",
       "9hcGIqmODLQAHCy2Xti6v/XNRivf43f4fFvIteu854+VHnR7q9tfBlwAAGz+pnndB9vM26UebAe8\n",
       "SLHujPOTPVW+rwY+sxskAAC2HrA8t2Vvc7ffP1r9o+vwR2dcr92InIAbKKC1FZ5tB1tf+/G8p8sv\n",
       "N/9Q5zd/XR34LYCwV5JdccMEAMDBk45DH243r/X4xGvqxFa/GNpS7n6rwOwNWwHVE26oAADYurf1\n",
       "zx/utOzt+DMKYM0p17YtZZ5VNzqfsB2HewG1WXE8PoZ7gOclbTIvynZf9JV+fqZtfgs/8F/Nu5rB\n",
       "EIBmJ+8QRMmpU7EzGRsf2FzuePqYRbzh/zE26EwdrT10f6r6o8HOYzCJB9Dpff8tbnGLG8L/A/WE\n",
       "roTBs2RqAAAAAElFTkSuQmCC'\n",
       "     style='height:25px; border-radius:12px; display: inline-block; float: left; vertical-align: middle'></img>\n",
       "\n",
       "\n",
       "\n",
       "\n",
       "\n",
       "\n",
       "\n",
       "  <img src='data:image/png;base64,\n",
       "iVBORw0KGgoAAAANSUhEUgAAAEAAAABACAYAAACqaXHeAAAABHNCSVQICAgIfAhkiAAAAAlwSFlz\n",
       "AAAUtgAAFLYBHNdcgwAAABl0RVh0U29mdHdhcmUAd3d3Lmlua3NjYXBlLm9yZ5vuPBoAAAHOSURB\n",
       "VHic7Zs9TsNAEIWfATkNROKnRhS5BieBBig5E9CAchCOkSai5kdCVJaIKaKVovV45bFn9Yw8XxNp\n",
       "d/P0/OzNztpOAQDHD3WNCfJ1VxTFVA8+sMc2wMYDYBtg4wGwDbDxANgG2HgAbANsJh/AgfYLZzeb\n",
       "Rtv7U3uO8fjUWO14rReJrFfA0WVzmyGZTvVJGpaYBLB/KLfPFsPNW2ikMAng90dur6vh2hYaKbJO\n",
       "gY+Xpnxqjkp9koYlfj+AbYCNB8A2wMYDYBtgoy6FgW11NlvUqKtuy9Tn7fbz5LGbfqgIu5S162tg\n",
       "XgLLFXD/2k1/F/UyqK2/w8EHvivg4lkee3q1QVH21wa6hxzIOgUkg/Oy2RaIDx5I7x0smPxvwOgD\n",
       "0G5vtajVY0OWBmOt3BshoOcqkPOs5D7jMaOfArnxANgG2HgAbANseq0CuxWetvTUaKfKZivUV0Bc\n",
       "3krlbl9irVTZbMXop4BlwBKjDyA3HgDbABsPgG2AjQfANsDGA2AbYOMBsA2wMQngvOUVmf+ASQBv\n",
       "La/ILFfDtS00UmSdAtKzutT9A6mvz/M+Df6KDNsAGw+AbYCNB8A2wMYDYBtg4wGwDbCZfAAFMO2/\n",
       "z/8BE3VwbODCC/EAAAAASUVORK5CYII='\n",
       "       style='height:15px; border-radius:12px; display: inline-block; float: left'></img>\n",
       "  \n",
       "</div>\n"
      ]
     },
     "metadata": {},
     "output_type": "display_data"
    }
   ],
   "source": [
    "\n",
    "import holoviews as hv\n",
    "from holoviews import dim, opts\n",
    "hv.extension('plotly')\n",
    "\n",
    "def FancyPlot3dVectors(list):\n",
    "    xcoords=[]\n",
    "    ycoords=[]\n",
    "    zcoords=[]\n",
    "    colorlist=[]\n",
    "    for vect in list:\n",
    "        steps = np.mgrid[0:100]*0.01\n",
    "        x = steps*vect[0]\n",
    "        y = steps*vect[1]\n",
    "        z = steps*vect[2]\n",
    "        xcoords += [val for val in x]\n",
    "        ycoords += [val for val in y]\n",
    "        zcoords += [val for val in z]\n",
    "        colorlist += [(1-val) for val in steps]\n",
    "    xcoords = np.array(xcoords)\n",
    "    ycoords = np.array(ycoords)\n",
    "    zcoords = np.array(zcoords)\n",
    "    return hv.Scatter3D((xcoords, ycoords, zcoords)).opts(cmap='fire', color=colorlist, size=5, width=800, height=800)\n"
   ]
  },
  {
   "cell_type": "markdown",
   "id": "d5f72ea8",
   "metadata": {},
   "source": [
    "# -----------------------------------------------------\n",
    "# Now some quick basics in Python\n"
   ]
  },
  {
   "cell_type": "markdown",
   "id": "4090f073",
   "metadata": {},
   "source": [
    "We can easily do basic mathematical operations:\n",
    "\n",
    "* addition and subtraction: + and -\n",
    "* multiplication:  *\n",
    "* division: /\n",
    "* powers x^y:  math.pow(x,y)\n",
    "* useful functions:  math.exp(), math.sqrt(), math.log(), etc\n",
    "* trig functions: math.sin(), math.cos(), math.tan(), math.asin(), math.acos(), math.atan()  (all in radians)\n"
   ]
  },
  {
   "cell_type": "markdown",
   "id": "efcbd338",
   "metadata": {},
   "source": [
    "### Vectors\n",
    "\n",
    "Python lists are okay for storing data, but to do mathematics gracefully, it is helpful to convert them into vectors for use with NumPy. As we saw earlier, the command np.array(...) turns a list of numbers into a NumPy vector."
   ]
  },
  {
   "cell_type": "code",
   "execution_count": 3,
   "id": "eee40301",
   "metadata": {},
   "outputs": [
    {
     "name": "stdout",
     "output_type": "stream",
     "text": [
      "[1 2] [ 2 10] [ 5.1  6.8  9.  10. ]\n"
     ]
    }
   ],
   "source": [
    "U = np.array( [1,2] )   \n",
    "V = np.array( [2,10] )\n",
    "\n",
    "A = [5.1, 6.8, 9, 10]\n",
    "W = np.array(A)\n",
    "\n",
    "print(U,V,W)"
   ]
  },
  {
   "cell_type": "markdown",
   "id": "43711f96",
   "metadata": {},
   "source": [
    "Now we can do operations with vectors, such as addition and multiplication by a scalar."
   ]
  },
  {
   "cell_type": "code",
   "execution_count": 4,
   "id": "f86d52ae",
   "metadata": {},
   "outputs": [
    {
     "name": "stdout",
     "output_type": "stream",
     "text": [
      "U = [1 2]\n",
      "V = [ 2 10]\n",
      "U+V = [ 3 12]\n",
      "4U = [4 8]\n"
     ]
    }
   ],
   "source": [
    "print('U =',U)\n",
    "print('V =',V)\n",
    "print('U+V =',U + V)\n",
    "print('4U =',4*U)"
   ]
  },
  {
   "cell_type": "markdown",
   "id": "c9e7b7cb",
   "metadata": {},
   "source": [
    "A linear combination of vectors is thus very easy with NumPy:"
   ]
  },
  {
   "cell_type": "code",
   "execution_count": 5,
   "id": "4a971dfa",
   "metadata": {},
   "outputs": [
    {
     "data": {
      "text/plain": [
       "array([-17, -10,  -3])"
      ]
     },
     "execution_count": 5,
     "metadata": {},
     "output_type": "execute_result"
    }
   ],
   "source": [
    "U = np.array([1,2, 3])   \n",
    "V = np.array([4,5,6])\n",
    "W = np.array([7,8,9])\n",
    "\n",
    "10*U + 2*V - 5*W "
   ]
  },
  {
   "cell_type": "markdown",
   "id": "09d78f39-9fbc-4658-95ff-5762558eb31b",
   "metadata": {},
   "source": [
    "A useful trick with NumPy is to apply some mathematical operation to every element in a vector.\n",
    "\n",
    "For example, \n",
    "* U+1 \n",
    "adds 1 to each element of U, and\n",
    "*  U\\**2\n",
    "squares each element of U.\n",
    "\n",
    "In contrast, if you wanted to square every element in a list *without NumPy*, then you would need a for loop, like this:\n",
    "* ListOfSquares = [x\\**2 for x in ListOfNumbers]\n",
    "\n",
    "\n",
    "We can also apply certain mathematical functions to each element in a vector.  For example if you want to take the cosine of every number in a vector, you can use\n",
    "\n",
    "* np.cos(U)\n",
    "\n",
    "Note that we have to use np.cos instead of math.cos because math.cos doesn't know how to work with vectors.\n",
    "\n",
    "There is more.  If U+V means add each element of U to the corresponding element of V, can you guess what U\\**V or U/V might do?  If you're not sure, go ahead and try it below.\n",
    "\n"
   ]
  },
  {
   "cell_type": "code",
   "execution_count": null,
   "id": "214d0407-fb6e-41a2-be89-948de538ea82",
   "metadata": {
    "tags": []
   },
   "outputs": [],
   "source": [
    "# code here"
   ]
  },
  {
   "cell_type": "markdown",
   "id": "840bc2cb",
   "metadata": {},
   "source": [
    "### Use U @ V for the dot product of vectors\n",
    "NumPy has an operator that automatically computes the dot product of two vectors (as long as they both have the same length).\n",
    "Use U @ V to compute $\\vec{U}\\cdot \\vec{V}$.\n",
    "\n",
    "(Next week we'll see that the @ operator is also used for matrix multiplication.)"
   ]
  },
  {
   "cell_type": "markdown",
   "id": "55a58412-829c-43c8-a888-51f52e765f27",
   "metadata": {},
   "source": [
    "### Visualisations\n",
    "\n",
    "In the initialisation block at the top, there are some easy-to-use plotting functions defined for you.\n",
    "\n",
    "**Plot2dVectors(...)** takes a list of 2d (x,y) vectors as input (the vectors can be np.arrays or simply Python lists of numbes) and draws them in the plane.\n",
    "\n",
    "**Plot3dvectors(...)** does the same in 3d.  \n",
    "\n",
    "Making sense of 3d plots is sometimes difficult, and it can be useful to have a plot that you can rotate around and look at from different directions.  if **Plotly** is working for you, you can use the 'fancy' version instead\n",
    "\n",
    "**FancyPlot3dVectors(...)**\n",
    "\n"
   ]
  },
  {
   "cell_type": "code",
   "execution_count": 6,
   "id": "61d5fdfe",
   "metadata": {},
   "outputs": [
    {
     "data": {
      "text/html": [
       "\n",
       "  <div id=\"f06ac698-edb4-473b-aadb-11b55cae08d2\" data-root-id=\"p1002\" style=\"display: contents;\"></div>\n"
      ]
     },
     "metadata": {},
     "output_type": "display_data"
    },
    {
     "data": {
      "application/javascript": "(function(root) {\n  function embed_document(root) {\n  const docs_json = {\"56bc84f8-49b7-40ba-b5fd-f3560b9b5f8d\":{\"version\":\"3.2.2\",\"title\":\"Bokeh Application\",\"roots\":[{\"type\":\"object\",\"name\":\"Figure\",\"id\":\"p1002\",\"attributes\":{\"x_range\":{\"type\":\"object\",\"name\":\"DataRange1d\",\"id\":\"p1003\"},\"y_range\":{\"type\":\"object\",\"name\":\"DataRange1d\",\"id\":\"p1004\"},\"x_scale\":{\"type\":\"object\",\"name\":\"LinearScale\",\"id\":\"p1012\"},\"y_scale\":{\"type\":\"object\",\"name\":\"LinearScale\",\"id\":\"p1013\"},\"title\":{\"type\":\"object\",\"name\":\"Title\",\"id\":\"p1005\",\"attributes\":{\"text\":\"Vectors!\"}},\"renderers\":[{\"type\":\"object\",\"name\":\"GlyphRenderer\",\"id\":\"p1037\",\"attributes\":{\"data_source\":{\"type\":\"object\",\"name\":\"ColumnDataSource\",\"id\":\"p1031\",\"attributes\":{\"selected\":{\"type\":\"object\",\"name\":\"Selection\",\"id\":\"p1032\",\"attributes\":{\"indices\":[],\"line_indices\":[]}},\"selection_policy\":{\"type\":\"object\",\"name\":\"UnionRenderers\",\"id\":\"p1033\"},\"data\":{\"type\":\"map\",\"entries\":[[\"x\",[0,2]],[\"y\",[0,5]]]}}},\"view\":{\"type\":\"object\",\"name\":\"CDSView\",\"id\":\"p1038\",\"attributes\":{\"filter\":{\"type\":\"object\",\"name\":\"AllIndices\",\"id\":\"p1039\"}}},\"glyph\":{\"type\":\"object\",\"name\":\"Line\",\"id\":\"p1034\",\"attributes\":{\"x\":{\"type\":\"field\",\"field\":\"x\"},\"y\":{\"type\":\"field\",\"field\":\"y\"},\"line_color\":\"#1f77b4\",\"line_width\":2}},\"nonselection_glyph\":{\"type\":\"object\",\"name\":\"Line\",\"id\":\"p1035\",\"attributes\":{\"x\":{\"type\":\"field\",\"field\":\"x\"},\"y\":{\"type\":\"field\",\"field\":\"y\"},\"line_color\":\"#1f77b4\",\"line_alpha\":0.1,\"line_width\":2}},\"muted_glyph\":{\"type\":\"object\",\"name\":\"Line\",\"id\":\"p1036\",\"attributes\":{\"x\":{\"type\":\"field\",\"field\":\"x\"},\"y\":{\"type\":\"field\",\"field\":\"y\"},\"line_color\":\"#1f77b4\",\"line_alpha\":0.2,\"line_width\":2}}}},{\"type\":\"object\",\"name\":\"GlyphRenderer\",\"id\":\"p1046\",\"attributes\":{\"data_source\":{\"type\":\"object\",\"name\":\"ColumnDataSource\",\"id\":\"p1040\",\"attributes\":{\"selected\":{\"type\":\"object\",\"name\":\"Selection\",\"id\":\"p1041\",\"attributes\":{\"indices\":[],\"line_indices\":[]}},\"selection_policy\":{\"type\":\"object\",\"name\":\"UnionRenderers\",\"id\":\"p1042\"},\"data\":{\"type\":\"map\",\"entries\":[[\"x\",[2]],[\"y\",[5]]]}}},\"view\":{\"type\":\"object\",\"name\":\"CDSView\",\"id\":\"p1047\",\"attributes\":{\"filter\":{\"type\":\"object\",\"name\":\"AllIndices\",\"id\":\"p1048\"}}},\"glyph\":{\"type\":\"object\",\"name\":\"Circle\",\"id\":\"p1043\",\"attributes\":{\"x\":{\"type\":\"field\",\"field\":\"x\"},\"y\":{\"type\":\"field\",\"field\":\"y\"},\"size\":{\"type\":\"value\",\"value\":6},\"line_color\":{\"type\":\"value\",\"value\":\"red\"},\"fill_color\":{\"type\":\"value\",\"value\":\"red\"},\"hatch_color\":{\"type\":\"value\",\"value\":\"red\"}}},\"nonselection_glyph\":{\"type\":\"object\",\"name\":\"Circle\",\"id\":\"p1044\",\"attributes\":{\"x\":{\"type\":\"field\",\"field\":\"x\"},\"y\":{\"type\":\"field\",\"field\":\"y\"},\"size\":{\"type\":\"value\",\"value\":6},\"line_color\":{\"type\":\"value\",\"value\":\"red\"},\"line_alpha\":{\"type\":\"value\",\"value\":0.1},\"fill_color\":{\"type\":\"value\",\"value\":\"red\"},\"fill_alpha\":{\"type\":\"value\",\"value\":0.1},\"hatch_color\":{\"type\":\"value\",\"value\":\"red\"},\"hatch_alpha\":{\"type\":\"value\",\"value\":0.1}}},\"muted_glyph\":{\"type\":\"object\",\"name\":\"Circle\",\"id\":\"p1045\",\"attributes\":{\"x\":{\"type\":\"field\",\"field\":\"x\"},\"y\":{\"type\":\"field\",\"field\":\"y\"},\"size\":{\"type\":\"value\",\"value\":6},\"line_color\":{\"type\":\"value\",\"value\":\"red\"},\"line_alpha\":{\"type\":\"value\",\"value\":0.2},\"fill_color\":{\"type\":\"value\",\"value\":\"red\"},\"fill_alpha\":{\"type\":\"value\",\"value\":0.2},\"hatch_color\":{\"type\":\"value\",\"value\":\"red\"},\"hatch_alpha\":{\"type\":\"value\",\"value\":0.2}}}}},{\"type\":\"object\",\"name\":\"GlyphRenderer\",\"id\":\"p1055\",\"attributes\":{\"data_source\":{\"type\":\"object\",\"name\":\"ColumnDataSource\",\"id\":\"p1049\",\"attributes\":{\"selected\":{\"type\":\"object\",\"name\":\"Selection\",\"id\":\"p1050\",\"attributes\":{\"indices\":[],\"line_indices\":[]}},\"selection_policy\":{\"type\":\"object\",\"name\":\"UnionRenderers\",\"id\":\"p1051\"},\"data\":{\"type\":\"map\",\"entries\":[[\"x\",[0,5]],[\"y\",[0,-4]]]}}},\"view\":{\"type\":\"object\",\"name\":\"CDSView\",\"id\":\"p1056\",\"attributes\":{\"filter\":{\"type\":\"object\",\"name\":\"AllIndices\",\"id\":\"p1057\"}}},\"glyph\":{\"type\":\"object\",\"name\":\"Line\",\"id\":\"p1052\",\"attributes\":{\"x\":{\"type\":\"field\",\"field\":\"x\"},\"y\":{\"type\":\"field\",\"field\":\"y\"},\"line_color\":\"#1f77b4\",\"line_width\":2}},\"nonselection_glyph\":{\"type\":\"object\",\"name\":\"Line\",\"id\":\"p1053\",\"attributes\":{\"x\":{\"type\":\"field\",\"field\":\"x\"},\"y\":{\"type\":\"field\",\"field\":\"y\"},\"line_color\":\"#1f77b4\",\"line_alpha\":0.1,\"line_width\":2}},\"muted_glyph\":{\"type\":\"object\",\"name\":\"Line\",\"id\":\"p1054\",\"attributes\":{\"x\":{\"type\":\"field\",\"field\":\"x\"},\"y\":{\"type\":\"field\",\"field\":\"y\"},\"line_color\":\"#1f77b4\",\"line_alpha\":0.2,\"line_width\":2}}}},{\"type\":\"object\",\"name\":\"GlyphRenderer\",\"id\":\"p1064\",\"attributes\":{\"data_source\":{\"type\":\"object\",\"name\":\"ColumnDataSource\",\"id\":\"p1058\",\"attributes\":{\"selected\":{\"type\":\"object\",\"name\":\"Selection\",\"id\":\"p1059\",\"attributes\":{\"indices\":[],\"line_indices\":[]}},\"selection_policy\":{\"type\":\"object\",\"name\":\"UnionRenderers\",\"id\":\"p1060\"},\"data\":{\"type\":\"map\",\"entries\":[[\"x\",[5]],[\"y\",[-4]]]}}},\"view\":{\"type\":\"object\",\"name\":\"CDSView\",\"id\":\"p1065\",\"attributes\":{\"filter\":{\"type\":\"object\",\"name\":\"AllIndices\",\"id\":\"p1066\"}}},\"glyph\":{\"type\":\"object\",\"name\":\"Circle\",\"id\":\"p1061\",\"attributes\":{\"x\":{\"type\":\"field\",\"field\":\"x\"},\"y\":{\"type\":\"field\",\"field\":\"y\"},\"size\":{\"type\":\"value\",\"value\":6},\"line_color\":{\"type\":\"value\",\"value\":\"red\"},\"fill_color\":{\"type\":\"value\",\"value\":\"red\"},\"hatch_color\":{\"type\":\"value\",\"value\":\"red\"}}},\"nonselection_glyph\":{\"type\":\"object\",\"name\":\"Circle\",\"id\":\"p1062\",\"attributes\":{\"x\":{\"type\":\"field\",\"field\":\"x\"},\"y\":{\"type\":\"field\",\"field\":\"y\"},\"size\":{\"type\":\"value\",\"value\":6},\"line_color\":{\"type\":\"value\",\"value\":\"red\"},\"line_alpha\":{\"type\":\"value\",\"value\":0.1},\"fill_color\":{\"type\":\"value\",\"value\":\"red\"},\"fill_alpha\":{\"type\":\"value\",\"value\":0.1},\"hatch_color\":{\"type\":\"value\",\"value\":\"red\"},\"hatch_alpha\":{\"type\":\"value\",\"value\":0.1}}},\"muted_glyph\":{\"type\":\"object\",\"name\":\"Circle\",\"id\":\"p1063\",\"attributes\":{\"x\":{\"type\":\"field\",\"field\":\"x\"},\"y\":{\"type\":\"field\",\"field\":\"y\"},\"size\":{\"type\":\"value\",\"value\":6},\"line_color\":{\"type\":\"value\",\"value\":\"red\"},\"line_alpha\":{\"type\":\"value\",\"value\":0.2},\"fill_color\":{\"type\":\"value\",\"value\":\"red\"},\"fill_alpha\":{\"type\":\"value\",\"value\":0.2},\"hatch_color\":{\"type\":\"value\",\"value\":\"red\"},\"hatch_alpha\":{\"type\":\"value\",\"value\":0.2}}}}},{\"type\":\"object\",\"name\":\"GlyphRenderer\",\"id\":\"p1073\",\"attributes\":{\"data_source\":{\"type\":\"object\",\"name\":\"ColumnDataSource\",\"id\":\"p1067\",\"attributes\":{\"selected\":{\"type\":\"object\",\"name\":\"Selection\",\"id\":\"p1068\",\"attributes\":{\"indices\":[],\"line_indices\":[]}},\"selection_policy\":{\"type\":\"object\",\"name\":\"UnionRenderers\",\"id\":\"p1069\"},\"data\":{\"type\":\"map\",\"entries\":[[\"x\",[0,-4]],[\"y\",[0,0]]]}}},\"view\":{\"type\":\"object\",\"name\":\"CDSView\",\"id\":\"p1074\",\"attributes\":{\"filter\":{\"type\":\"object\",\"name\":\"AllIndices\",\"id\":\"p1075\"}}},\"glyph\":{\"type\":\"object\",\"name\":\"Line\",\"id\":\"p1070\",\"attributes\":{\"x\":{\"type\":\"field\",\"field\":\"x\"},\"y\":{\"type\":\"field\",\"field\":\"y\"},\"line_color\":\"#1f77b4\",\"line_width\":2}},\"nonselection_glyph\":{\"type\":\"object\",\"name\":\"Line\",\"id\":\"p1071\",\"attributes\":{\"x\":{\"type\":\"field\",\"field\":\"x\"},\"y\":{\"type\":\"field\",\"field\":\"y\"},\"line_color\":\"#1f77b4\",\"line_alpha\":0.1,\"line_width\":2}},\"muted_glyph\":{\"type\":\"object\",\"name\":\"Line\",\"id\":\"p1072\",\"attributes\":{\"x\":{\"type\":\"field\",\"field\":\"x\"},\"y\":{\"type\":\"field\",\"field\":\"y\"},\"line_color\":\"#1f77b4\",\"line_alpha\":0.2,\"line_width\":2}}}},{\"type\":\"object\",\"name\":\"GlyphRenderer\",\"id\":\"p1082\",\"attributes\":{\"data_source\":{\"type\":\"object\",\"name\":\"ColumnDataSource\",\"id\":\"p1076\",\"attributes\":{\"selected\":{\"type\":\"object\",\"name\":\"Selection\",\"id\":\"p1077\",\"attributes\":{\"indices\":[],\"line_indices\":[]}},\"selection_policy\":{\"type\":\"object\",\"name\":\"UnionRenderers\",\"id\":\"p1078\"},\"data\":{\"type\":\"map\",\"entries\":[[\"x\",[-4]],[\"y\",[0]]]}}},\"view\":{\"type\":\"object\",\"name\":\"CDSView\",\"id\":\"p1083\",\"attributes\":{\"filter\":{\"type\":\"object\",\"name\":\"AllIndices\",\"id\":\"p1084\"}}},\"glyph\":{\"type\":\"object\",\"name\":\"Circle\",\"id\":\"p1079\",\"attributes\":{\"x\":{\"type\":\"field\",\"field\":\"x\"},\"y\":{\"type\":\"field\",\"field\":\"y\"},\"size\":{\"type\":\"value\",\"value\":6},\"line_color\":{\"type\":\"value\",\"value\":\"red\"},\"fill_color\":{\"type\":\"value\",\"value\":\"red\"},\"hatch_color\":{\"type\":\"value\",\"value\":\"red\"}}},\"nonselection_glyph\":{\"type\":\"object\",\"name\":\"Circle\",\"id\":\"p1080\",\"attributes\":{\"x\":{\"type\":\"field\",\"field\":\"x\"},\"y\":{\"type\":\"field\",\"field\":\"y\"},\"size\":{\"type\":\"value\",\"value\":6},\"line_color\":{\"type\":\"value\",\"value\":\"red\"},\"line_alpha\":{\"type\":\"value\",\"value\":0.1},\"fill_color\":{\"type\":\"value\",\"value\":\"red\"},\"fill_alpha\":{\"type\":\"value\",\"value\":0.1},\"hatch_color\":{\"type\":\"value\",\"value\":\"red\"},\"hatch_alpha\":{\"type\":\"value\",\"value\":0.1}}},\"muted_glyph\":{\"type\":\"object\",\"name\":\"Circle\",\"id\":\"p1081\",\"attributes\":{\"x\":{\"type\":\"field\",\"field\":\"x\"},\"y\":{\"type\":\"field\",\"field\":\"y\"},\"size\":{\"type\":\"value\",\"value\":6},\"line_color\":{\"type\":\"value\",\"value\":\"red\"},\"line_alpha\":{\"type\":\"value\",\"value\":0.2},\"fill_color\":{\"type\":\"value\",\"value\":\"red\"},\"fill_alpha\":{\"type\":\"value\",\"value\":0.2},\"hatch_color\":{\"type\":\"value\",\"value\":\"red\"},\"hatch_alpha\":{\"type\":\"value\",\"value\":0.2}}}}}],\"toolbar\":{\"type\":\"object\",\"name\":\"Toolbar\",\"id\":\"p1011\",\"attributes\":{\"tools\":[{\"type\":\"object\",\"name\":\"PanTool\",\"id\":\"p1024\"},{\"type\":\"object\",\"name\":\"WheelZoomTool\",\"id\":\"p1025\"},{\"type\":\"object\",\"name\":\"BoxZoomTool\",\"id\":\"p1026\",\"attributes\":{\"overlay\":{\"type\":\"object\",\"name\":\"BoxAnnotation\",\"id\":\"p1027\",\"attributes\":{\"syncable\":false,\"level\":\"overlay\",\"visible\":false,\"left_units\":\"canvas\",\"right_units\":\"canvas\",\"bottom_units\":\"canvas\",\"top_units\":\"canvas\",\"line_color\":\"black\",\"line_alpha\":1.0,\"line_width\":2,\"line_dash\":[4,4],\"fill_color\":\"lightgrey\",\"fill_alpha\":0.5}}}},{\"type\":\"object\",\"name\":\"SaveTool\",\"id\":\"p1028\"},{\"type\":\"object\",\"name\":\"ResetTool\",\"id\":\"p1029\"},{\"type\":\"object\",\"name\":\"HelpTool\",\"id\":\"p1030\"}]}},\"left\":[{\"type\":\"object\",\"name\":\"LinearAxis\",\"id\":\"p1019\",\"attributes\":{\"ticker\":{\"type\":\"object\",\"name\":\"BasicTicker\",\"id\":\"p1020\",\"attributes\":{\"mantissas\":[1,2,5]}},\"formatter\":{\"type\":\"object\",\"name\":\"BasicTickFormatter\",\"id\":\"p1021\"},\"major_label_policy\":{\"type\":\"object\",\"name\":\"AllLabels\",\"id\":\"p1022\"}}}],\"below\":[{\"type\":\"object\",\"name\":\"LinearAxis\",\"id\":\"p1014\",\"attributes\":{\"ticker\":{\"type\":\"object\",\"name\":\"BasicTicker\",\"id\":\"p1015\",\"attributes\":{\"mantissas\":[1,2,5]}},\"formatter\":{\"type\":\"object\",\"name\":\"BasicTickFormatter\",\"id\":\"p1016\"},\"major_label_policy\":{\"type\":\"object\",\"name\":\"AllLabels\",\"id\":\"p1017\"}}}],\"center\":[{\"type\":\"object\",\"name\":\"Grid\",\"id\":\"p1018\",\"attributes\":{\"axis\":{\"id\":\"p1014\"}}},{\"type\":\"object\",\"name\":\"Grid\",\"id\":\"p1023\",\"attributes\":{\"dimension\":1,\"axis\":{\"id\":\"p1019\"}}}]}}],\"defs\":[{\"type\":\"model\",\"name\":\"ReactiveHTML1\"},{\"type\":\"model\",\"name\":\"FlexBox1\",\"properties\":[{\"name\":\"align_content\",\"kind\":\"Any\",\"default\":\"flex-start\"},{\"name\":\"align_items\",\"kind\":\"Any\",\"default\":\"flex-start\"},{\"name\":\"flex_direction\",\"kind\":\"Any\",\"default\":\"row\"},{\"name\":\"flex_wrap\",\"kind\":\"Any\",\"default\":\"wrap\"},{\"name\":\"justify_content\",\"kind\":\"Any\",\"default\":\"flex-start\"}]},{\"type\":\"model\",\"name\":\"FloatPanel1\",\"properties\":[{\"name\":\"config\",\"kind\":\"Any\",\"default\":{\"type\":\"map\"}},{\"name\":\"contained\",\"kind\":\"Any\",\"default\":true},{\"name\":\"position\",\"kind\":\"Any\",\"default\":\"right-top\"},{\"name\":\"offsetx\",\"kind\":\"Any\",\"default\":null},{\"name\":\"offsety\",\"kind\":\"Any\",\"default\":null},{\"name\":\"theme\",\"kind\":\"Any\",\"default\":\"primary\"},{\"name\":\"status\",\"kind\":\"Any\",\"default\":\"normalized\"}]},{\"type\":\"model\",\"name\":\"GridStack1\",\"properties\":[{\"name\":\"mode\",\"kind\":\"Any\",\"default\":\"warn\"},{\"name\":\"ncols\",\"kind\":\"Any\",\"default\":null},{\"name\":\"nrows\",\"kind\":\"Any\",\"default\":null},{\"name\":\"allow_resize\",\"kind\":\"Any\",\"default\":true},{\"name\":\"allow_drag\",\"kind\":\"Any\",\"default\":true},{\"name\":\"state\",\"kind\":\"Any\",\"default\":[]}]},{\"type\":\"model\",\"name\":\"drag1\",\"properties\":[{\"name\":\"slider_width\",\"kind\":\"Any\",\"default\":5},{\"name\":\"slider_color\",\"kind\":\"Any\",\"default\":\"black\"},{\"name\":\"value\",\"kind\":\"Any\",\"default\":50}]},{\"type\":\"model\",\"name\":\"click1\",\"properties\":[{\"name\":\"terminal_output\",\"kind\":\"Any\",\"default\":\"\"},{\"name\":\"debug_name\",\"kind\":\"Any\",\"default\":\"\"},{\"name\":\"clears\",\"kind\":\"Any\",\"default\":0}]},{\"type\":\"model\",\"name\":\"FastWrapper1\",\"properties\":[{\"name\":\"object\",\"kind\":\"Any\",\"default\":null},{\"name\":\"style\",\"kind\":\"Any\",\"default\":null}]},{\"type\":\"model\",\"name\":\"NotificationAreaBase1\",\"properties\":[{\"name\":\"js_events\",\"kind\":\"Any\",\"default\":{\"type\":\"map\"}},{\"name\":\"position\",\"kind\":\"Any\",\"default\":\"bottom-right\"},{\"name\":\"_clear\",\"kind\":\"Any\",\"default\":0}]},{\"type\":\"model\",\"name\":\"NotificationArea1\",\"properties\":[{\"name\":\"js_events\",\"kind\":\"Any\",\"default\":{\"type\":\"map\"}},{\"name\":\"notifications\",\"kind\":\"Any\",\"default\":[]},{\"name\":\"position\",\"kind\":\"Any\",\"default\":\"bottom-right\"},{\"name\":\"_clear\",\"kind\":\"Any\",\"default\":0},{\"name\":\"types\",\"kind\":\"Any\",\"default\":[{\"type\":\"map\",\"entries\":[[\"type\",\"warning\"],[\"background\",\"#ffc107\"],[\"icon\",{\"type\":\"map\",\"entries\":[[\"className\",\"fas fa-exclamation-triangle\"],[\"tagName\",\"i\"],[\"color\",\"white\"]]}]]},{\"type\":\"map\",\"entries\":[[\"type\",\"info\"],[\"background\",\"#007bff\"],[\"icon\",{\"type\":\"map\",\"entries\":[[\"className\",\"fas fa-info-circle\"],[\"tagName\",\"i\"],[\"color\",\"white\"]]}]]}]}]},{\"type\":\"model\",\"name\":\"Notification\",\"properties\":[{\"name\":\"background\",\"kind\":\"Any\",\"default\":null},{\"name\":\"duration\",\"kind\":\"Any\",\"default\":3000},{\"name\":\"icon\",\"kind\":\"Any\",\"default\":null},{\"name\":\"message\",\"kind\":\"Any\",\"default\":\"\"},{\"name\":\"notification_type\",\"kind\":\"Any\",\"default\":null},{\"name\":\"_destroyed\",\"kind\":\"Any\",\"default\":false}]},{\"type\":\"model\",\"name\":\"TemplateActions1\",\"properties\":[{\"name\":\"open_modal\",\"kind\":\"Any\",\"default\":0},{\"name\":\"close_modal\",\"kind\":\"Any\",\"default\":0}]},{\"type\":\"model\",\"name\":\"BootstrapTemplateActions1\",\"properties\":[{\"name\":\"open_modal\",\"kind\":\"Any\",\"default\":0},{\"name\":\"close_modal\",\"kind\":\"Any\",\"default\":0}]},{\"type\":\"model\",\"name\":\"MaterialTemplateActions1\",\"properties\":[{\"name\":\"open_modal\",\"kind\":\"Any\",\"default\":0},{\"name\":\"close_modal\",\"kind\":\"Any\",\"default\":0}]}]}};\n  const render_items = [{\"docid\":\"56bc84f8-49b7-40ba-b5fd-f3560b9b5f8d\",\"roots\":{\"p1002\":\"f06ac698-edb4-473b-aadb-11b55cae08d2\"},\"root_ids\":[\"p1002\"]}];\n  root.Bokeh.embed.embed_items_notebook(docs_json, render_items);\n  }\n  if (root.Bokeh !== undefined) {\n    embed_document(root);\n  } else {\n    let attempts = 0;\n    const timer = setInterval(function(root) {\n      if (root.Bokeh !== undefined) {\n        clearInterval(timer);\n        embed_document(root);\n      } else {\n        attempts++;\n        if (attempts > 100) {\n          clearInterval(timer);\n          console.log(\"Bokeh: ERROR: Unable to run BokehJS code because BokehJS library is missing\");\n        }\n      }\n    }, 10, root)\n  }\n})(window);",
      "application/vnd.bokehjs_exec.v0+json": ""
     },
     "metadata": {
      "application/vnd.bokehjs_exec.v0+json": {
       "id": "p1002"
      }
     },
     "output_type": "display_data"
    }
   ],
   "source": [
    "# An example of 2d plotting\n",
    "\n",
    "vect1 = [2, 5]\n",
    "vect2 = [5,-4]\n",
    "vect3 = [-4,0]\n",
    "\n",
    "list_of_vectors = [vect1, vect2, vect3]\n",
    "Plot2dVectors(list_of_vectors)\n",
    "\n"
   ]
  },
  {
   "cell_type": "code",
   "execution_count": 7,
   "id": "c7742df8-a808-44aa-976c-9e059976a6bc",
   "metadata": {
    "tags": []
   },
   "outputs": [
    {
     "data": {
      "image/png": "[encoded data removed]",
      "text/plain": [
       "<Figure size 640x480 with 1 Axes>"
      ]
     },
     "metadata": {},
     "output_type": "display_data"
    }
   ],
   "source": [
    "# An example of 3d plotting.\n",
    "# The input is a list containing some number of 3d vectors [x,y,z] (as Python lists or np.array objects)\n",
    "\n",
    "Plot3dVectors( [[7,7,3], [5,-5,2], [-8,1,5], [-5, -10, 5]] )"
   ]
  },
  {
   "cell_type": "code",
   "execution_count": 8,
   "id": "8660c362-c7bd-4f27-b38d-a4e1a016fe87",
   "metadata": {
    "tags": []
   },
   "outputs": [
    {
     "data": {},
     "metadata": {},
     "output_type": "display_data"
    },
    {
     "data": {
      "application/vnd.holoviews_exec.v0+json": "",
      "text/html": [
       "<div id='p1085'>\n",
       "  <div id=\"aa88f810-be50-428d-987d-e9e10019cfce\" data-root-id=\"p1085\" style=\"display: contents;\"></div>\n",
       "</div>\n",
       "<script type=\"application/javascript\">(function(root) {\n",
       "  var docs_json = {\"517c4946-a485-493f-9fb5-8b60e410fade\":{\"version\":\"3.2.2\",\"title\":\"Bokeh Application\",\"roots\":[{\"type\":\"object\",\"name\":\"Row\",\"id\":\"p1085\",\"attributes\":{\"name\":\"Row00642\",\"tags\":[\"embedded\"],\"stylesheets\":[\"\\n:host(.pn-loading.pn-arc):before, .pn-loading.pn-arc:before {\\n  background-image: url(\\\"data:image/svg+xml;base64,PHN2ZyB4bWxucz0iaHR0cDovL3d3dy53My5vcmcvMjAwMC9zdmciIHN0eWxlPSJtYXJnaW46IGF1dG87IGJhY2tncm91bmQ6IG5vbmU7IGRpc3BsYXk6IGJsb2NrOyBzaGFwZS1yZW5kZXJpbmc6IGF1dG87IiB2aWV3Qm94PSIwIDAgMTAwIDEwMCIgcHJlc2VydmVBc3BlY3RSYXRpbz0ieE1pZFlNaWQiPiAgPGNpcmNsZSBjeD0iNTAiIGN5PSI1MCIgZmlsbD0ibm9uZSIgc3Ryb2tlPSIjYzNjM2MzIiBzdHJva2Utd2lkdGg9IjEwIiByPSIzNSIgc3Ryb2tlLWRhc2hhcnJheT0iMTY0LjkzMzYxNDMxMzQ2NDE1IDU2Ljk3Nzg3MTQzNzgyMTM4Ij4gICAgPGFuaW1hdGVUcmFuc2Zvcm0gYXR0cmlidXRlTmFtZT0idHJhbnNmb3JtIiB0eXBlPSJyb3RhdGUiIHJlcGVhdENvdW50PSJpbmRlZmluaXRlIiBkdXI9IjFzIiB2YWx1ZXM9IjAgNTAgNTA7MzYwIDUwIDUwIiBrZXlUaW1lcz0iMDsxIj48L2FuaW1hdGVUcmFuc2Zvcm0+ICA8L2NpcmNsZT48L3N2Zz4=\\\");\\n  background-size: auto calc(min(50%, 400px));\\n}\",{\"type\":\"object\",\"name\":\"ImportedStyleSheet\",\"id\":\"p1088\",\"attributes\":{\"url\":\"https://cdn.holoviz.org/panel/1.2.3/dist/css/loading.css\"}},{\"type\":\"object\",\"name\":\"ImportedStyleSheet\",\"id\":\"p1099\",\"attributes\":{\"url\":\"https://cdn.holoviz.org/panel/1.2.3/dist/css/listpanel.css\"}},{\"type\":\"object\",\"name\":\"ImportedStyleSheet\",\"id\":\"p1086\",\"attributes\":{\"url\":\"https://cdn.holoviz.org/panel/1.2.3/dist/bundled/theme/default.css\"}},{\"type\":\"object\",\"name\":\"ImportedStyleSheet\",\"id\":\"p1087\",\"attributes\":{\"url\":\"https://cdn.holoviz.org/panel/1.2.3/dist/bundled/theme/native.css\"}}],\"margin\":0,\"sizing_mode\":\"stretch_width\",\"align\":\"start\",\"children\":[{\"type\":\"object\",\"name\":\"Spacer\",\"id\":\"p1089\",\"attributes\":{\"name\":\"HSpacer00653\",\"stylesheets\":[\"\\n:host(.pn-loading.pn-arc):before, .pn-loading.pn-arc:before {\\n  background-image: url(\\\"data:image/svg+xml;base64,PHN2ZyB4bWxucz0iaHR0cDovL3d3dy53My5vcmcvMjAwMC9zdmciIHN0eWxlPSJtYXJnaW46IGF1dG87IGJhY2tncm91bmQ6IG5vbmU7IGRpc3BsYXk6IGJsb2NrOyBzaGFwZS1yZW5kZXJpbmc6IGF1dG87IiB2aWV3Qm94PSIwIDAgMTAwIDEwMCIgcHJlc2VydmVBc3BlY3RSYXRpbz0ieE1pZFlNaWQiPiAgPGNpcmNsZSBjeD0iNTAiIGN5PSI1MCIgZmlsbD0ibm9uZSIgc3Ryb2tlPSIjYzNjM2MzIiBzdHJva2Utd2lkdGg9IjEwIiByPSIzNSIgc3Ryb2tlLWRhc2hhcnJheT0iMTY0LjkzMzYxNDMxMzQ2NDE1IDU2Ljk3Nzg3MTQzNzgyMTM4Ij4gICAgPGFuaW1hdGVUcmFuc2Zvcm0gYXR0cmlidXRlTmFtZT0idHJhbnNmb3JtIiB0eXBlPSJyb3RhdGUiIHJlcGVhdENvdW50PSJpbmRlZmluaXRlIiBkdXI9IjFzIiB2YWx1ZXM9IjAgNTAgNTA7MzYwIDUwIDUwIiBrZXlUaW1lcz0iMDsxIj48L2FuaW1hdGVUcmFuc2Zvcm0+ICA8L2NpcmNsZT48L3N2Zz4=\\\");\\n  background-size: auto calc(min(50%, 400px));\\n}\",{\"id\":\"p1088\"},{\"id\":\"p1086\"},{\"id\":\"p1087\"}],\"margin\":0,\"sizing_mode\":\"stretch_width\",\"align\":\"start\"}},{\"type\":\"object\",\"name\":\"panel.models.plotly.PlotlyPlot\",\"id\":\"p1095\",\"attributes\":{\"name\":\"Plotly00675\",\"stylesheets\":[\"\\n:host(.pn-loading.pn-arc):before, .pn-loading.pn-arc:before {\\n  background-image: url(\\\"data:image/svg+xml;base64,PHN2ZyB4bWxucz0iaHR0cDovL3d3dy53My5vcmcvMjAwMC9zdmciIHN0eWxlPSJtYXJnaW46IGF1dG87IGJhY2tncm91bmQ6IG5vbmU7IGRpc3BsYXk6IGJsb2NrOyBzaGFwZS1yZW5kZXJpbmc6IGF1dG87IiB2aWV3Qm94PSIwIDAgMTAwIDEwMCIgcHJlc2VydmVBc3BlY3RSYXRpbz0ieE1pZFlNaWQiPiAgPGNpcmNsZSBjeD0iNTAiIGN5PSI1MCIgZmlsbD0ibm9uZSIgc3Ryb2tlPSIjYzNjM2MzIiBzdHJva2Utd2lkdGg9IjEwIiByPSIzNSIgc3Ryb2tlLWRhc2hhcnJheT0iMTY0LjkzMzYxNDMxMzQ2NDE1IDU2Ljk3Nzg3MTQzNzgyMTM4Ij4gICAgPGFuaW1hdGVUcmFuc2Zvcm0gYXR0cmlidXRlTmFtZT0idHJhbnNmb3JtIiB0eXBlPSJyb3RhdGUiIHJlcGVhdENvdW50PSJpbmRlZmluaXRlIiBkdXI9IjFzIiB2YWx1ZXM9IjAgNTAgNTA7MzYwIDUwIDUwIiBrZXlUaW1lcz0iMDsxIj48L2FuaW1hdGVUcmFuc2Zvcm0+ICA8L2NpcmNsZT48L3N2Zz4=\\\");\\n  background-size: auto calc(min(50%, 400px));\\n}\",{\"id\":\"p1088\"},{\"type\":\"object\",\"name\":\"ImportedStyleSheet\",\"id\":\"p1094\",\"attributes\":{\"url\":\"https://cdn.holoviz.org/panel/1.2.3/dist/css/plotly.css\"}},{\"id\":\"p1086\"},{\"id\":\"p1087\"},\":host { --plotly-icon-color: gray; --plotly-active-icon-color: #2a3f5f; }\"],\"margin\":[5,10],\"align\":\"start\",\"data\":[{\"type\":\"map\",\"entries\":[[\"legendgroup\",\"Scatter3D_\"],[\"marker\",{\"type\":\"map\",\"entries\":[[\"color\",[1.0,0.99,0.98,0.97,0.96,0.95,0.94,0.9299999999999999,0.92,0.91,0.9,0.89,0.88,0.87,0.86,0.85,0.84,0.83,0.8200000000000001,0.81,0.8,0.79,0.78,0.77,0.76,0.75,0.74,0.73,0.72,0.71,0.7,0.69,0.6799999999999999,0.6699999999999999,0.6599999999999999,0.6499999999999999,0.64,0.63,0.62,0.61,0.6,0.59,0.5800000000000001,0.5700000000000001,0.56,0.55,0.54,0.53,0.52,0.51,0.5,0.49,0.48,0.47,0.45999999999999996,0.44999999999999996,0.43999999999999995,0.42999999999999994,0.42000000000000004,0.41000000000000003,0.4,0.39,0.38,0.37,0.36,0.35,0.33999999999999997,0.32999999999999996,0.31999999999999995,0.30999999999999994,0.29999999999999993,0.29000000000000004,0.28,0.27,0.26,0.25,0.24,0.22999999999999998,0.21999999999999997,0.20999999999999996,0.19999999999999996,0.18999999999999995,0.17999999999999994,0.16999999999999993,0.16000000000000003,0.15000000000000002,0.14,0.13,0.12,0.10999999999999999,0.09999999999999998,0.08999999999999997,0.07999999999999996,0.06999999999999995,0.05999999999999994,0.04999999999999993,0.040000000000000036,0.030000000000000027,0.020000000000000018,0.010000000000000009,1.0,0.99,0.98,0.97,0.96,0.95,0.94,0.9299999999999999,0.92,0.91,0.9,0.89,0.88,0.87,0.86,0.85,0.84,0.83,0.8200000000000001,0.81,0.8,0.79,0.78,0.77,0.76,0.75,0.74,0.73,0.72,0.71,0.7,0.69,0.6799999999999999,0.6699999999999999,0.6599999999999999,0.6499999999999999,0.64,0.63,0.62,0.61,0.6,0.59,0.5800000000000001,0.5700000000000001,0.56,0.55,0.54,0.53,0.52,0.51,0.5,0.49,0.48,0.47,0.45999999999999996,0.44999999999999996,0.43999999999999995,0.42999999999999994,0.42000000000000004,0.41000000000000003,0.4,0.39,0.38,0.37,0.36,0.35,0.33999999999999997,0.32999999999999996,0.31999999999999995,0.30999999999999994,0.29999999999999993,0.29000000000000004,0.28,0.27,0.26,0.25,0.24,0.22999999999999998,0.21999999999999997,0.20999999999999996,0.19999999999999996,0.18999999999999995,0.17999999999999994,0.16999999999999993,0.16000000000000003,0.15000000000000002,0.14,0.13,0.12,0.10999999999999999,0.09999999999999998,0.08999999999999997,0.07999999999999996,0.06999999999999995,0.05999999999999994,0.04999999999999993,0.040000000000000036,0.030000000000000027,0.020000000000000018,0.010000000000000009,1.0,0.99,0.98,0.97,0.96,0.95,0.94,0.9299999999999999,0.92,0.91,0.9,0.89,0.88,0.87,0.86,0.85,0.84,0.83,0.8200000000000001,0.81,0.8,0.79,0.78,0.77,0.76,0.75,0.74,0.73,0.72,0.71,0.7,0.69,0.6799999999999999,0.6699999999999999,0.6599999999999999,0.6499999999999999,0.64,0.63,0.62,0.61,0.6,0.59,0.5800000000000001,0.5700000000000001,0.56,0.55,0.54,0.53,0.52,0.51,0.5,0.49,0.48,0.47,0.45999999999999996,0.44999999999999996,0.43999999999999995,0.42999999999999994,0.42000000000000004,0.41000000000000003,0.4,0.39,0.38,0.37,0.36,0.35,0.33999999999999997,0.32999999999999996,0.31999999999999995,0.30999999999999994,0.29999999999999993,0.29000000000000004,0.28,0.27,0.26,0.25,0.24,0.22999999999999998,0.21999999999999997,0.20999999999999996,0.19999999999999996,0.18999999999999995,0.17999999999999994,0.16999999999999993,0.16000000000000003,0.15000000000000002,0.14,0.13,0.12,0.10999999999999999,0.09999999999999998,0.08999999999999997,0.07999999999999996,0.06999999999999995,0.05999999999999994,0.04999999999999993,0.040000000000000036,0.030000000000000027,0.020000000000000018,0.010000000000000009,1.0,0.99,0.98,0.97,0.96,0.95,0.94,0.9299999999999999,0.92,0.91,0.9,0.89,0.88,0.87,0.86,0.85,0.84,0.83,0.8200000000000001,0.81,0.8,0.79,0.78,0.77,0.76,0.75,0.74,0.73,0.72,0.71,0.7,0.69,0.6799999999999999,0.6699999999999999,0.6599999999999999,0.6499999999999999,0.64,0.63,0.62,0.61,0.6,0.59,0.5800000000000001,0.5700000000000001,0.56,0.55,0.54,0.53,0.52,0.51,0.5,0.49,0.48,0.47,0.45999999999999996,0.44999999999999996,0.43999999999999995,0.42999999999999994,0.42000000000000004,0.41000000000000003,0.4,0.39,0.38,0.37,0.36,0.35,0.33999999999999997,0.32999999999999996,0.31999999999999995,0.30999999999999994,0.29999999999999993,0.29000000000000004,0.28,0.27,0.26,0.25,0.24,0.22999999999999998,0.21999999999999997,0.20999999999999996,0.19999999999999996,0.18999999999999995,0.17999999999999994,0.16999999999999993,0.16000000000000003,0.15000000000000002,0.14,0.13,0.12,0.10999999999999999,0.09999999999999998,0.08999999999999997,0.07999999999999996,0.06999999999999995,0.05999999999999994,0.04999999999999993,0.040000000000000036,0.030000000000000027,0.020000000000000018,0.010000000000000009]],[\"size\",5]]}],[\"mode\",\"markers\"],[\"name\",\"\"],[\"showlegend\",false],[\"uid\",\"db4e2fa0-751f-4bf0-b250-84290af41e95\"],[\"type\",\"scatter3d\"]]}],\"layout\":{\"type\":\"map\",\"entries\":[[\"autosize\",false],[\"height\",800],[\"scene\",{\"type\":\"map\",\"entries\":[[\"aspectmode\",\"cube\"],[\"xaxis\",{\"type\":\"map\",\"entries\":[[\"range\",[-9.405,8.415]],[\"title\",{\"type\":\"map\",\"entries\":[[\"text\",\"x\"]]}]]}],[\"yaxis\",{\"type\":\"map\",\"entries\":[[\"range\",[-11.583,8.613]],[\"title\",{\"type\":\"map\",\"entries\":[[\"text\",\"y\"]]}]]}],[\"zaxis\",{\"type\":\"map\",\"entries\":[[\"range\",[-0.49500000000000005,5.445]],[\"title\",{\"type\":\"map\",\"entries\":[[\"text\",\"z\"]]}]]}]]}],[\"title\",{\"type\":\"map\",\"entries\":[[\"text\",\"\"]]}],[\"uirevision\",true],[\"width\",800],[\"template\",{\"type\":\"map\",\"entries\":[[\"data\",{\"type\":\"map\",\"entries\":[[\"histogram2dcontour\",[{\"type\":\"map\",\"entries\":[[\"type\",\"histogram2dcontour\"],[\"colorbar\",{\"type\":\"map\",\"entries\":[[\"outlinewidth\",0],[\"ticks\",\"\"]]}],[\"colorscale\",[[0.0,\"#0d0887\"],[0.1111111111111111,\"#46039f\"],[0.2222222222222222,\"#7201a8\"],[0.3333333333333333,\"#9c179e\"],[0.4444444444444444,\"#bd3786\"],[0.5555555555555556,\"#d8576b\"],[0.6666666666666666,\"#ed7953\"],[0.7777777777777778,\"#fb9f3a\"],[0.8888888888888888,\"#fdca26\"],[1.0,\"#f0f921\"]]]]}]],[\"choropleth\",[{\"type\":\"map\",\"entries\":[[\"type\",\"choropleth\"],[\"colorbar\",{\"type\":\"map\",\"entries\":[[\"outlinewidth\",0],[\"ticks\",\"\"]]}]]}]],[\"histogram2d\",[{\"type\":\"map\",\"entries\":[[\"type\",\"histogram2d\"],[\"colorbar\",{\"type\":\"map\",\"entries\":[[\"outlinewidth\",0],[\"ticks\",\"\"]]}],[\"colorscale\",[[0.0,\"#0d0887\"],[0.1111111111111111,\"#46039f\"],[0.2222222222222222,\"#7201a8\"],[0.3333333333333333,\"#9c179e\"],[0.4444444444444444,\"#bd3786\"],[0.5555555555555556,\"#d8576b\"],[0.6666666666666666,\"#ed7953\"],[0.7777777777777778,\"#fb9f3a\"],[0.8888888888888888,\"#fdca26\"],[1.0,\"#f0f921\"]]]]}]],[\"heatmap\",[{\"type\":\"map\",\"entries\":[[\"type\",\"heatmap\"],[\"colorbar\",{\"type\":\"map\",\"entries\":[[\"outlinewidth\",0],[\"ticks\",\"\"]]}],[\"colorscale\",[[0.0,\"#0d0887\"],[0.1111111111111111,\"#46039f\"],[0.2222222222222222,\"#7201a8\"],[0.3333333333333333,\"#9c179e\"],[0.4444444444444444,\"#bd3786\"],[0.5555555555555556,\"#d8576b\"],[0.6666666666666666,\"#ed7953\"],[0.7777777777777778,\"#fb9f3a\"],[0.8888888888888888,\"#fdca26\"],[1.0,\"#f0f921\"]]]]}]],[\"heatmapgl\",[{\"type\":\"map\",\"entries\":[[\"type\",\"heatmapgl\"],[\"colorbar\",{\"type\":\"map\",\"entries\":[[\"outlinewidth\",0],[\"ticks\",\"\"]]}],[\"colorscale\",[[0.0,\"#0d0887\"],[0.1111111111111111,\"#46039f\"],[0.2222222222222222,\"#7201a8\"],[0.3333333333333333,\"#9c179e\"],[0.4444444444444444,\"#bd3786\"],[0.5555555555555556,\"#d8576b\"],[0.6666666666666666,\"#ed7953\"],[0.7777777777777778,\"#fb9f3a\"],[0.8888888888888888,\"#fdca26\"],[1.0,\"#f0f921\"]]]]}]],[\"contourcarpet\",[{\"type\":\"map\",\"entries\":[[\"type\",\"contourcarpet\"],[\"colorbar\",{\"type\":\"map\",\"entries\":[[\"outlinewidth\",0],[\"ticks\",\"\"]]}]]}]],[\"contour\",[{\"type\":\"map\",\"entries\":[[\"type\",\"contour\"],[\"colorbar\",{\"type\":\"map\",\"entries\":[[\"outlinewidth\",0],[\"ticks\",\"\"]]}],[\"colorscale\",[[0.0,\"#0d0887\"],[0.1111111111111111,\"#46039f\"],[0.2222222222222222,\"#7201a8\"],[0.3333333333333333,\"#9c179e\"],[0.4444444444444444,\"#bd3786\"],[0.5555555555555556,\"#d8576b\"],[0.6666666666666666,\"#ed7953\"],[0.7777777777777778,\"#fb9f3a\"],[0.8888888888888888,\"#fdca26\"],[1.0,\"#f0f921\"]]]]}]],[\"surface\",[{\"type\":\"map\",\"entries\":[[\"type\",\"surface\"],[\"colorbar\",{\"type\":\"map\",\"entries\":[[\"outlinewidth\",0],[\"ticks\",\"\"]]}],[\"colorscale\",[[0.0,\"#0d0887\"],[0.1111111111111111,\"#46039f\"],[0.2222222222222222,\"#7201a8\"],[0.3333333333333333,\"#9c179e\"],[0.4444444444444444,\"#bd3786\"],[0.5555555555555556,\"#d8576b\"],[0.6666666666666666,\"#ed7953\"],[0.7777777777777778,\"#fb9f3a\"],[0.8888888888888888,\"#fdca26\"],[1.0,\"#f0f921\"]]]]}]],[\"mesh3d\",[{\"type\":\"map\",\"entries\":[[\"type\",\"mesh3d\"],[\"colorbar\",{\"type\":\"map\",\"entries\":[[\"outlinewidth\",0],[\"ticks\",\"\"]]}]]}]],[\"scatter\",[{\"type\":\"map\",\"entries\":[[\"fillpattern\",{\"type\":\"map\",\"entries\":[[\"fillmode\",\"overlay\"],[\"size\",10],[\"solidity\",0.2]]}],[\"type\",\"scatter\"]]}]],[\"parcoords\",[{\"type\":\"map\",\"entries\":[[\"type\",\"parcoords\"],[\"line\",{\"type\":\"map\",\"entries\":[[\"colorbar\",{\"type\":\"map\",\"entries\":[[\"outlinewidth\",0],[\"ticks\",\"\"]]}]]}]]}]],[\"scatterpolargl\",[{\"type\":\"map\",\"entries\":[[\"type\",\"scatterpolargl\"],[\"marker\",{\"type\":\"map\",\"entries\":[[\"colorbar\",{\"type\":\"map\",\"entries\":[[\"outlinewidth\",0],[\"ticks\",\"\"]]}]]}]]}]],[\"bar\",[{\"type\":\"map\",\"entries\":[[\"error_x\",{\"type\":\"map\",\"entries\":[[\"color\",\"#2a3f5f\"]]}],[\"error_y\",{\"type\":\"map\",\"entries\":[[\"color\",\"#2a3f5f\"]]}],[\"marker\",{\"type\":\"map\",\"entries\":[[\"line\",{\"type\":\"map\",\"entries\":[[\"color\",\"#E5ECF6\"],[\"width\",0.5]]}],[\"pattern\",{\"type\":\"map\",\"entries\":[[\"fillmode\",\"overlay\"],[\"size\",10],[\"solidity\",0.2]]}]]}],[\"type\",\"bar\"]]}]],[\"scattergeo\",[{\"type\":\"map\",\"entries\":[[\"type\",\"scattergeo\"],[\"marker\",{\"type\":\"map\",\"entries\":[[\"colorbar\",{\"type\":\"map\",\"entries\":[[\"outlinewidth\",0],[\"ticks\",\"\"]]}]]}]]}]],[\"scatterpolar\",[{\"type\":\"map\",\"entries\":[[\"type\",\"scatterpolar\"],[\"marker\",{\"type\":\"map\",\"entries\":[[\"colorbar\",{\"type\":\"map\",\"entries\":[[\"outlinewidth\",0],[\"ticks\",\"\"]]}]]}]]}]],[\"histogram\",[{\"type\":\"map\",\"entries\":[[\"marker\",{\"type\":\"map\",\"entries\":[[\"pattern\",{\"type\":\"map\",\"entries\":[[\"fillmode\",\"overlay\"],[\"size\",10],[\"solidity\",0.2]]}]]}],[\"type\",\"histogram\"]]}]],[\"scattergl\",[{\"type\":\"map\",\"entries\":[[\"type\",\"scattergl\"],[\"marker\",{\"type\":\"map\",\"entries\":[[\"colorbar\",{\"type\":\"map\",\"entries\":[[\"outlinewidth\",0],[\"ticks\",\"\"]]}]]}]]}]],[\"scatter3d\",[{\"type\":\"map\",\"entries\":[[\"type\",\"scatter3d\"],[\"line\",{\"type\":\"map\",\"entries\":[[\"colorbar\",{\"type\":\"map\",\"entries\":[[\"outlinewidth\",0],[\"ticks\",\"\"]]}]]}],[\"marker\",{\"type\":\"map\",\"entries\":[[\"colorbar\",{\"type\":\"map\",\"entries\":[[\"outlinewidth\",0],[\"ticks\",\"\"]]}]]}]]}]],[\"scattermapbox\",[{\"type\":\"map\",\"entries\":[[\"type\",\"scattermapbox\"],[\"marker\",{\"type\":\"map\",\"entries\":[[\"colorbar\",{\"type\":\"map\",\"entries\":[[\"outlinewidth\",0],[\"ticks\",\"\"]]}]]}]]}]],[\"scatterternary\",[{\"type\":\"map\",\"entries\":[[\"type\",\"scatterternary\"],[\"marker\",{\"type\":\"map\",\"entries\":[[\"colorbar\",{\"type\":\"map\",\"entries\":[[\"outlinewidth\",0],[\"ticks\",\"\"]]}]]}]]}]],[\"scattercarpet\",[{\"type\":\"map\",\"entries\":[[\"type\",\"scattercarpet\"],[\"marker\",{\"type\":\"map\",\"entries\":[[\"colorbar\",{\"type\":\"map\",\"entries\":[[\"outlinewidth\",0],[\"ticks\",\"\"]]}]]}]]}]],[\"carpet\",[{\"type\":\"map\",\"entries\":[[\"aaxis\",{\"type\":\"map\",\"entries\":[[\"endlinecolor\",\"#2a3f5f\"],[\"gridcolor\",\"white\"],[\"linecolor\",\"white\"],[\"minorgridcolor\",\"white\"],[\"startlinecolor\",\"#2a3f5f\"]]}],[\"baxis\",{\"type\":\"map\",\"entries\":[[\"endlinecolor\",\"#2a3f5f\"],[\"gridcolor\",\"white\"],[\"linecolor\",\"white\"],[\"minorgridcolor\",\"white\"],[\"startlinecolor\",\"#2a3f5f\"]]}],[\"type\",\"carpet\"]]}]],[\"table\",[{\"type\":\"map\",\"entries\":[[\"cells\",{\"type\":\"map\",\"entries\":[[\"fill\",{\"type\":\"map\",\"entries\":[[\"color\",\"#EBF0F8\"]]}],[\"line\",{\"type\":\"map\",\"entries\":[[\"color\",\"white\"]]}]]}],[\"header\",{\"type\":\"map\",\"entries\":[[\"fill\",{\"type\":\"map\",\"entries\":[[\"color\",\"#C8D4E3\"]]}],[\"line\",{\"type\":\"map\",\"entries\":[[\"color\",\"white\"]]}]]}],[\"type\",\"table\"]]}]],[\"barpolar\",[{\"type\":\"map\",\"entries\":[[\"marker\",{\"type\":\"map\",\"entries\":[[\"line\",{\"type\":\"map\",\"entries\":[[\"color\",\"#E5ECF6\"],[\"width\",0.5]]}],[\"pattern\",{\"type\":\"map\",\"entries\":[[\"fillmode\",\"overlay\"],[\"size\",10],[\"solidity\",0.2]]}]]}],[\"type\",\"barpolar\"]]}]],[\"pie\",[{\"type\":\"map\",\"entries\":[[\"automargin\",true],[\"type\",\"pie\"]]}]]]}],[\"layout\",{\"type\":\"map\",\"entries\":[[\"autotypenumbers\",\"strict\"],[\"colorway\",[\"#636efa\",\"#EF553B\",\"#00cc96\",\"#ab63fa\",\"#FFA15A\",\"#19d3f3\",\"#FF6692\",\"#B6E880\",\"#FF97FF\",\"#FECB52\"]],[\"font\",{\"type\":\"map\",\"entries\":[[\"color\",\"#2a3f5f\"]]}],[\"hovermode\",\"closest\"],[\"hoverlabel\",{\"type\":\"map\",\"entries\":[[\"align\",\"left\"]]}],[\"paper_bgcolor\",\"white\"],[\"plot_bgcolor\",\"#E5ECF6\"],[\"polar\",{\"type\":\"map\",\"entries\":[[\"bgcolor\",\"#E5ECF6\"],[\"angularaxis\",{\"type\":\"map\",\"entries\":[[\"gridcolor\",\"white\"],[\"linecolor\",\"white\"],[\"ticks\",\"\"]]}],[\"radialaxis\",{\"type\":\"map\",\"entries\":[[\"gridcolor\",\"white\"],[\"linecolor\",\"white\"],[\"ticks\",\"\"]]}]]}],[\"ternary\",{\"type\":\"map\",\"entries\":[[\"bgcolor\",\"#E5ECF6\"],[\"aaxis\",{\"type\":\"map\",\"entries\":[[\"gridcolor\",\"white\"],[\"linecolor\",\"white\"],[\"ticks\",\"\"]]}],[\"baxis\",{\"type\":\"map\",\"entries\":[[\"gridcolor\",\"white\"],[\"linecolor\",\"white\"],[\"ticks\",\"\"]]}],[\"caxis\",{\"type\":\"map\",\"entries\":[[\"gridcolor\",\"white\"],[\"linecolor\",\"white\"],[\"ticks\",\"\"]]}]]}],[\"coloraxis\",{\"type\":\"map\",\"entries\":[[\"colorbar\",{\"type\":\"map\",\"entries\":[[\"outlinewidth\",0],[\"ticks\",\"\"]]}]]}],[\"colorscale\",{\"type\":\"map\",\"entries\":[[\"sequential\",[[0.0,\"#0d0887\"],[0.1111111111111111,\"#46039f\"],[0.2222222222222222,\"#7201a8\"],[0.3333333333333333,\"#9c179e\"],[0.4444444444444444,\"#bd3786\"],[0.5555555555555556,\"#d8576b\"],[0.6666666666666666,\"#ed7953\"],[0.7777777777777778,\"#fb9f3a\"],[0.8888888888888888,\"#fdca26\"],[1.0,\"#f0f921\"]]],[\"sequentialminus\",[[0.0,\"#0d0887\"],[0.1111111111111111,\"#46039f\"],[0.2222222222222222,\"#7201a8\"],[0.3333333333333333,\"#9c179e\"],[0.4444444444444444,\"#bd3786\"],[0.5555555555555556,\"#d8576b\"],[0.6666666666666666,\"#ed7953\"],[0.7777777777777778,\"#fb9f3a\"],[0.8888888888888888,\"#fdca26\"],[1.0,\"#f0f921\"]]],[\"diverging\",[[0,\"#8e0152\"],[0.1,\"#c51b7d\"],[0.2,\"#de77ae\"],[0.3,\"#f1b6da\"],[0.4,\"#fde0ef\"],[0.5,\"#f7f7f7\"],[0.6,\"#e6f5d0\"],[0.7,\"#b8e186\"],[0.8,\"#7fbc41\"],[0.9,\"#4d9221\"],[1,\"#276419\"]]]]}],[\"xaxis\",{\"type\":\"map\",\"entries\":[[\"gridcolor\",\"white\"],[\"linecolor\",\"white\"],[\"ticks\",\"\"],[\"title\",{\"type\":\"map\",\"entries\":[[\"standoff\",15]]}],[\"zerolinecolor\",\"white\"],[\"automargin\",true],[\"zerolinewidth\",2]]}],[\"yaxis\",{\"type\":\"map\",\"entries\":[[\"gridcolor\",\"white\"],[\"linecolor\",\"white\"],[\"ticks\",\"\"],[\"title\",{\"type\":\"map\",\"entries\":[[\"standoff\",15]]}],[\"zerolinecolor\",\"white\"],[\"automargin\",true],[\"zerolinewidth\",2]]}],[\"scene\",{\"type\":\"map\",\"entries\":[[\"xaxis\",{\"type\":\"map\",\"entries\":[[\"backgroundcolor\",\"#E5ECF6\"],[\"gridcolor\",\"white\"],[\"linecolor\",\"white\"],[\"showbackground\",true],[\"ticks\",\"\"],[\"zerolinecolor\",\"white\"],[\"gridwidth\",2]]}],[\"yaxis\",{\"type\":\"map\",\"entries\":[[\"backgroundcolor\",\"#E5ECF6\"],[\"gridcolor\",\"white\"],[\"linecolor\",\"white\"],[\"showbackground\",true],[\"ticks\",\"\"],[\"zerolinecolor\",\"white\"],[\"gridwidth\",2]]}],[\"zaxis\",{\"type\":\"map\",\"entries\":[[\"backgroundcolor\",\"#E5ECF6\"],[\"gridcolor\",\"white\"],[\"linecolor\",\"white\"],[\"showbackground\",true],[\"ticks\",\"\"],[\"zerolinecolor\",\"white\"],[\"gridwidth\",2]]}]]}],[\"shapedefaults\",{\"type\":\"map\",\"entries\":[[\"line\",{\"type\":\"map\",\"entries\":[[\"color\",\"#2a3f5f\"]]}]]}],[\"annotationdefaults\",{\"type\":\"map\",\"entries\":[[\"arrowcolor\",\"#2a3f5f\"],[\"arrowhead\",0],[\"arrowwidth\",1]]}],[\"geo\",{\"type\":\"map\",\"entries\":[[\"bgcolor\",\"white\"],[\"landcolor\",\"#E5ECF6\"],[\"subunitcolor\",\"white\"],[\"showland\",true],[\"showlakes\",true],[\"lakecolor\",\"white\"]]}],[\"title\",{\"type\":\"map\",\"entries\":[[\"x\",0.05]]}],[\"mapbox\",{\"type\":\"map\",\"entries\":[[\"style\",\"light\"]]}]]}]]}]]},\"config\":{\"type\":\"map\",\"entries\":[[\"responsive\",false]]},\"data_sources\":[{\"type\":\"object\",\"name\":\"ColumnDataSource\",\"id\":\"p1090\",\"attributes\":{\"selected\":{\"type\":\"object\",\"name\":\"Selection\",\"id\":\"p1091\",\"attributes\":{\"indices\":[],\"line_indices\":[]}},\"selection_policy\":{\"type\":\"object\",\"name\":\"UnionRenderers\",\"id\":\"p1092\"},\"data\":{\"type\":\"map\",\"entries\":[[\"x\",[{\"type\":\"ndarray\",\"array\":{\"type\":\"bytes\",\"data\":\"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\"},\"shape\":[400],\"dtype\":\"float64\",\"order\":\"little\"}]],[\"y\",[{\"type\":\"ndarray\",\"array\":{\"type\":\"bytes\",\"data\":\"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\"},\"shape\":[400],\"dtype\":\"float64\",\"order\":\"little\"}]],[\"z\",[{\"type\":\"ndarray\",\"array\":{\"type\":\"bytes\",\"data\":\"AAAAAAAAAAC4HoXrUbieP7gehetRuK4/CtejcD0Ktz+4HoXrUbi+PzQzMzMzM8M/CtejcD0Kxz/iehSuR+HKP7gehetRuM4/SOF6FK5H0T80MzMzMzPTPx+F61G4HtU/CtejcD0K1z/2KFyPwvXYP+J6FK5H4do/zMzMzMzM3D+4HoXrUbjeP1K4HoXrUeA/SOF6FK5H4T8+CtejcD3iPzQzMzMzM+M/KVyPwvUo5D8fhetRuB7lPxWuR+F6FOY/CtejcD0K5z8AAAAAAADoP/YoXI/C9eg/7FG4HoXr6T/iehSuR+HqP9ajcD0K1+s/zMzMzMzM7D/C9Shcj8LtP7gehetRuO4/rkfhehSu7z9SuB6F61HwP83MzMzMzPA/SOF6FK5H8T/C9Shcj8LxPz4K16NwPfI/uB6F61G48j80MzMzMzPzP65H4XoUrvM/KVyPwvUo9D+kcD0K16P0Px+F61G4HvU/mpmZmZmZ9T8VrkfhehT2P5DC9Shcj/Y/CtejcD0K9z+F61G4HoX3PwAAAAAAAPg/exSuR+F6+D/2KFyPwvX4P3E9CtejcPk/7FG4HoXr+T9nZmZmZmb6P+J6FK5H4fo/XY/C9Shc+z/Wo3A9Ctf7P1K4HoXrUfw/zMzMzMzM/D9I4XoUrkf9P8L1KFyPwv0/PgrXo3A9/j+4HoXrUbj+PzQzMzMzM/8/rkfhehSu/z8VrkfhehQAQFK4HoXrUQBAkML1KFyPAEDNzMzMzMwAQArXo3A9CgFASOF6FK5HAUCF61G4HoUBQML1KFyPwgFAAAAAAAAAAkA+CtejcD0CQHsUrkfhegJAuB6F61G4AkD2KFyPwvUCQDQzMzMzMwNAcT0K16NwA0CuR+F6FK4DQOxRuB6F6wNAKVyPwvUoBEBmZmZmZmYEQKRwPQrXowRA4XoUrkfhBEAfhetRuB4FQFyPwvUoXAVAmpmZmZmZBUDXo3A9CtcFQBWuR+F6FAZAUrgehetRBkCQwvUoXI8GQM3MzMzMzAZACtejcD0KB0BI4XoUrkcHQIXrUbgehQdAwvUoXI/CB0AAAAAAAAAAAHsUrkfhepQ/exSuR+F6pD+4HoXrUbiuP3sUrkfherQ/mpmZmZmZuT+4HoXrUbi+P+xRuB6F68E/exSuR+F6xD8K16NwPQrHP5qZmZmZmck/KVyPwvUozD+4HoXrUbjOP6RwPQrXo9A/7FG4HoXr0T8zMzMzMzPTP3sUrkfhetQ/w/UoXI/C1T8K16NwPQrXP1K4HoXrUdg/mpmZmZmZ2T/hehSuR+HaPylcj8L1KNw/cT0K16Nw3T+4HoXrUbjePwAAAAAAAOA/pHA9Ctej4D9I4XoUrkfhP+xRuB6F6+E/j8L1KFyP4j8zMzMzMzPjP9ejcD0K1+M/exSuR+F65D8fhetRuB7lP8P1KFyPwuU/Z2ZmZmZm5j8K16NwPQrnP65H4XoUruc/UrgehetR6D/2KFyPwvXoP5qZmZmZmek/PgrXo3A96j/hehSuR+HqP4XrUbgehes/KVyPwvUo7D/NzMzMzMzsP3E9CtejcO0/Fa5H4XoU7j+4HoXrUbjuP1yPwvUoXO8/AAAAAAAA8D9SuB6F61HwP6RwPQrXo/A/9ihcj8L18D9I4XoUrkfxP5qZmZmZmfE/7FG4HoXr8T8+CtejcD3yP4/C9Shcj/I/4XoUrkfh8j8zMzMzMzPzP4XrUbgehfM/16NwPQrX8z8pXI/C9Sj0P3sUrkfhevQ/zczMzMzM9D8fhetRuB71P3E9CtejcPU/w/UoXI/C9T8VrkfhehT2P2dmZmZmZvY/uB6F61G49j8K16NwPQr3P1yPwvUoXPc/rkfhehSu9z8AAAAAAAD4P1K4HoXrUfg/pHA9Ctej+D/2KFyPwvX4P0jhehSuR/k/mpmZmZmZ+T/sUbgehev5Pz4K16NwPfo/kML1KFyP+j/hehSuR+H6PzMzMzMzM/s/hetRuB6F+z/Xo3A9Ctf7Pylcj8L1KPw/exSuR+F6/D/NzMzMzMz8Px+F61G4Hv0/cT0K16Nw/T/D9Shcj8L9PxWuR+F6FP4/Z2ZmZmZm/j+4HoXrUbj+PwrXo3A9Cv8/XI/C9Shc/z+uR+F6FK7/PwAAAAAAAAAAmpmZmZmZqT+amZmZmZm5PzMzMzMzM8M/mpmZmZmZyT8AAAAAAADQPzMzMzMzM9M/Z2ZmZmZm1j+amZmZmZnZP8zMzMzMzNw/AAAAAAAA4D+amZmZmZnhPzMzMzMzM+M/zczMzMzM5D9nZmZmZmbmPwAAAAAAAOg/mpmZmZmZ6T80MzMzMzPrP8zMzMzMzOw/ZmZmZmZm7j8AAAAAAADwP83MzMzMzPA/mpmZmZmZ8T9nZmZmZmbyPzMzMzMzM/M/AAAAAAAA9D/NzMzMzMz0P5qZmZmZmfU/Z2ZmZmZm9j8zMzMzMzP3PwAAAAAAAPg/zczMzMzM+D+amZmZmZn5P2dmZmZmZvo/NDMzMzMz+z8BAAAAAAD8P8zMzMzMzPw/mpmZmZmZ/T9mZmZmZmb+PzQzMzMzM/8/AAAAAAAAAEBnZmZmZmYAQM3MzMzMzABAMzMzMzMzAUCamZmZmZkBQAAAAAAAAAJAZ2ZmZmZmAkDNzMzMzMwCQDMzMzMzMwNAmpmZmZmZA0AAAAAAAAAEQGZmZmZmZgRAzczMzMzMBEA0MzMzMzMFQJqZmZmZmQVAAAAAAAAABkBnZmZmZmYGQM7MzMzMzAZAMzMzMzMzB0CZmZmZmZkHQAAAAAAAAAhAZmZmZmZmCEDNzMzMzMwIQDMzMzMzMwlAmpmZmZmZCUAAAAAAAAAKQGdmZmZmZgpAzczMzMzMCkA0MzMzMzMLQJqZmZmZmQtAAQAAAAAADEBmZmZmZmYMQMzMzMzMzAxAMzMzMzMzDUCamZmZmZkNQAAAAAAAAA5AZmZmZmZmDkDNzMzMzMwOQDQzMzMzMw9AmpmZmZmZD0AAAAAAAAAQQDQzMzMzMxBAZ2ZmZmZmEECamZmZmZkQQM3MzMzMzBBAAAAAAAAAEUAzMzMzMzMRQGZmZmZmZhFAmpmZmZmZEUDNzMzMzMwRQAAAAAAAABJAMzMzMzMzEkBnZmZmZmYSQJqZmZmZmRJAzczMzMzMEkAAAAAAAAATQDMzMzMzMxNAZmZmZmZmE0CamZmZmZkTQM3MzMzMzBNAAAAAAAAAAACamZmZmZmpP5qZmZmZmbk/MzMzMzMzwz+amZmZmZnJPwAAAAAAANA/MzMzMzMz0z9nZmZmZmbWP5qZmZmZmdk/zMzMzMzM3D8AAAAAAADgP5qZmZmZmeE/MzMzMzMz4z/NzMzMzMzkP2dmZmZmZuY/AAAAAAAA6D+amZmZmZnpPzQzMzMzM+s/zMzMzMzM7D9mZmZmZmbuPwAAAAAAAPA/zczMzMzM8D+amZmZmZnxP2dmZmZmZvI/MzMzMzMz8z8AAAAAAAD0P83MzMzMzPQ/mpmZmZmZ9T9nZmZmZmb2PzMzMzMzM/c/AAAAAAAA+D/NzMzMzMz4P5qZmZmZmfk/Z2ZmZmZm+j80MzMzMzP7PwEAAAAAAPw/zMzMzMzM/D+amZmZmZn9P2ZmZmZmZv4/NDMzMzMz/z8AAAAAAAAAQGdmZmZmZgBAzczMzMzMAEAzMzMzMzMBQJqZmZmZmQFAAAAAAAAAAkBnZmZmZmYCQM3MzMzMzAJAMzMzMzMzA0CamZmZmZkDQAAAAAAAAARAZmZmZmZmBEDNzMzMzMwEQDQzMzMzMwVAmpmZmZmZBUAAAAAAAAAGQGdmZmZmZgZAzszMzMzMBkAzMzMzMzMHQJmZmZmZmQdAAAAAAAAACEBmZmZmZmYIQM3MzMzMzAhAMzMzMzMzCUCamZmZmZkJQAAAAAAAAApAZ2ZmZmZmCkDNzMzMzMwKQDQzMzMzMwtAmpmZmZmZC0ABAAAAAAAMQGZmZmZmZgxAzMzMzMzMDEAzMzMzMzMNQJqZmZmZmQ1AAAAAAAAADkBmZmZmZmYOQM3MzMzMzA5ANDMzMzMzD0CamZmZmZkPQAAAAAAAABBANDMzMzMzEEBnZmZmZmYQQJqZmZmZmRBAzczMzMzMEEAAAAAAAAARQDMzMzMzMxFAZmZmZmZmEUCamZmZmZkRQM3MzMzMzBFAAAAAAAAAEkAzMzMzMzMSQGdmZmZmZhJAmpmZmZmZEkDNzMzMzMwSQAAAAAAAABNAMzMzMzMzE0BmZmZmZmYTQJqZmZmZmRNAzczMzMzME0A=\"},\"shape\":[400],\"dtype\":\"float64\",\"order\":\"little\"}]]]}}}],\"relayout\":null,\"restyle\":null,\"viewport_update_throttle\":200}},{\"type\":\"object\",\"name\":\"Spacer\",\"id\":\"p1097\",\"attributes\":{\"name\":\"HSpacer00656\",\"stylesheets\":[\"\\n:host(.pn-loading.pn-arc):before, .pn-loading.pn-arc:before {\\n  background-image: url(\\\"data:image/svg+xml;base64,PHN2ZyB4bWxucz0iaHR0cDovL3d3dy53My5vcmcvMjAwMC9zdmciIHN0eWxlPSJtYXJnaW46IGF1dG87IGJhY2tncm91bmQ6IG5vbmU7IGRpc3BsYXk6IGJsb2NrOyBzaGFwZS1yZW5kZXJpbmc6IGF1dG87IiB2aWV3Qm94PSIwIDAgMTAwIDEwMCIgcHJlc2VydmVBc3BlY3RSYXRpbz0ieE1pZFlNaWQiPiAgPGNpcmNsZSBjeD0iNTAiIGN5PSI1MCIgZmlsbD0ibm9uZSIgc3Ryb2tlPSIjYzNjM2MzIiBzdHJva2Utd2lkdGg9IjEwIiByPSIzNSIgc3Ryb2tlLWRhc2hhcnJheT0iMTY0LjkzMzYxNDMxMzQ2NDE1IDU2Ljk3Nzg3MTQzNzgyMTM4Ij4gICAgPGFuaW1hdGVUcmFuc2Zvcm0gYXR0cmlidXRlTmFtZT0idHJhbnNmb3JtIiB0eXBlPSJyb3RhdGUiIHJlcGVhdENvdW50PSJpbmRlZmluaXRlIiBkdXI9IjFzIiB2YWx1ZXM9IjAgNTAgNTA7MzYwIDUwIDUwIiBrZXlUaW1lcz0iMDsxIj48L2FuaW1hdGVUcmFuc2Zvcm0+ICA8L2NpcmNsZT48L3N2Zz4=\\\");\\n  background-size: auto calc(min(50%, 400px));\\n}\",{\"id\":\"p1088\"},{\"id\":\"p1086\"},{\"id\":\"p1087\"}],\"margin\":0,\"sizing_mode\":\"stretch_width\",\"align\":\"start\"}}]}}],\"defs\":[{\"type\":\"model\",\"name\":\"ReactiveHTML1\"},{\"type\":\"model\",\"name\":\"FlexBox1\",\"properties\":[{\"name\":\"align_content\",\"kind\":\"Any\",\"default\":\"flex-start\"},{\"name\":\"align_items\",\"kind\":\"Any\",\"default\":\"flex-start\"},{\"name\":\"flex_direction\",\"kind\":\"Any\",\"default\":\"row\"},{\"name\":\"flex_wrap\",\"kind\":\"Any\",\"default\":\"wrap\"},{\"name\":\"justify_content\",\"kind\":\"Any\",\"default\":\"flex-start\"}]},{\"type\":\"model\",\"name\":\"FloatPanel1\",\"properties\":[{\"name\":\"config\",\"kind\":\"Any\",\"default\":{\"type\":\"map\"}},{\"name\":\"contained\",\"kind\":\"Any\",\"default\":true},{\"name\":\"position\",\"kind\":\"Any\",\"default\":\"right-top\"},{\"name\":\"offsetx\",\"kind\":\"Any\",\"default\":null},{\"name\":\"offsety\",\"kind\":\"Any\",\"default\":null},{\"name\":\"theme\",\"kind\":\"Any\",\"default\":\"primary\"},{\"name\":\"status\",\"kind\":\"Any\",\"default\":\"normalized\"}]},{\"type\":\"model\",\"name\":\"GridStack1\",\"properties\":[{\"name\":\"mode\",\"kind\":\"Any\",\"default\":\"warn\"},{\"name\":\"ncols\",\"kind\":\"Any\",\"default\":null},{\"name\":\"nrows\",\"kind\":\"Any\",\"default\":null},{\"name\":\"allow_resize\",\"kind\":\"Any\",\"default\":true},{\"name\":\"allow_drag\",\"kind\":\"Any\",\"default\":true},{\"name\":\"state\",\"kind\":\"Any\",\"default\":[]}]},{\"type\":\"model\",\"name\":\"drag1\",\"properties\":[{\"name\":\"slider_width\",\"kind\":\"Any\",\"default\":5},{\"name\":\"slider_color\",\"kind\":\"Any\",\"default\":\"black\"},{\"name\":\"value\",\"kind\":\"Any\",\"default\":50}]},{\"type\":\"model\",\"name\":\"click1\",\"properties\":[{\"name\":\"terminal_output\",\"kind\":\"Any\",\"default\":\"\"},{\"name\":\"debug_name\",\"kind\":\"Any\",\"default\":\"\"},{\"name\":\"clears\",\"kind\":\"Any\",\"default\":0}]},{\"type\":\"model\",\"name\":\"FastWrapper1\",\"properties\":[{\"name\":\"object\",\"kind\":\"Any\",\"default\":null},{\"name\":\"style\",\"kind\":\"Any\",\"default\":null}]},{\"type\":\"model\",\"name\":\"NotificationAreaBase1\",\"properties\":[{\"name\":\"js_events\",\"kind\":\"Any\",\"default\":{\"type\":\"map\"}},{\"name\":\"position\",\"kind\":\"Any\",\"default\":\"bottom-right\"},{\"name\":\"_clear\",\"kind\":\"Any\",\"default\":0}]},{\"type\":\"model\",\"name\":\"NotificationArea1\",\"properties\":[{\"name\":\"js_events\",\"kind\":\"Any\",\"default\":{\"type\":\"map\"}},{\"name\":\"notifications\",\"kind\":\"Any\",\"default\":[]},{\"name\":\"position\",\"kind\":\"Any\",\"default\":\"bottom-right\"},{\"name\":\"_clear\",\"kind\":\"Any\",\"default\":0},{\"name\":\"types\",\"kind\":\"Any\",\"default\":[{\"type\":\"map\",\"entries\":[[\"type\",\"warning\"],[\"background\",\"#ffc107\"],[\"icon\",{\"type\":\"map\",\"entries\":[[\"className\",\"fas fa-exclamation-triangle\"],[\"tagName\",\"i\"],[\"color\",\"white\"]]}]]},{\"type\":\"map\",\"entries\":[[\"type\",\"info\"],[\"background\",\"#007bff\"],[\"icon\",{\"type\":\"map\",\"entries\":[[\"className\",\"fas fa-info-circle\"],[\"tagName\",\"i\"],[\"color\",\"white\"]]}]]}]}]},{\"type\":\"model\",\"name\":\"Notification\",\"properties\":[{\"name\":\"background\",\"kind\":\"Any\",\"default\":null},{\"name\":\"duration\",\"kind\":\"Any\",\"default\":3000},{\"name\":\"icon\",\"kind\":\"Any\",\"default\":null},{\"name\":\"message\",\"kind\":\"Any\",\"default\":\"\"},{\"name\":\"notification_type\",\"kind\":\"Any\",\"default\":null},{\"name\":\"_destroyed\",\"kind\":\"Any\",\"default\":false}]},{\"type\":\"model\",\"name\":\"TemplateActions1\",\"properties\":[{\"name\":\"open_modal\",\"kind\":\"Any\",\"default\":0},{\"name\":\"close_modal\",\"kind\":\"Any\",\"default\":0}]},{\"type\":\"model\",\"name\":\"BootstrapTemplateActions1\",\"properties\":[{\"name\":\"open_modal\",\"kind\":\"Any\",\"default\":0},{\"name\":\"close_modal\",\"kind\":\"Any\",\"default\":0}]},{\"type\":\"model\",\"name\":\"MaterialTemplateActions1\",\"properties\":[{\"name\":\"open_modal\",\"kind\":\"Any\",\"default\":0},{\"name\":\"close_modal\",\"kind\":\"Any\",\"default\":0}]}]}};\n",
       "  var render_items = [{\"docid\":\"517c4946-a485-493f-9fb5-8b60e410fade\",\"roots\":{\"p1085\":\"aa88f810-be50-428d-987d-e9e10019cfce\"},\"root_ids\":[\"p1085\"]}];\n",
       "  var docs = Object.values(docs_json)\n",
       "  if (!docs) {\n",
       "    return\n",
       "  }\n",
       "  const py_version = docs[0].version.replace('rc', '-rc.').replace('.dev', '-dev.')\n",
       "  const is_dev = py_version.indexOf(\"+\") !== -1 || py_version.indexOf(\"-\") !== -1\n",
       "  function embed_document(root) {\n",
       "    var Bokeh = get_bokeh(root)\n",
       "    Bokeh.embed.embed_items_notebook(docs_json, render_items);\n",
       "    for (const render_item of render_items) {\n",
       "      for (const root_id of render_item.root_ids) {\n",
       "\tconst id_el = document.getElementById(root_id)\n",
       "\tif (id_el.children.length && (id_el.children[0].className === 'bk-root')) {\n",
       "\t  const root_el = id_el.children[0]\n",
       "\t  root_el.id = root_el.id + '-rendered'\n",
       "\t}\n",
       "      }\n",
       "    }\n",
       "  }\n",
       "  function get_bokeh(root) {\n",
       "    if (root.Bokeh === undefined) {\n",
       "      return null\n",
       "    } else if (root.Bokeh.version !== py_version && !is_dev) {\n",
       "      if (root.Bokeh.versions === undefined || !root.Bokeh.versions.has(py_version)) {\n",
       "\treturn null\n",
       "      }\n",
       "      return root.Bokeh.versions.get(py_version);\n",
       "    } else if (root.Bokeh.version === py_version) {\n",
       "      return root.Bokeh\n",
       "    }\n",
       "    return null\n",
       "  }\n",
       "  function is_loaded(root) {\n",
       "    var Bokeh = get_bokeh(root)\n",
       "    return (Bokeh != null && Bokeh.Panel !== undefined && ( root['Plotly'] !== undefined))\n",
       "  }\n",
       "  if (is_loaded(root)) {\n",
       "    embed_document(root);\n",
       "  } else {\n",
       "    var attempts = 0;\n",
       "    var timer = setInterval(function(root) {\n",
       "      if (is_loaded(root)) {\n",
       "        clearInterval(timer);\n",
       "        embed_document(root);\n",
       "      } else if (document.readyState == \"complete\") {\n",
       "        attempts++;\n",
       "        if (attempts > 200) {\n",
       "          clearInterval(timer);\n",
       "\t  var Bokeh = get_bokeh(root)\n",
       "\t  if (Bokeh == null || Bokeh.Panel == null) {\n",
       "            console.warn(\"Panel: ERROR: Unable to run Panel code because Bokeh or Panel library is missing\");\n",
       "\t  } else {\n",
       "\t    console.warn(\"Panel: WARNING: Attempting to render but not all required libraries could be resolved.\")\n",
       "\t    embed_document(root)\n",
       "\t  }\n",
       "        }\n",
       "      }\n",
       "    }, 25, root)\n",
       "  }\n",
       "})(window);</script>"
      ],
      "text/plain": [
       ":Scatter3D   [x,y,z]"
      ]
     },
     "execution_count": 8,
     "metadata": {
      "application/vnd.holoviews_exec.v0+json": {
       "id": "p1085"
      }
     },
     "output_type": "execute_result"
    }
   ],
   "source": [
    "FancyPlot3dVectors( [[7,7,3], [5,-5,2], [-8,1,5], [-5, -10, 5]] )\n"
   ]
  },
  {
   "cell_type": "markdown",
   "id": "45863664",
   "metadata": {},
   "source": [
    "---\n",
    "#  Now it is your turn to do work on some exercises \n"
   ]
  },
  {
   "cell_type": "markdown",
   "id": "474d0d19",
   "metadata": {},
   "source": [
    "---\n",
    "### Exercise 1\n",
    "\n",
    "1. What is the length of the vector $\\vec{v}=(1,2)$?  Use the dot product.\n",
    "2. What is the angle between the vectors $\\vec{u}=(3,0)$ and $\\vec{v}$? Use the dot product. \n",
    "3. What is the angle between the vectors $\\vec{u}$ and $\\vec{w}=(-1,2)$?\n",
    "4. Now find the angle between the 3d vectors (5,1,0) and (-4,2,7)."
   ]
  },
  {
   "cell_type": "code",
   "execution_count": 9,
   "id": "51f0c597",
   "metadata": {},
   "outputs": [
    {
     "name": "stdout",
     "output_type": "stream",
     "text": [
      "1. Length of vector v: 2.23606797749979\n",
      "2. Angle between vectors u and v (degrees): 63.43494882292201\n",
      "3. Angle between vectors u and w (degrees): 116.56505117707799\n",
      "4. Angle between 3D vectors (degrees): 115.14895113310558\n"
     ]
    }
   ],
   "source": [
    "# Write some code here\n",
    "# Define the vectors\n",
    "v = np.array([1, 2])\n",
    "u = np.array([3, 0])\n",
    "w = np.array([-1, 2])\n",
    "v3d = np.array([5, 1, 0])\n",
    "w3d = np.array([-4, 2, 7])\n",
    "\n",
    "# 1. Length of vector v using the dot product (magnitude)\n",
    "length_v = np.sqrt(np.dot(v, v))\n",
    "print(\"1. Length of vector v:\", length_v)\n",
    "\n",
    "# 2. Angle between vectors u and v using the dot product\n",
    "dot_product_uv = np.dot(u, v)\n",
    "magnitude_u = np.sqrt(np.dot(u, u))\n",
    "magnitude_v = np.sqrt(np.dot(v, v))\n",
    "cosine_theta_uv = dot_product_uv / (magnitude_u * magnitude_v)\n",
    "angle_uv = np.arccos(cosine_theta_uv)  # in radians\n",
    "angle_uv_degrees = np.degrees(angle_uv)  # in degrees\n",
    "print(\"2. Angle between vectors u and v (degrees):\", angle_uv_degrees)\n",
    "\n",
    "# 3. Angle between vectors u and w using the dot product\n",
    "dot_product_uw = np.dot(u, w)\n",
    "magnitude_w = np.sqrt(np.dot(w, w))\n",
    "cosine_theta_uw = dot_product_uw / (magnitude_u * magnitude_w)\n",
    "angle_uw = np.arccos(cosine_theta_uw)  # in radians\n",
    "angle_uw_degrees = np.degrees(angle_uw)  # in degrees\n",
    "print(\"3. Angle between vectors u and w (degrees):\", angle_uw_degrees)\n",
    "\n",
    "# 4. Angle between 3D vectors v3d and w3d using the dot product\n",
    "dot_product_v3d_w3d = np.dot(v3d, w3d)\n",
    "# Calculate magnitude using numpy's norm function\n",
    "magnitude_v3d = np.linalg.norm(v3d)\n",
    "magnitude_w3d = np.linalg.norm(w3d)\n",
    "cosine_theta_3d = dot_product_v3d_w3d / (magnitude_v3d * magnitude_w3d)\n",
    "angle_3d = np.arccos(cosine_theta_3d)  # in radians\n",
    "angle_3d_degrees = np.degrees(angle_3d)  # in degrees\n",
    "print(\"4. Angle between 3D vectors (degrees):\", angle_3d_degrees)"
   ]
  },
  {
   "cell_type": "markdown",
   "id": "44cb9f1f-b420-49cf-af07-94ba5418f999",
   "metadata": {
    "tags": []
   },
   "source": [
    "4. Write a function **Proj(vect1, vect2)** that calculates and returns the projection of vect1 onto vect2.  Make sure it works in both 2d and 3d (and higher dimensions).\n",
    "5. Use your function to calculate the projection of $\\vec{u}$ onto $\\vec{v}$, and the projection of $\\vec{w}$ onto $\\vec{v}$."
   ]
  },
  {
   "cell_type": "code",
   "execution_count": 10,
   "id": "9c7c9477-513a-4a3b-a740-2f931c35014f",
   "metadata": {
    "tags": []
   },
   "outputs": [],
   "source": [
    "def Proj(vect1, vect2):\n",
    "    # put some code here\n",
    "    # Calculate the dot product of vect1 and vect2\n",
    "    dot_product = np.dot(vect1, vect2)\n",
    "    # Calculate the squared magnitude of vect2\n",
    "    magnitude_squared = np.dot(vect2, vect2)\n",
    "    # Calculate the projection of vect1 onto vect2\n",
    "    projection = (dot_product / magnitude_squared) * vect2\n",
    "    return projection"
   ]
  },
  {
   "cell_type": "code",
   "execution_count": 12,
   "id": "b0cd97d1",
   "metadata": {},
   "outputs": [
    {
     "name": "stdout",
     "output_type": "stream",
     "text": [
      "Projection of u onto v: [0.6 1.2]\n",
      "Projection of w onto v: [0.6 1.2]\n"
     ]
    }
   ],
   "source": [
    "# Calculate the projection of u onto v\n",
    "projection_uv = Proj(u, v)\n",
    "print(\"Projection of u onto v:\", projection_uv)\n",
    "\n",
    "# Calculate the projection of w onto v\n",
    "projection_wv = Proj(w, v)\n",
    "print(\"Projection of w onto v:\", projection_wv)"
   ]
  },
  {
   "cell_type": "markdown",
   "id": "8a99dbd7-8735-4377-aaa7-98cf9167e444",
   "metadata": {},
   "source": [
    "Here is some code to draw a plot and check that you code is working correctly in 2d."
   ]
  },
  {
   "cell_type": "code",
   "execution_count": 13,
   "id": "f004810d-e815-43cc-a657-88779fcfb512",
   "metadata": {
    "tags": []
   },
   "outputs": [],
   "source": [
    "def Plot2dProjection(vect1, vect2):   \n",
    "    p = figure(width=800, height=600, title=\"Vectors!\")\n",
    "    vect3 = Proj(vect1, vect2)\n",
    "    for vect in [vect1, vect2, vect3]:\n",
    "        xcoords = [0,vect[0]]\n",
    "        ycoords = [0,vect[1]]\n",
    "        p.line(xcoords, ycoords, line_width=2, color='blue')\n",
    "        p.circle([vect[0]], [vect[1]], color='red', size=6)\n",
    "    p.line([vect3[0], vect1[0]], [vect3[1], vect1[1]], line_width=2, color='grey')\n",
    "    show(p)"
   ]
  },
  {
   "cell_type": "code",
   "execution_count": 14,
   "id": "1eb07838-49df-4c03-b3c1-87e8d4455b83",
   "metadata": {
    "tags": []
   },
   "outputs": [
    {
     "data": {
      "text/html": [
       "\n",
       "  <div id=\"d466d7b7-a70b-41ac-a7eb-42091d6561cf\" data-root-id=\"p1104\" style=\"display: contents;\"></div>\n"
      ]
     },
     "metadata": {},
     "output_type": "display_data"
    },
    {
     "data": {
      "application/javascript": "(function(root) {\n  function embed_document(root) {\n  const docs_json = {\"05680e83-d0db-47a0-9932-642584bd78c5\":{\"version\":\"3.2.2\",\"title\":\"Bokeh Application\",\"roots\":[{\"type\":\"object\",\"name\":\"Figure\",\"id\":\"p1104\",\"attributes\":{\"width\":800,\"x_range\":{\"type\":\"object\",\"name\":\"DataRange1d\",\"id\":\"p1105\"},\"y_range\":{\"type\":\"object\",\"name\":\"DataRange1d\",\"id\":\"p1106\"},\"x_scale\":{\"type\":\"object\",\"name\":\"LinearScale\",\"id\":\"p1114\"},\"y_scale\":{\"type\":\"object\",\"name\":\"LinearScale\",\"id\":\"p1115\"},\"title\":{\"type\":\"object\",\"name\":\"Title\",\"id\":\"p1107\",\"attributes\":{\"text\":\"Vectors!\"}},\"renderers\":[{\"type\":\"object\",\"name\":\"GlyphRenderer\",\"id\":\"p1139\",\"attributes\":{\"data_source\":{\"type\":\"object\",\"name\":\"ColumnDataSource\",\"id\":\"p1133\",\"attributes\":{\"selected\":{\"type\":\"object\",\"name\":\"Selection\",\"id\":\"p1134\",\"attributes\":{\"indices\":[],\"line_indices\":[]}},\"selection_policy\":{\"type\":\"object\",\"name\":\"UnionRenderers\",\"id\":\"p1135\"},\"data\":{\"type\":\"map\",\"entries\":[[\"x\",[0,3]],[\"y\",[0,0]]]}}},\"view\":{\"type\":\"object\",\"name\":\"CDSView\",\"id\":\"p1140\",\"attributes\":{\"filter\":{\"type\":\"object\",\"name\":\"AllIndices\",\"id\":\"p1141\"}}},\"glyph\":{\"type\":\"object\",\"name\":\"Line\",\"id\":\"p1136\",\"attributes\":{\"x\":{\"type\":\"field\",\"field\":\"x\"},\"y\":{\"type\":\"field\",\"field\":\"y\"},\"line_color\":\"blue\",\"line_width\":2}},\"nonselection_glyph\":{\"type\":\"object\",\"name\":\"Line\",\"id\":\"p1137\",\"attributes\":{\"x\":{\"type\":\"field\",\"field\":\"x\"},\"y\":{\"type\":\"field\",\"field\":\"y\"},\"line_color\":\"blue\",\"line_alpha\":0.1,\"line_width\":2}},\"muted_glyph\":{\"type\":\"object\",\"name\":\"Line\",\"id\":\"p1138\",\"attributes\":{\"x\":{\"type\":\"field\",\"field\":\"x\"},\"y\":{\"type\":\"field\",\"field\":\"y\"},\"line_color\":\"blue\",\"line_alpha\":0.2,\"line_width\":2}}}},{\"type\":\"object\",\"name\":\"GlyphRenderer\",\"id\":\"p1148\",\"attributes\":{\"data_source\":{\"type\":\"object\",\"name\":\"ColumnDataSource\",\"id\":\"p1142\",\"attributes\":{\"selected\":{\"type\":\"object\",\"name\":\"Selection\",\"id\":\"p1143\",\"attributes\":{\"indices\":[],\"line_indices\":[]}},\"selection_policy\":{\"type\":\"object\",\"name\":\"UnionRenderers\",\"id\":\"p1144\"},\"data\":{\"type\":\"map\",\"entries\":[[\"x\",[3]],[\"y\",[0]]]}}},\"view\":{\"type\":\"object\",\"name\":\"CDSView\",\"id\":\"p1149\",\"attributes\":{\"filter\":{\"type\":\"object\",\"name\":\"AllIndices\",\"id\":\"p1150\"}}},\"glyph\":{\"type\":\"object\",\"name\":\"Circle\",\"id\":\"p1145\",\"attributes\":{\"x\":{\"type\":\"field\",\"field\":\"x\"},\"y\":{\"type\":\"field\",\"field\":\"y\"},\"size\":{\"type\":\"value\",\"value\":6},\"line_color\":{\"type\":\"value\",\"value\":\"red\"},\"fill_color\":{\"type\":\"value\",\"value\":\"red\"},\"hatch_color\":{\"type\":\"value\",\"value\":\"red\"}}},\"nonselection_glyph\":{\"type\":\"object\",\"name\":\"Circle\",\"id\":\"p1146\",\"attributes\":{\"x\":{\"type\":\"field\",\"field\":\"x\"},\"y\":{\"type\":\"field\",\"field\":\"y\"},\"size\":{\"type\":\"value\",\"value\":6},\"line_color\":{\"type\":\"value\",\"value\":\"red\"},\"line_alpha\":{\"type\":\"value\",\"value\":0.1},\"fill_color\":{\"type\":\"value\",\"value\":\"red\"},\"fill_alpha\":{\"type\":\"value\",\"value\":0.1},\"hatch_color\":{\"type\":\"value\",\"value\":\"red\"},\"hatch_alpha\":{\"type\":\"value\",\"value\":0.1}}},\"muted_glyph\":{\"type\":\"object\",\"name\":\"Circle\",\"id\":\"p1147\",\"attributes\":{\"x\":{\"type\":\"field\",\"field\":\"x\"},\"y\":{\"type\":\"field\",\"field\":\"y\"},\"size\":{\"type\":\"value\",\"value\":6},\"line_color\":{\"type\":\"value\",\"value\":\"red\"},\"line_alpha\":{\"type\":\"value\",\"value\":0.2},\"fill_color\":{\"type\":\"value\",\"value\":\"red\"},\"fill_alpha\":{\"type\":\"value\",\"value\":0.2},\"hatch_color\":{\"type\":\"value\",\"value\":\"red\"},\"hatch_alpha\":{\"type\":\"value\",\"value\":0.2}}}}},{\"type\":\"object\",\"name\":\"GlyphRenderer\",\"id\":\"p1157\",\"attributes\":{\"data_source\":{\"type\":\"object\",\"name\":\"ColumnDataSource\",\"id\":\"p1151\",\"attributes\":{\"selected\":{\"type\":\"object\",\"name\":\"Selection\",\"id\":\"p1152\",\"attributes\":{\"indices\":[],\"line_indices\":[]}},\"selection_policy\":{\"type\":\"object\",\"name\":\"UnionRenderers\",\"id\":\"p1153\"},\"data\":{\"type\":\"map\",\"entries\":[[\"x\",[0,1]],[\"y\",[0,2]]]}}},\"view\":{\"type\":\"object\",\"name\":\"CDSView\",\"id\":\"p1158\",\"attributes\":{\"filter\":{\"type\":\"object\",\"name\":\"AllIndices\",\"id\":\"p1159\"}}},\"glyph\":{\"type\":\"object\",\"name\":\"Line\",\"id\":\"p1154\",\"attributes\":{\"x\":{\"type\":\"field\",\"field\":\"x\"},\"y\":{\"type\":\"field\",\"field\":\"y\"},\"line_color\":\"blue\",\"line_width\":2}},\"nonselection_glyph\":{\"type\":\"object\",\"name\":\"Line\",\"id\":\"p1155\",\"attributes\":{\"x\":{\"type\":\"field\",\"field\":\"x\"},\"y\":{\"type\":\"field\",\"field\":\"y\"},\"line_color\":\"blue\",\"line_alpha\":0.1,\"line_width\":2}},\"muted_glyph\":{\"type\":\"object\",\"name\":\"Line\",\"id\":\"p1156\",\"attributes\":{\"x\":{\"type\":\"field\",\"field\":\"x\"},\"y\":{\"type\":\"field\",\"field\":\"y\"},\"line_color\":\"blue\",\"line_alpha\":0.2,\"line_width\":2}}}},{\"type\":\"object\",\"name\":\"GlyphRenderer\",\"id\":\"p1166\",\"attributes\":{\"data_source\":{\"type\":\"object\",\"name\":\"ColumnDataSource\",\"id\":\"p1160\",\"attributes\":{\"selected\":{\"type\":\"object\",\"name\":\"Selection\",\"id\":\"p1161\",\"attributes\":{\"indices\":[],\"line_indices\":[]}},\"selection_policy\":{\"type\":\"object\",\"name\":\"UnionRenderers\",\"id\":\"p1162\"},\"data\":{\"type\":\"map\",\"entries\":[[\"x\",[1]],[\"y\",[2]]]}}},\"view\":{\"type\":\"object\",\"name\":\"CDSView\",\"id\":\"p1167\",\"attributes\":{\"filter\":{\"type\":\"object\",\"name\":\"AllIndices\",\"id\":\"p1168\"}}},\"glyph\":{\"type\":\"object\",\"name\":\"Circle\",\"id\":\"p1163\",\"attributes\":{\"x\":{\"type\":\"field\",\"field\":\"x\"},\"y\":{\"type\":\"field\",\"field\":\"y\"},\"size\":{\"type\":\"value\",\"value\":6},\"line_color\":{\"type\":\"value\",\"value\":\"red\"},\"fill_color\":{\"type\":\"value\",\"value\":\"red\"},\"hatch_color\":{\"type\":\"value\",\"value\":\"red\"}}},\"nonselection_glyph\":{\"type\":\"object\",\"name\":\"Circle\",\"id\":\"p1164\",\"attributes\":{\"x\":{\"type\":\"field\",\"field\":\"x\"},\"y\":{\"type\":\"field\",\"field\":\"y\"},\"size\":{\"type\":\"value\",\"value\":6},\"line_color\":{\"type\":\"value\",\"value\":\"red\"},\"line_alpha\":{\"type\":\"value\",\"value\":0.1},\"fill_color\":{\"type\":\"value\",\"value\":\"red\"},\"fill_alpha\":{\"type\":\"value\",\"value\":0.1},\"hatch_color\":{\"type\":\"value\",\"value\":\"red\"},\"hatch_alpha\":{\"type\":\"value\",\"value\":0.1}}},\"muted_glyph\":{\"type\":\"object\",\"name\":\"Circle\",\"id\":\"p1165\",\"attributes\":{\"x\":{\"type\":\"field\",\"field\":\"x\"},\"y\":{\"type\":\"field\",\"field\":\"y\"},\"size\":{\"type\":\"value\",\"value\":6},\"line_color\":{\"type\":\"value\",\"value\":\"red\"},\"line_alpha\":{\"type\":\"value\",\"value\":0.2},\"fill_color\":{\"type\":\"value\",\"value\":\"red\"},\"fill_alpha\":{\"type\":\"value\",\"value\":0.2},\"hatch_color\":{\"type\":\"value\",\"value\":\"red\"},\"hatch_alpha\":{\"type\":\"value\",\"value\":0.2}}}}},{\"type\":\"object\",\"name\":\"GlyphRenderer\",\"id\":\"p1175\",\"attributes\":{\"data_source\":{\"type\":\"object\",\"name\":\"ColumnDataSource\",\"id\":\"p1169\",\"attributes\":{\"selected\":{\"type\":\"object\",\"name\":\"Selection\",\"id\":\"p1170\",\"attributes\":{\"indices\":[],\"line_indices\":[]}},\"selection_policy\":{\"type\":\"object\",\"name\":\"UnionRenderers\",\"id\":\"p1171\"},\"data\":{\"type\":\"map\",\"entries\":[[\"x\",[0,0.6]],[\"y\",[0,1.2]]]}}},\"view\":{\"type\":\"object\",\"name\":\"CDSView\",\"id\":\"p1176\",\"attributes\":{\"filter\":{\"type\":\"object\",\"name\":\"AllIndices\",\"id\":\"p1177\"}}},\"glyph\":{\"type\":\"object\",\"name\":\"Line\",\"id\":\"p1172\",\"attributes\":{\"x\":{\"type\":\"field\",\"field\":\"x\"},\"y\":{\"type\":\"field\",\"field\":\"y\"},\"line_color\":\"blue\",\"line_width\":2}},\"nonselection_glyph\":{\"type\":\"object\",\"name\":\"Line\",\"id\":\"p1173\",\"attributes\":{\"x\":{\"type\":\"field\",\"field\":\"x\"},\"y\":{\"type\":\"field\",\"field\":\"y\"},\"line_color\":\"blue\",\"line_alpha\":0.1,\"line_width\":2}},\"muted_glyph\":{\"type\":\"object\",\"name\":\"Line\",\"id\":\"p1174\",\"attributes\":{\"x\":{\"type\":\"field\",\"field\":\"x\"},\"y\":{\"type\":\"field\",\"field\":\"y\"},\"line_color\":\"blue\",\"line_alpha\":0.2,\"line_width\":2}}}},{\"type\":\"object\",\"name\":\"GlyphRenderer\",\"id\":\"p1184\",\"attributes\":{\"data_source\":{\"type\":\"object\",\"name\":\"ColumnDataSource\",\"id\":\"p1178\",\"attributes\":{\"selected\":{\"type\":\"object\",\"name\":\"Selection\",\"id\":\"p1179\",\"attributes\":{\"indices\":[],\"line_indices\":[]}},\"selection_policy\":{\"type\":\"object\",\"name\":\"UnionRenderers\",\"id\":\"p1180\"},\"data\":{\"type\":\"map\",\"entries\":[[\"x\",[0.6]],[\"y\",[1.2]]]}}},\"view\":{\"type\":\"object\",\"name\":\"CDSView\",\"id\":\"p1185\",\"attributes\":{\"filter\":{\"type\":\"object\",\"name\":\"AllIndices\",\"id\":\"p1186\"}}},\"glyph\":{\"type\":\"object\",\"name\":\"Circle\",\"id\":\"p1181\",\"attributes\":{\"x\":{\"type\":\"field\",\"field\":\"x\"},\"y\":{\"type\":\"field\",\"field\":\"y\"},\"size\":{\"type\":\"value\",\"value\":6},\"line_color\":{\"type\":\"value\",\"value\":\"red\"},\"fill_color\":{\"type\":\"value\",\"value\":\"red\"},\"hatch_color\":{\"type\":\"value\",\"value\":\"red\"}}},\"nonselection_glyph\":{\"type\":\"object\",\"name\":\"Circle\",\"id\":\"p1182\",\"attributes\":{\"x\":{\"type\":\"field\",\"field\":\"x\"},\"y\":{\"type\":\"field\",\"field\":\"y\"},\"size\":{\"type\":\"value\",\"value\":6},\"line_color\":{\"type\":\"value\",\"value\":\"red\"},\"line_alpha\":{\"type\":\"value\",\"value\":0.1},\"fill_color\":{\"type\":\"value\",\"value\":\"red\"},\"fill_alpha\":{\"type\":\"value\",\"value\":0.1},\"hatch_color\":{\"type\":\"value\",\"value\":\"red\"},\"hatch_alpha\":{\"type\":\"value\",\"value\":0.1}}},\"muted_glyph\":{\"type\":\"object\",\"name\":\"Circle\",\"id\":\"p1183\",\"attributes\":{\"x\":{\"type\":\"field\",\"field\":\"x\"},\"y\":{\"type\":\"field\",\"field\":\"y\"},\"size\":{\"type\":\"value\",\"value\":6},\"line_color\":{\"type\":\"value\",\"value\":\"red\"},\"line_alpha\":{\"type\":\"value\",\"value\":0.2},\"fill_color\":{\"type\":\"value\",\"value\":\"red\"},\"fill_alpha\":{\"type\":\"value\",\"value\":0.2},\"hatch_color\":{\"type\":\"value\",\"value\":\"red\"},\"hatch_alpha\":{\"type\":\"value\",\"value\":0.2}}}}},{\"type\":\"object\",\"name\":\"GlyphRenderer\",\"id\":\"p1193\",\"attributes\":{\"data_source\":{\"type\":\"object\",\"name\":\"ColumnDataSource\",\"id\":\"p1187\",\"attributes\":{\"selected\":{\"type\":\"object\",\"name\":\"Selection\",\"id\":\"p1188\",\"attributes\":{\"indices\":[],\"line_indices\":[]}},\"selection_policy\":{\"type\":\"object\",\"name\":\"UnionRenderers\",\"id\":\"p1189\"},\"data\":{\"type\":\"map\",\"entries\":[[\"x\",[0.6,3]],[\"y\",[1.2,0]]]}}},\"view\":{\"type\":\"object\",\"name\":\"CDSView\",\"id\":\"p1194\",\"attributes\":{\"filter\":{\"type\":\"object\",\"name\":\"AllIndices\",\"id\":\"p1195\"}}},\"glyph\":{\"type\":\"object\",\"name\":\"Line\",\"id\":\"p1190\",\"attributes\":{\"x\":{\"type\":\"field\",\"field\":\"x\"},\"y\":{\"type\":\"field\",\"field\":\"y\"},\"line_color\":\"grey\",\"line_width\":2}},\"nonselection_glyph\":{\"type\":\"object\",\"name\":\"Line\",\"id\":\"p1191\",\"attributes\":{\"x\":{\"type\":\"field\",\"field\":\"x\"},\"y\":{\"type\":\"field\",\"field\":\"y\"},\"line_color\":\"grey\",\"line_alpha\":0.1,\"line_width\":2}},\"muted_glyph\":{\"type\":\"object\",\"name\":\"Line\",\"id\":\"p1192\",\"attributes\":{\"x\":{\"type\":\"field\",\"field\":\"x\"},\"y\":{\"type\":\"field\",\"field\":\"y\"},\"line_color\":\"grey\",\"line_alpha\":0.2,\"line_width\":2}}}}],\"toolbar\":{\"type\":\"object\",\"name\":\"Toolbar\",\"id\":\"p1113\",\"attributes\":{\"tools\":[{\"type\":\"object\",\"name\":\"PanTool\",\"id\":\"p1126\"},{\"type\":\"object\",\"name\":\"WheelZoomTool\",\"id\":\"p1127\"},{\"type\":\"object\",\"name\":\"BoxZoomTool\",\"id\":\"p1128\",\"attributes\":{\"overlay\":{\"type\":\"object\",\"name\":\"BoxAnnotation\",\"id\":\"p1129\",\"attributes\":{\"syncable\":false,\"level\":\"overlay\",\"visible\":false,\"left_units\":\"canvas\",\"right_units\":\"canvas\",\"bottom_units\":\"canvas\",\"top_units\":\"canvas\",\"line_color\":\"black\",\"line_alpha\":1.0,\"line_width\":2,\"line_dash\":[4,4],\"fill_color\":\"lightgrey\",\"fill_alpha\":0.5}}}},{\"type\":\"object\",\"name\":\"SaveTool\",\"id\":\"p1130\"},{\"type\":\"object\",\"name\":\"ResetTool\",\"id\":\"p1131\"},{\"type\":\"object\",\"name\":\"HelpTool\",\"id\":\"p1132\"}]}},\"left\":[{\"type\":\"object\",\"name\":\"LinearAxis\",\"id\":\"p1121\",\"attributes\":{\"ticker\":{\"type\":\"object\",\"name\":\"BasicTicker\",\"id\":\"p1122\",\"attributes\":{\"mantissas\":[1,2,5]}},\"formatter\":{\"type\":\"object\",\"name\":\"BasicTickFormatter\",\"id\":\"p1123\"},\"major_label_policy\":{\"type\":\"object\",\"name\":\"AllLabels\",\"id\":\"p1124\"}}}],\"below\":[{\"type\":\"object\",\"name\":\"LinearAxis\",\"id\":\"p1116\",\"attributes\":{\"ticker\":{\"type\":\"object\",\"name\":\"BasicTicker\",\"id\":\"p1117\",\"attributes\":{\"mantissas\":[1,2,5]}},\"formatter\":{\"type\":\"object\",\"name\":\"BasicTickFormatter\",\"id\":\"p1118\"},\"major_label_policy\":{\"type\":\"object\",\"name\":\"AllLabels\",\"id\":\"p1119\"}}}],\"center\":[{\"type\":\"object\",\"name\":\"Grid\",\"id\":\"p1120\",\"attributes\":{\"axis\":{\"id\":\"p1116\"}}},{\"type\":\"object\",\"name\":\"Grid\",\"id\":\"p1125\",\"attributes\":{\"dimension\":1,\"axis\":{\"id\":\"p1121\"}}}]}}],\"defs\":[{\"type\":\"model\",\"name\":\"ReactiveHTML1\"},{\"type\":\"model\",\"name\":\"FlexBox1\",\"properties\":[{\"name\":\"align_content\",\"kind\":\"Any\",\"default\":\"flex-start\"},{\"name\":\"align_items\",\"kind\":\"Any\",\"default\":\"flex-start\"},{\"name\":\"flex_direction\",\"kind\":\"Any\",\"default\":\"row\"},{\"name\":\"flex_wrap\",\"kind\":\"Any\",\"default\":\"wrap\"},{\"name\":\"justify_content\",\"kind\":\"Any\",\"default\":\"flex-start\"}]},{\"type\":\"model\",\"name\":\"FloatPanel1\",\"properties\":[{\"name\":\"config\",\"kind\":\"Any\",\"default\":{\"type\":\"map\"}},{\"name\":\"contained\",\"kind\":\"Any\",\"default\":true},{\"name\":\"position\",\"kind\":\"Any\",\"default\":\"right-top\"},{\"name\":\"offsetx\",\"kind\":\"Any\",\"default\":null},{\"name\":\"offsety\",\"kind\":\"Any\",\"default\":null},{\"name\":\"theme\",\"kind\":\"Any\",\"default\":\"primary\"},{\"name\":\"status\",\"kind\":\"Any\",\"default\":\"normalized\"}]},{\"type\":\"model\",\"name\":\"GridStack1\",\"properties\":[{\"name\":\"mode\",\"kind\":\"Any\",\"default\":\"warn\"},{\"name\":\"ncols\",\"kind\":\"Any\",\"default\":null},{\"name\":\"nrows\",\"kind\":\"Any\",\"default\":null},{\"name\":\"allow_resize\",\"kind\":\"Any\",\"default\":true},{\"name\":\"allow_drag\",\"kind\":\"Any\",\"default\":true},{\"name\":\"state\",\"kind\":\"Any\",\"default\":[]}]},{\"type\":\"model\",\"name\":\"drag1\",\"properties\":[{\"name\":\"slider_width\",\"kind\":\"Any\",\"default\":5},{\"name\":\"slider_color\",\"kind\":\"Any\",\"default\":\"black\"},{\"name\":\"value\",\"kind\":\"Any\",\"default\":50}]},{\"type\":\"model\",\"name\":\"click1\",\"properties\":[{\"name\":\"terminal_output\",\"kind\":\"Any\",\"default\":\"\"},{\"name\":\"debug_name\",\"kind\":\"Any\",\"default\":\"\"},{\"name\":\"clears\",\"kind\":\"Any\",\"default\":0}]},{\"type\":\"model\",\"name\":\"FastWrapper1\",\"properties\":[{\"name\":\"object\",\"kind\":\"Any\",\"default\":null},{\"name\":\"style\",\"kind\":\"Any\",\"default\":null}]},{\"type\":\"model\",\"name\":\"NotificationAreaBase1\",\"properties\":[{\"name\":\"js_events\",\"kind\":\"Any\",\"default\":{\"type\":\"map\"}},{\"name\":\"position\",\"kind\":\"Any\",\"default\":\"bottom-right\"},{\"name\":\"_clear\",\"kind\":\"Any\",\"default\":0}]},{\"type\":\"model\",\"name\":\"NotificationArea1\",\"properties\":[{\"name\":\"js_events\",\"kind\":\"Any\",\"default\":{\"type\":\"map\"}},{\"name\":\"notifications\",\"kind\":\"Any\",\"default\":[]},{\"name\":\"position\",\"kind\":\"Any\",\"default\":\"bottom-right\"},{\"name\":\"_clear\",\"kind\":\"Any\",\"default\":0},{\"name\":\"types\",\"kind\":\"Any\",\"default\":[{\"type\":\"map\",\"entries\":[[\"type\",\"warning\"],[\"background\",\"#ffc107\"],[\"icon\",{\"type\":\"map\",\"entries\":[[\"className\",\"fas fa-exclamation-triangle\"],[\"tagName\",\"i\"],[\"color\",\"white\"]]}]]},{\"type\":\"map\",\"entries\":[[\"type\",\"info\"],[\"background\",\"#007bff\"],[\"icon\",{\"type\":\"map\",\"entries\":[[\"className\",\"fas fa-info-circle\"],[\"tagName\",\"i\"],[\"color\",\"white\"]]}]]}]}]},{\"type\":\"model\",\"name\":\"Notification\",\"properties\":[{\"name\":\"background\",\"kind\":\"Any\",\"default\":null},{\"name\":\"duration\",\"kind\":\"Any\",\"default\":3000},{\"name\":\"icon\",\"kind\":\"Any\",\"default\":null},{\"name\":\"message\",\"kind\":\"Any\",\"default\":\"\"},{\"name\":\"notification_type\",\"kind\":\"Any\",\"default\":null},{\"name\":\"_destroyed\",\"kind\":\"Any\",\"default\":false}]},{\"type\":\"model\",\"name\":\"TemplateActions1\",\"properties\":[{\"name\":\"open_modal\",\"kind\":\"Any\",\"default\":0},{\"name\":\"close_modal\",\"kind\":\"Any\",\"default\":0}]},{\"type\":\"model\",\"name\":\"BootstrapTemplateActions1\",\"properties\":[{\"name\":\"open_modal\",\"kind\":\"Any\",\"default\":0},{\"name\":\"close_modal\",\"kind\":\"Any\",\"default\":0}]},{\"type\":\"model\",\"name\":\"MaterialTemplateActions1\",\"properties\":[{\"name\":\"open_modal\",\"kind\":\"Any\",\"default\":0},{\"name\":\"close_modal\",\"kind\":\"Any\",\"default\":0}]}]}};\n  const render_items = [{\"docid\":\"05680e83-d0db-47a0-9932-642584bd78c5\",\"roots\":{\"p1104\":\"d466d7b7-a70b-41ac-a7eb-42091d6561cf\"},\"root_ids\":[\"p1104\"]}];\n  root.Bokeh.embed.embed_items_notebook(docs_json, render_items);\n  }\n  if (root.Bokeh !== undefined) {\n    embed_document(root);\n  } else {\n    let attempts = 0;\n    const timer = setInterval(function(root) {\n      if (root.Bokeh !== undefined) {\n        clearInterval(timer);\n        embed_document(root);\n      } else {\n        attempts++;\n        if (attempts > 100) {\n          clearInterval(timer);\n          console.log(\"Bokeh: ERROR: Unable to run BokehJS code because BokehJS library is missing\");\n        }\n      }\n    }, 10, root)\n  }\n})(window);",
      "application/vnd.bokehjs_exec.v0+json": ""
     },
     "metadata": {
      "application/vnd.bokehjs_exec.v0+json": {
       "id": "p1104"
      }
     },
     "output_type": "display_data"
    }
   ],
   "source": [
    "# Test your projection function here.\n",
    "Plot2dProjection(u, v)"
   ]
  },
  {
   "cell_type": "markdown",
   "id": "07a478e0-1fdb-45d5-bbda-42806e083ba4",
   "metadata": {},
   "source": [
    "---\n",
    "# Exercise 2\n",
    "\n",
    "The equation $L_1: 5x - 2y = 0$ defines a line in the plane $\\mathbb{R}^2$.  \n",
    "\n",
    " 1. Find a few points on $L_1$. \n",
    " 2. Use your Proj function to find the distance from the point (10,10) to $L_1$.\n",
    " "
   ]
  },
  {
   "cell_type": "code",
   "execution_count": 16,
   "id": "314d9c18-dbec-467c-b47e-4ab29000f060",
   "metadata": {
    "tags": []
   },
   "outputs": [
    {
     "name": "stdout",
     "output_type": "stream",
     "text": [
      "Distance from (10, 10) to L1: 12.99867367239363\n"
     ]
    }
   ],
   "source": [
    "# code here\n",
    "# Define the point (10, 10)\n",
    "point = np.array([10, 10])\n",
    "\n",
    "# Define the normal vector to the line L1\n",
    "normal_vector = np.array([5, -2])\n",
    "\n",
    "# Calculate the projection of the point onto the normal vector\n",
    "projection = Proj(point, normal_vector)\n",
    "\n",
    "# Calculate the distance between the point and the line\n",
    "distance = np.linalg.norm(point - projection)\n",
    "\n",
    "print(\"Distance from (10, 10) to L1:\", distance)"
   ]
  },
  {
   "cell_type": "markdown",
   "id": "d514b098-5b98-4240-acd5-802f9223063c",
   "metadata": {},
   "source": [
    " Now consider the line $L_2: 4x + 3y = 8$. Note that this line doesn't pass through the origin.\n",
    " \n",
    " 3. Find a couple of points on this line.\n",
    "\n",
    "If $\\vec{v}=(a,b)$ is a vector that lies on the line $L_2$, then translating by -$\\vec{v}$ should give us a line that passes through the origin.  \n",
    "\n",
    "5. Find the distance from the point (10,10) to the line $L_2$. To do this, you can translate everything by $-\\vec{v}$ and then use the same method as you used in part 2. "
   ]
  },
  {
   "cell_type": "markdown",
   "id": "95059bdd",
   "metadata": {},
   "source": [
    "---\n",
    "# Exercise 3\n",
    "\n",
    "We have some hippos in the zoo and the vet comes to check on them.  She measures weight W (in tonnes) and body circumferences C (in meters).  In a healthy hippo we expect these numbers to be related:\n",
    "$$ 3W = 2C. $$\n",
    "\n",
    "The hippos in give the following (W,C) vectors.\n",
    "\n",
    "* Hippo 1: (5, 7.5)\n",
    "* Hippo 2: (6, 7)\n",
    "* Hippo 3: (4.5, 6.75)\n",
    "* Hippo 4: (6.6, 9.9)\n",
    "\n",
    "Tasks: \n",
    "1. Plot these data points.\n",
    "2. The vet suspects that one hippo is unwell! Which one?  \n",
    "\n",
    "*Note:  This is a little different from the usual linear regression setup where one variable is independent and the other is dependent.  Here W and C are related, but we shouldn't consider one dependent.  Instead, think of this as being about distance to a line.*\n",
    "\n",
    "3. Use projection to find out what its weight and circumference should probably be.\n",
    "4. Can you find a vector $\\vec{v}$ such that a hippo is healthy if the dot product $\\vec{v} \\cdot (W,C)$ is approximately zero?"
   ]
  },
  {
   "cell_type": "code",
   "execution_count": null,
   "id": "af6601ce",
   "metadata": {},
   "outputs": [],
   "source": [
    "h1 = [5, 7.4]\n",
    "h2 = [6.3, 7]\n",
    "h3 = [4.5, 6.75]\n",
    "h4 = [6.6, 9.7]\n",
    "\n",
    "# code here\n"
   ]
  },
  {
   "cell_type": "code",
   "execution_count": null,
   "id": "e06d7f4b-c9cc-4296-958a-f9c08b20af84",
   "metadata": {
    "tags": []
   },
   "outputs": [],
   "source": [
    "[100/78, 200/160]"
   ]
  },
  {
   "cell_type": "markdown",
   "id": "e7f67e0f-faaf-4209-8dbb-80ef6196d110",
   "metadata": {},
   "source": [
    "---\n",
    "\n",
    "# Exercise 4\n",
    "\n",
    "In machine learning and data science, we often have vectors where the length doesn't matter much but the direction is important.  In a situation like this, if we want to measure how similar two vectors are, we might just look at the angle between the vectors.  In fact, we can use the cosine of the angle as a measure of the similariy.  A cosine of 1 means the vectors point in the same direction, 0 means they are orthogonal, and -1 means they point in opposite directions.  This is called **cosine similarity**.\n",
    "\n",
    "One example where cosine similarity gets used frequently is in text analysis.  We might compare the relative frequencies of words or letters.  Does one document use consonants more than vowels when compared to another?  Suppose one text has 100 consonants and 78 vowels, while another has 200 consonants and 160 vowels.  The second text is twice as long, so the distance between the points (100,78) and (200,160) might be large, but the ratios 100/78 = 1.28 and 200/160 = 1.25 are very close.  Eventhough their lengths are very different, these two vectors point in nearly the same direction and so their cosine siilarity is close to 1.  \n",
    "\n",
    "\n",
    "Here is an example.  Consider the following poems.\n",
    "\n",
    "### 1 \n",
    "\n",
    "*Some primal termite knocked on wood\n",
    "\n",
    "And tasted it, and found it good!\n",
    "\n",
    "And that is why your Cousin May\n",
    "\n",
    "Fell through the parlor floor today.*\n",
    "\n",
    "### 2\n",
    "\n",
    "*When I was One,\n",
    "\n",
    "I had just begun.\n",
    "\n",
    "When I was Two,\n",
    "\n",
    "I was nearly new.\n",
    "\n",
    "When I was Three\n",
    "\n",
    "I was hardly me.\n",
    "\n",
    "When I was Four,\n",
    "\n",
    "I was not much more.\n",
    "\n",
    "When I was Five,\n",
    "\n",
    "I was just alive.\n",
    "\n",
    "But now I am Six,\n",
    "\n",
    "I'm as clever as clever,\n",
    "\n",
    "So I think I'll be six now for ever and ever. *\n",
    "\n",
    "### 3\n",
    "\n",
    "And death shall have no dominion.\n",
    "\n",
    "Dead man naked they shall be one\n",
    "\n",
    "With the man in the wind and the west moon;\n",
    "\n",
    "When their bones are picked clean and the clean bones gone,\n",
    "\n",
    "They shall have stars at elbow and foot;\n",
    "\n",
    "Though they go mad they shall be sane,\n",
    "\n",
    "Though they sink through the sea they shall rise again;\n",
    "\n",
    "Though lovers be lost love shall not;\n",
    "\n",
    "And death shall have no dominion.\n",
    "\n",
    "And death shall have no dominion.\n",
    "\n",
    "Under the windings of the sea\n",
    "\n",
    "They lying long shall not die windily;\n",
    "\n",
    "Twisting on racks when sinews give way,\n",
    "\n",
    "Strapped to a wheel, yet they shall not break;\n",
    "\n",
    "Faith in their hands shall snap in two,\n",
    "\n",
    "And the unicorn evils run them through;\n",
    "\n",
    "Split all ends up they shan’t crack;\n",
    "\n",
    "And death shall have no dominion.\n",
    "\n",
    "And death shall have no dominion.\n",
    "\n",
    "No more may gulls cry at their ears\n",
    "\n",
    "Or waves break loud on the seashores;\n",
    "\n",
    "Where blew a flower may a flower no more\n",
    "\n",
    "Lift its head to the blows of the rain;\n",
    "\n",
    "Though they be mad and dead as nails,\n",
    "\n",
    "Heads of the characters hammer through daisies;\n",
    "\n",
    "Break in the sun till the sun breaks down,\n",
    "\n",
    "And death shall have no dominion.\n",
    "\n",
    "### ----------------\n",
    "\n",
    "For each of these poems, count how many times the letters d,e, and m occur.  For example, there are two d's in the first one.  Put these numbers into a vector for each poem.\n",
    "\n",
    "P1 = (number of d's, number of e's, number of m's) of poem 1.\n",
    "P2 = same for poem 2.\n",
    "P2 = same for poem 3.\n",
    "\n",
    "Note that one poem is significantly longer than the others, so we expect any letter count to be higher for it.\n",
    "\n",
    "Calculate the cosine similarity between each pair of P1, P2, P3.\n"
   ]
  },
  {
   "cell_type": "code",
   "execution_count": null,
   "id": "33e0bbe2-1c51-4440-91e4-a9d10011837d",
   "metadata": {},
   "outputs": [],
   "source": [
    "# code here\n",
    "# It might be helpful to use the string.count method to count occurrences of each letter, as shown below.\n",
    "\n",
    "a_string = \"the quick brown fox\"\n",
    "print(a_string.count('q'))\n"
   ]
  }
 ],
 "metadata": {
  "kernelspec": {
   "display_name": "Python 3 (ipykernel)",
   "language": "python",
   "name": "python3"
  },
  "language_info": {
   "codemirror_mode": {
    "name": "ipython",
    "version": 3
   },
   "file_extension": ".py",
   "mimetype": "text/x-python",
   "name": "python",
   "nbconvert_exporter": "python",
   "pygments_lexer": "ipython3",
   "version": "3.10.13"
  }
 },
 "nbformat": 4,
 "nbformat_minor": 5
}
