{
 "cells": [
  {
   "cell_type": "markdown",
   "id": "b1c625ab",
   "metadata": {},
   "source": [
    "# IMDS Computer Workshop 2\n",
    "\n",
    "### _By Jeffrey Giansiracusa - Michaelmas 2023_\n",
    "\n",
    "This workshop connects with videos:\n",
    "\n",
    "- 1.1 Basics of functions\n",
    "- 1.2 Calculus - differentiation\n",
    "- 1.3 Optimisation\n",
    "- 1.4 Modelling with differential equations\n",
    "\n",
    "Key skills to focus on:\n",
    "\n",
    "- The idea of the derivative of $f(x)$ and slope of the tangent line\n",
    "- How we approximate $f'$ as $\\frac{f(x+h) - f(x)}{h}$\n",
    "- Given the graph of a function, sketch the graph of its derivative\n",
    "- Given the graph of $f'$, sketch the graph of $f$ and identify local minima and maxima\n",
    "- Use the 4 rules of differentiation (linearity, product rule, quotient rule, chain rule) and a table of derivatives to differentiate various functions\n",
    "- Use a table of values to estimate the derivative of a function at a point\n",
    "- Building some intuition for simple differential equation models\n",
    "\n",
    "Some of these questions will involve a bit of Python code. Others are to be done the 'old fashioned way' with a piece of paper and a pencil or pen.\n"
   ]
  },
  {
   "cell_type": "markdown",
   "id": "258cc202",
   "metadata": {
    "tags": []
   },
   "source": [
    "## Here is a quick summary of some key facts about differentiation that you might find useful.\n",
    "\n",
    "Table of some common derivatives:\n",
    "\n",
    "- constant function $f(x)=C$ ---> $f^\\prime(x)=0$\n",
    "- $f(x)=x$ ---> $f^\\prime(x)=1$\n",
    "- $f(x)=x^n$ --- $f^\\prime(x)=nx^{n-1}$ (this works when $n$ is any real number)\n",
    "- $f(x)=\\sin (x)$ ---> $f^\\prime (x)=\\cos (x)$\n",
    "- $f(x)=\\cos (x)$ ---> $f^\\prime (x)=-\\sin (x)$\n",
    "- $f(x)=e^x$ ---> $f^\\prime(x)=e^x$\n",
    "- $f(x)=a^x, a>0$ ---> $f^\\prime(x)=a^x \\ln(a)$\n",
    "- $f(x)=\\ln (x)$ ---> $f^\\prime(x)=\\frac{1}{x}$\n",
    "\n",
    "<!---\n",
    " $f(x)=\\tan (x)$       --- > $f^\\prime (x)=\\frac{1}{\\cos^2 (x)}$\n",
    " $f(x)=\\cot (x)$       --- > $f^\\prime (x)=-\\frac{1}{\\sin^2 (x)}$   --->\n",
    "\n",
    "The most important rules for differentiation:\n",
    "\n",
    "- Linearity: $\\frac{d}{dx} (Af(x) + Bg(x)) = Af'(x) + Bg'(x)$\n",
    "- Product rule: $(fg)' = f' g + f g'$\n",
    "- Chain rule: $f(g(x))' = f'(g(x))g'(x)$\n"
   ]
  },
  {
   "cell_type": "markdown",
   "id": "cb567ac3",
   "metadata": {},
   "source": [
    "# Initialization code to run before you start your work\n",
    "\n",
    "Click on the cell below and then type Shift-Return to execute it.\n"
   ]
  },
  {
   "cell_type": "code",
   "execution_count": 1,
   "id": "ee4ab88a",
   "metadata": {},
   "outputs": [
    {
     "data": {
      "text/html": [
       "<style>\n",
       "        .bk-notebook-logo {\n",
       "            display: block;\n",
       "            width: 20px;\n",
       "            height: 20px;\n",
       "            background-image: url(data:image/png;base64,iVBORw0KGgoAAAANSUhEUgAAABQAAAAUCAYAAACNiR0NAAAABHNCSVQICAgIfAhkiAAAAAlwSFlzAAALEgAACxIB0t1+/AAAABx0RVh0U29mdHdhcmUAQWRvYmUgRmlyZXdvcmtzIENTNui8sowAAAOkSURBVDiNjZRtaJVlGMd/1/08zzln5zjP1LWcU9N0NkN8m2CYjpgQYQXqSs0I84OLIC0hkEKoPtiH3gmKoiJDU7QpLgoLjLIQCpEsNJ1vqUOdO7ppbuec5+V+rj4ctwzd8IIbbi6u+8f1539dt3A78eXC7QizUF7gyV1fD1Yqg4JWz84yffhm0qkFqBogB9rM8tZdtwVsPUhWhGcFJngGeWrPzHm5oaMmkfEg1usvLFyc8jLRqDOMru7AyC8saQr7GG7f5fvDeH7Ej8CM66nIF+8yngt6HWaKh7k49Soy9nXurCi1o3qUbS3zWfrYeQDTB/Qj6kX6Ybhw4B+bOYoLKCC9H3Nu/leUTZ1JdRWkkn2ldcCamzrcf47KKXdAJllSlxAOkRgyHsGC/zRday5Qld9DyoM4/q/rUoy/CXh3jzOu3bHUVZeU+DEn8FInkPBFlu3+nW3Nw0mk6vCDiWg8CeJaxEwuHS3+z5RgY+YBR6V1Z1nxSOfoaPa4LASWxxdNp+VWTk7+4vzaou8v8PN+xo+KY2xsw6une2frhw05CTYOmQvsEhjhWjn0bmXPjpE1+kplmmkP3suftwTubK9Vq22qKmrBhpY4jvd5afdRA3wGjFAgcnTK2s4hY0/GPNIb0nErGMCRxWOOX64Z8RAC4oCXdklmEvcL8o0BfkNK4lUg9HTl+oPlQxdNo3Mg4Nv175e/1LDGzZen30MEjRUtmXSfiTVu1kK8W4txyV6BMKlbgk3lMwYCiusNy9fVfvvwMxv8Ynl6vxoByANLTWplvuj/nF9m2+PDtt1eiHPBr1oIfhCChQMBw6Aw0UulqTKZdfVvfG7VcfIqLG9bcldL/+pdWTLxLUy8Qq38heUIjh4XlzZxzQm19lLFlr8vdQ97rjZVOLf8nclzckbcD4wxXMidpX30sFd37Fv/GtwwhzhxGVAprjbg0gCAEeIgwCZyTV2Z1REEW8O4py0wsjeloKoMr6iCY6dP92H6Vw/oTyICIthibxjm/DfN9lVz8IqtqKYLUXfoKVMVQVVJOElGjrnnUt9T9wbgp8AyYKaGlqingHZU/uG2NTZSVqwHQTWkx9hxjkpWDaCg6Ckj5qebgBVbT3V3NNXMSiWSDdGV3hrtzla7J+duwPOToIg42ChPQOQjspnSlp1V+Gjdged7+8UN5CRAV7a5EdFNwCjEaBR27b3W890TE7g24NAP/mMDXRWrGoFPQI9ls/MWO2dWFAar/xcOIImbbpA3zgAAAABJRU5ErkJggg==);\n",
       "        }\n",
       "    </style>\n",
       "    <div>\n",
       "        <a href=\"https://bokeh.org\" target=\"_blank\" class=\"bk-notebook-logo\"></a>\n",
       "        <span id=\"eeeb2696-43d9-4018-87bb-871c23367f72\">Loading BokehJS ...</span>\n",
       "    </div>\n"
      ]
     },
     "metadata": {},
     "output_type": "display_data"
    },
    {
     "data": {
      "application/javascript": "(function(root) {\n  function now() {\n    return new Date();\n  }\n\n  const force = true;\n\n  if (typeof root._bokeh_onload_callbacks === \"undefined\" || force === true) {\n    root._bokeh_onload_callbacks = [];\n    root._bokeh_is_loading = undefined;\n  }\n\nconst JS_MIME_TYPE = 'application/javascript';\n  const HTML_MIME_TYPE = 'text/html';\n  const EXEC_MIME_TYPE = 'application/vnd.bokehjs_exec.v0+json';\n  const CLASS_NAME = 'output_bokeh rendered_html';\n\n  /**\n   * Render data to the DOM node\n   */\n  function render(props, node) {\n    const script = document.createElement(\"script\");\n    node.appendChild(script);\n  }\n\n  /**\n   * Handle when an output is cleared or removed\n   */\n  function handleClearOutput(event, handle) {\n    const cell = handle.cell;\n\n    const id = cell.output_area._bokeh_element_id;\n    const server_id = cell.output_area._bokeh_server_id;\n    // Clean up Bokeh references\n    if (id != null && id in Bokeh.index) {\n      Bokeh.index[id].model.document.clear();\n      delete Bokeh.index[id];\n    }\n\n    if (server_id !== undefined) {\n      // Clean up Bokeh references\n      const cmd_clean = \"from bokeh.io.state import curstate; print(curstate().uuid_to_server['\" + server_id + \"'].get_sessions()[0].document.roots[0]._id)\";\n      cell.notebook.kernel.execute(cmd_clean, {\n        iopub: {\n          output: function(msg) {\n            const id = msg.content.text.trim();\n            if (id in Bokeh.index) {\n              Bokeh.index[id].model.document.clear();\n              delete Bokeh.index[id];\n            }\n          }\n        }\n      });\n      // Destroy server and session\n      const cmd_destroy = \"import bokeh.io.notebook as ion; ion.destroy_server('\" + server_id + \"')\";\n      cell.notebook.kernel.execute(cmd_destroy);\n    }\n  }\n\n  /**\n   * Handle when a new output is added\n   */\n  function handleAddOutput(event, handle) {\n    const output_area = handle.output_area;\n    const output = handle.output;\n\n    // limit handleAddOutput to display_data with EXEC_MIME_TYPE content only\n    if ((output.output_type != \"display_data\") || (!Object.prototype.hasOwnProperty.call(output.data, EXEC_MIME_TYPE))) {\n      return\n    }\n\n    const toinsert = output_area.element.find(\".\" + CLASS_NAME.split(' ')[0]);\n\n    if (output.metadata[EXEC_MIME_TYPE][\"id\"] !== undefined) {\n      toinsert[toinsert.length - 1].firstChild.textContent = output.data[JS_MIME_TYPE];\n      // store reference to embed id on output_area\n      output_area._bokeh_element_id = output.metadata[EXEC_MIME_TYPE][\"id\"];\n    }\n    if (output.metadata[EXEC_MIME_TYPE][\"server_id\"] !== undefined) {\n      const bk_div = document.createElement(\"div\");\n      bk_div.innerHTML = output.data[HTML_MIME_TYPE];\n      const script_attrs = bk_div.children[0].attributes;\n      for (let i = 0; i < script_attrs.length; i++) {\n        toinsert[toinsert.length - 1].firstChild.setAttribute(script_attrs[i].name, script_attrs[i].value);\n        toinsert[toinsert.length - 1].firstChild.textContent = bk_div.children[0].textContent\n      }\n      // store reference to server id on output_area\n      output_area._bokeh_server_id = output.metadata[EXEC_MIME_TYPE][\"server_id\"];\n    }\n  }\n\n  function register_renderer(events, OutputArea) {\n\n    function append_mime(data, metadata, element) {\n      // create a DOM node to render to\n      const toinsert = this.create_output_subarea(\n        metadata,\n        CLASS_NAME,\n        EXEC_MIME_TYPE\n      );\n      this.keyboard_manager.register_events(toinsert);\n      // Render to node\n      const props = {data: data, metadata: metadata[EXEC_MIME_TYPE]};\n      render(props, toinsert[toinsert.length - 1]);\n      element.append(toinsert);\n      return toinsert\n    }\n\n    /* Handle when an output is cleared or removed */\n    events.on('clear_output.CodeCell', handleClearOutput);\n    events.on('delete.Cell', handleClearOutput);\n\n    /* Handle when a new output is added */\n    events.on('output_added.OutputArea', handleAddOutput);\n\n    /**\n     * Register the mime type and append_mime function with output_area\n     */\n    OutputArea.prototype.register_mime_type(EXEC_MIME_TYPE, append_mime, {\n      /* Is output safe? */\n      safe: true,\n      /* Index of renderer in `output_area.display_order` */\n      index: 0\n    });\n  }\n\n  // register the mime type if in Jupyter Notebook environment and previously unregistered\n  if (root.Jupyter !== undefined) {\n    const events = require('base/js/events');\n    const OutputArea = require('notebook/js/outputarea').OutputArea;\n\n    if (OutputArea.prototype.mime_types().indexOf(EXEC_MIME_TYPE) == -1) {\n      register_renderer(events, OutputArea);\n    }\n  }\n  if (typeof (root._bokeh_timeout) === \"undefined\" || force === true) {\n    root._bokeh_timeout = Date.now() + 5000;\n    root._bokeh_failed_load = false;\n  }\n\n  const NB_LOAD_WARNING = {'data': {'text/html':\n     \"<div style='background-color: #fdd'>\\n\"+\n     \"<p>\\n\"+\n     \"BokehJS does not appear to have successfully loaded. If loading BokehJS from CDN, this \\n\"+\n     \"may be due to a slow or bad network connection. Possible fixes:\\n\"+\n     \"</p>\\n\"+\n     \"<ul>\\n\"+\n     \"<li>re-rerun `output_notebook()` to attempt to load from CDN again, or</li>\\n\"+\n     \"<li>use INLINE resources instead, as so:</li>\\n\"+\n     \"</ul>\\n\"+\n     \"<code>\\n\"+\n     \"from bokeh.resources import INLINE\\n\"+\n     \"output_notebook(resources=INLINE)\\n\"+\n     \"</code>\\n\"+\n     \"</div>\"}};\n\n  function display_loaded() {\n    const el = document.getElementById(\"eeeb2696-43d9-4018-87bb-871c23367f72\");\n    if (el != null) {\n      el.textContent = \"BokehJS is loading...\";\n    }\n    if (root.Bokeh !== undefined) {\n      if (el != null) {\n        el.textContent = \"BokehJS \" + root.Bokeh.version + \" successfully loaded.\";\n      }\n    } else if (Date.now() < root._bokeh_timeout) {\n      setTimeout(display_loaded, 100)\n    }\n  }\n\n  function run_callbacks() {\n    try {\n      root._bokeh_onload_callbacks.forEach(function(callback) {\n        if (callback != null)\n          callback();\n      });\n    } finally {\n      delete root._bokeh_onload_callbacks\n    }\n    console.debug(\"Bokeh: all callbacks have finished\");\n  }\n\n  function load_libs(css_urls, js_urls, callback) {\n    if (css_urls == null) css_urls = [];\n    if (js_urls == null) js_urls = [];\n\n    root._bokeh_onload_callbacks.push(callback);\n    if (root._bokeh_is_loading > 0) {\n      console.debug(\"Bokeh: BokehJS is being loaded, scheduling callback at\", now());\n      return null;\n    }\n    if (js_urls == null || js_urls.length === 0) {\n      run_callbacks();\n      return null;\n    }\n    console.debug(\"Bokeh: BokehJS not loaded, scheduling load and callback at\", now());\n    root._bokeh_is_loading = css_urls.length + js_urls.length;\n\n    function on_load() {\n      root._bokeh_is_loading--;\n      if (root._bokeh_is_loading === 0) {\n        console.debug(\"Bokeh: all BokehJS libraries/stylesheets loaded\");\n        run_callbacks()\n      }\n    }\n\n    function on_error(url) {\n      console.error(\"failed to load \" + url);\n    }\n\n    for (let i = 0; i < css_urls.length; i++) {\n      const url = css_urls[i];\n      const element = document.createElement(\"link\");\n      element.onload = on_load;\n      element.onerror = on_error.bind(null, url);\n      element.rel = \"stylesheet\";\n      element.type = \"text/css\";\n      element.href = url;\n      console.debug(\"Bokeh: injecting link tag for BokehJS stylesheet: \", url);\n      document.body.appendChild(element);\n    }\n\n    for (let i = 0; i < js_urls.length; i++) {\n      const url = js_urls[i];\n      const element = document.createElement('script');\n      element.onload = on_load;\n      element.onerror = on_error.bind(null, url);\n      element.async = false;\n      element.src = url;\n      console.debug(\"Bokeh: injecting script tag for BokehJS library: \", url);\n      document.head.appendChild(element);\n    }\n  };\n\n  function inject_raw_css(css) {\n    const element = document.createElement(\"style\");\n    element.appendChild(document.createTextNode(css));\n    document.body.appendChild(element);\n  }\n\n  const js_urls = [\"https://cdn.bokeh.org/bokeh/release/bokeh-3.2.2.min.js\", \"https://cdn.bokeh.org/bokeh/release/bokeh-gl-3.2.2.min.js\", \"https://cdn.bokeh.org/bokeh/release/bokeh-widgets-3.2.2.min.js\", \"https://cdn.bokeh.org/bokeh/release/bokeh-tables-3.2.2.min.js\", \"https://cdn.bokeh.org/bokeh/release/bokeh-mathjax-3.2.2.min.js\"];\n  const css_urls = [];\n\n  const inline_js = [    function(Bokeh) {\n      Bokeh.set_log_level(\"info\");\n    },\nfunction(Bokeh) {\n    }\n  ];\n\n  function run_inline_js() {\n    if (root.Bokeh !== undefined || force === true) {\n          for (let i = 0; i < inline_js.length; i++) {\n      inline_js[i].call(root, root.Bokeh);\n    }\nif (force === true) {\n        display_loaded();\n      }} else if (Date.now() < root._bokeh_timeout) {\n      setTimeout(run_inline_js, 100);\n    } else if (!root._bokeh_failed_load) {\n      console.log(\"Bokeh: BokehJS failed to load within specified timeout.\");\n      root._bokeh_failed_load = true;\n    } else if (force !== true) {\n      const cell = $(document.getElementById(\"eeeb2696-43d9-4018-87bb-871c23367f72\")).parents('.cell').data().cell;\n      cell.output_area.append_execute_result(NB_LOAD_WARNING)\n    }\n  }\n\n  if (root._bokeh_is_loading === 0) {\n    console.debug(\"Bokeh: BokehJS loaded, going straight to plotting\");\n    run_inline_js();\n  } else {\n    load_libs(css_urls, js_urls, function() {\n      console.debug(\"Bokeh: BokehJS plotting callback run at\", now());\n      run_inline_js();\n    });\n  }\n}(window));",
      "application/vnd.bokehjs_load.v0+json": ""
     },
     "metadata": {},
     "output_type": "display_data"
    }
   ],
   "source": [
    "import math\n",
    "import numpy as np\n",
    "import sympy as sym\n",
    "\n",
    "from scipy.integrate import solve_ivp\n",
    "\n",
    "from bokeh.io import output_notebook, show\n",
    "from bokeh.plotting import figure\n",
    "output_notebook()\n",
    "\n",
    "exec(open('workshop2support.py').read())"
   ]
  },
  {
   "cell_type": "markdown",
   "id": "c405416d-3e56-4217-a880-912a1947ec43",
   "metadata": {},
   "source": [
    "---\n",
    "\n",
    "## Exercise 1\n",
    "\n",
    "Python is a fantastic computer language for doing data science and mathematics. For now, we're not going to have to do any significant coding. We're just going to use Python as a fancy graphing calculator.\n",
    "\n",
    "Let's get used to using Python for mathematics.\n",
    "\n",
    "### Arithmetic operations\n",
    "\n",
    "- \\* means times;\n",
    "- \\+ means addition\n",
    "- \\- means subtraction\n",
    "- a\\*\\*b means $a^b$\n",
    "- The square root of a number can be computed in either of two ways: a\\*\\*0.5 or math.sqrt(a). (This second option is making use of the sqrt function that is defined in the math module that we imported just above.)\n",
    "\n",
    "The **math** module provides all sorts of useful things for doing mathematics in Python. You can look at the documentation here: https://docs.python.org/3/library/math.html to see the complete list of what it can do.\n",
    "\n",
    "If you want to use functions like sine and cosine, log, exponential, etc, these are defined in the math module:\n",
    "\n",
    "- math.sin(a), math.cos(a), math.tan(a), ...\n",
    "\n",
    "The math module also provides some useful constants like:\n",
    "\n",
    "- $\\pi$ is math.pi\n",
    "- $e$ is math.pi\n",
    "\n",
    "### 1.1 Some warm-up tasks to try\n",
    "\n",
    "In the code cell below, try to compute:\n",
    "\n",
    "- $a = \\sqrt{2\\pi}$\n",
    "- $b = \\cos(30^\\circ)$ (You will have to convert degrees to radians.)\n",
    "- $c = \\sin(30^\\circ)$\n",
    "- $d =  b^2 + c^2$\n"
   ]
  },
  {
   "cell_type": "code",
   "execution_count": 2,
   "id": "ee5fcaf5-393b-4cbd-ae35-599c6b032405",
   "metadata": {},
   "outputs": [
    {
     "data": {
      "text/plain": [
       "(2.5066282746310002, 0.8660254037844387, 0.49999999999999994, 1.0)"
      ]
     },
     "execution_count": 2,
     "metadata": {},
     "output_type": "execute_result"
    }
   ],
   "source": [
    "# Type some code here.  Then execute it by typing Shift-Return.\n",
    "\n",
    "a = math.sqrt(2*math.pi)\n",
    "b = math.cos(math.pi/6)\n",
    "c = math.sin(math.pi/6)\n",
    "d = b**2+c**2\n",
    "a,b,c,d"
   ]
  },
  {
   "cell_type": "markdown",
   "id": "36859450",
   "metadata": {},
   "source": [
    "---\n",
    "\n",
    "## Exercise 2\n",
    "\n",
    "The Python function **f1(..)** has been defined for you (in the workshop2support.py file). It takes a number as input and produces a number as output, so it is a function $\\mathbb{R} \\to \\mathbb{R}$.\n",
    "\n",
    "There is a formula for the function, but the goal in this question is to work with the function without looking at the formula. Instead, we will explore the function _numerically_ by feeding inputs to the function and then doing things with the outputs. (It is a very common situation in data science to be able to see the inputs and outputs of a function but not a formula for it.)\n",
    "\n",
    "### 2.1 Look at the graph\n",
    "\n",
    "The first thing we usually do when we meet a new function is we look at its graph. Try executing the Python code below to look at the graph. This code uses the excellent Bokeh library for plotting. Click in the box below and then hit the play button or type SHIFT-ENTER.\n"
   ]
  },
  {
   "cell_type": "code",
   "execution_count": 3,
   "id": "535b3bd4",
   "metadata": {},
   "outputs": [
    {
     "data": {
      "text/html": [
       "\n",
       "  <div id=\"f12678c7-938b-40b3-abea-4768fba5b063\" data-root-id=\"p1001\" style=\"display: contents;\"></div>\n"
      ]
     },
     "metadata": {},
     "output_type": "display_data"
    },
    {
     "data": {
      "application/javascript": "(function(root) {\n  function embed_document(root) {\n  const docs_json = {\"55427dd7-114d-4237-b740-40b5cb9219f1\":{\"version\":\"3.2.2\",\"title\":\"Bokeh Application\",\"roots\":[{\"type\":\"object\",\"name\":\"Figure\",\"id\":\"p1001\",\"attributes\":{\"x_range\":{\"type\":\"object\",\"name\":\"DataRange1d\",\"id\":\"p1002\"},\"y_range\":{\"type\":\"object\",\"name\":\"DataRange1d\",\"id\":\"p1003\"},\"x_scale\":{\"type\":\"object\",\"name\":\"LinearScale\",\"id\":\"p1011\"},\"y_scale\":{\"type\":\"object\",\"name\":\"LinearScale\",\"id\":\"p1012\"},\"title\":{\"type\":\"object\",\"name\":\"Title\",\"id\":\"p1004\",\"attributes\":{\"text\":\"Graph of f1\"}},\"renderers\":[{\"type\":\"object\",\"name\":\"GlyphRenderer\",\"id\":\"p1036\",\"attributes\":{\"data_source\":{\"type\":\"object\",\"name\":\"ColumnDataSource\",\"id\":\"p1030\",\"attributes\":{\"selected\":{\"type\":\"object\",\"name\":\"Selection\",\"id\":\"p1031\",\"attributes\":{\"indices\":[],\"line_indices\":[]}},\"selection_policy\":{\"type\":\"object\",\"name\":\"UnionRenderers\",\"id\":\"p1032\"},\"data\":{\"type\":\"map\",\"entries\":[[\"x\",[-10.0,-9.9,-9.8,-9.700000000000001,-9.600000000000001,-9.500000000000002,-9.400000000000002,-9.300000000000002,-9.200000000000003,-9.100000000000003,-9.000000000000004,-8.900000000000004,-8.800000000000004,-8.700000000000005,-8.600000000000005,-8.500000000000005,-8.400000000000006,-8.300000000000006,-8.200000000000006,-8.100000000000007,-8.000000000000007,-7.9000000000000075,-7.800000000000008,-7.700000000000008,-7.6000000000000085,-7.500000000000009,-7.400000000000009,-7.30000000000001,-7.20000000000001,-7.10000000000001,-7.000000000000011,-6.900000000000011,-6.800000000000011,-6.700000000000012,-6.600000000000012,-6.500000000000012,-6.400000000000013,-6.300000000000013,-6.2000000000000135,-6.100000000000014,-6.000000000000014,-5.900000000000015,-5.800000000000015,-5.700000000000015,-5.600000000000016,-5.500000000000016,-5.400000000000016,-5.300000000000017,-5.200000000000017,-5.100000000000017,-5.000000000000018,-4.900000000000018,-4.8000000000000185,-4.700000000000019,-4.600000000000019,-4.5000000000000195,-4.40000000000002,-4.30000000000002,-4.200000000000021,-4.100000000000021,-4.000000000000021,-3.9000000000000217,-3.800000000000022,-3.7000000000000224,-3.6000000000000227,-3.500000000000023,-3.4000000000000234,-3.300000000000024,-3.200000000000024,-3.1000000000000245,-3.000000000000025,-2.9000000000000252,-2.8000000000000256,-2.700000000000026,-2.6000000000000263,-2.5000000000000266,-2.400000000000027,-2.3000000000000274,-2.2000000000000277,-2.100000000000028,-2.0000000000000284,-1.9000000000000288,-1.8000000000000291,-1.7000000000000295,-1.6000000000000298,-1.5000000000000302,-1.4000000000000306,-1.300000000000031,-1.2000000000000313,-1.1000000000000316,-1.000000000000032,-0.9000000000000323,-0.8000000000000327,-0.700000000000033,-0.6000000000000334,-0.5000000000000338,-0.4000000000000341,-0.30000000000003446,-0.20000000000003482,-0.10000000000003517,-3.552713678800501e-14,0.09999999999996412,0.19999999999996376,0.2999999999999634,0.39999999999996305,0.4999999999999627,0.5999999999999623,0.699999999999962,0.7999999999999616,0.8999999999999613,0.9999999999999609,1.0999999999999606,1.1999999999999602,1.2999999999999599,1.3999999999999595,1.4999999999999591,1.5999999999999588,1.6999999999999584,1.799999999999958,1.8999999999999577,1.9999999999999574,2.099999999999957,2.1999999999999567,2.2999999999999563,2.399999999999956,2.4999999999999556,2.5999999999999552,2.699999999999955,2.7999999999999545,2.899999999999954,2.999999999999954,3.0999999999999535,3.199999999999953,3.2999999999999527,3.3999999999999524,3.499999999999952,3.5999999999999517,3.6999999999999513,3.799999999999951,3.8999999999999506,3.9999999999999503,4.09999999999995,4.1999999999999496,4.299999999999949,4.399999999999949,4.4999999999999485,4.599999999999948,4.699999999999948,4.799999999999947,4.899999999999947,4.999999999999947,5.099999999999946,5.199999999999946,5.299999999999946,5.399999999999945,5.499999999999945,5.599999999999945,5.699999999999944,5.799999999999944,5.8999999999999435,5.999999999999943,6.099999999999945,6.1999999999999424,6.29999999999994,6.399999999999942,6.499999999999943,6.599999999999941,6.699999999999939,6.79999999999994,6.899999999999942,6.99999999999994,7.0999999999999375,7.199999999999939,7.29999999999994,7.399999999999938,7.499999999999936,7.5999999999999375,7.699999999999939,7.799999999999937,7.899999999999935,7.999999999999936,8.099999999999937,8.199999999999935,8.299999999999933,8.399999999999935,8.499999999999936,8.599999999999934,8.699999999999932,8.799999999999933,8.899999999999935,8.999999999999932,9.09999999999993,9.199999999999932,9.299999999999933,9.399999999999931,9.499999999999929,9.59999999999993,9.699999999999932,9.79999999999993,9.899999999999928,9.999999999999929,10.09999999999993,10.199999999999928,10.299999999999926,10.399999999999928,10.499999999999929,10.599999999999927,10.699999999999925,10.799999999999926,10.899999999999928,10.999999999999925,11.099999999999923,11.199999999999925,11.299999999999926,11.399999999999924,11.499999999999922,11.599999999999923,11.699999999999925,11.799999999999923,11.89999999999992,11.999999999999922,12.099999999999923,12.199999999999921,12.299999999999919,12.39999999999992,12.499999999999922,12.59999999999992,12.699999999999918,12.799999999999919,12.89999999999992,12.999999999999918,13.099999999999916,13.199999999999918,13.299999999999919,13.399999999999917,13.499999999999915,13.599999999999916,13.699999999999918,13.799999999999915,13.899999999999913,13.999999999999915,14.099999999999916,14.199999999999914,14.299999999999912,14.399999999999913,14.499999999999915,14.599999999999913,14.69999999999991,14.799999999999912,14.899999999999913,14.999999999999911,15.099999999999909,15.19999999999991,15.299999999999912,15.39999999999991,15.499999999999908,15.599999999999909,15.69999999999991,15.799999999999908,15.899999999999906,15.999999999999908,16.09999999999991,16.199999999999907,16.299999999999905,16.399999999999906,16.499999999999908,16.599999999999905,16.699999999999903,16.799999999999905,16.899999999999906,16.999999999999904,17.099999999999902,17.199999999999903,17.299999999999905,17.399999999999903,17.4999999999999,17.599999999999902,17.699999999999903,17.7999999999999,17.8999999999999,17.9999999999999,18.099999999999902,18.1999999999999,18.299999999999898,18.3999999999999,18.4999999999999,18.5999999999999,18.699999999999896,18.799999999999898,18.8999999999999,18.999999999999897,19.099999999999895,19.199999999999896,19.299999999999898,19.399999999999896,19.499999999999893,19.599999999999895,19.699999999999896,19.799999999999894,19.899999999999892]],[\"y\",[5.1609284709235475,5.0608088473746395,4.969573727895247,4.8876351201686905,4.815312144205874,4.752827843803622,4.700306957964795,4.657774674547397,4.625156378595837,4.602278397868888,4.588869738115323,4.584564790758888,4.588906985938344,4.6013533544026,4.621279952679986,4.647988097315174,4.680711345883313,4.718623155029377,4.760845139016162,4.806455846264205,4.8544999661913835,4.90399787436046,4.953955420562646,5.0033738620378605,5.051259842582251,5.096635317835021,5.138547327574387,5.176077517381102,5.208351314532251,5.234546666442804,5.253902254343303,5.265725100125357,5.269397490349825,5.2643831482353205,5.2502325919585315,5.226587625728027,5.193184918758197,5.149858636383422,5.096542097023225,5.033268438442594,4.960170286650377,4.877478430744048,4.785519516941333,4.684712784839176,4.575565878510267,4.4586697742912795,4.334692875942656,4.204374336179184,4.068516671300401,3.927977742713005,3.7836621854632524,3.6365123694226025,3.4874989834394743,3.3376113365371376,3.1878474730649744,3.039204200569249,2.892667130021609,2.7492008279200535,2.6097391786593285,2.475176053466759,2.346356379136415,2.2240676957998855,2.109032288085608,2.001899968289615,1.9032415836658745,1.8135433127092233,1.7332018074205569,1.6625202300911508,1.6017052242052605,1.5508648497267319,1.5100075033995635,1.479041834850416,1.457777659331346,1.4459278579829409,1.4431112466310525,1.4488563844530638,1.4626062844587497,1.483723978720169,1.5114988827446458,1.5451538954001323,1.5838531634528459,1.6267104331364837,1.672797905306899,1.721155505704461,1.7708004776986965,1.820737201667688,1.869967142900226,1.917498828624573,1.9623577544766602,2.003596121425565,2.0403023058681287,2.0716099682706552,2.096706709347158,2.114842187284484,2.1253356149096763,2.1275825618903736,2.121060994002889,2.105336489125613,2.080066577841252,2.0450041652780397,2.0000000000000178,1.9450041652780472,1.880066577841267,1.8053364891256352,1.7210609940029178,1.6275825618904092,1.5253356149097184,1.414842187284532,1.296706709347212,1.1716099682707142,1.0403023058681922,0.9035961214256323,0.7623577544767306,0.6174988286246461,0.46996714290030117,0.3207372016677641,0.17080047769877305,0.02115550570453728,-0.12720209469302524,-0.2732895668634423,-0.4161468365470823,-0.5548461045997989,-0.688501117255289,-0.8162760212797697,-0.9373937155411937,-1.051143615546885,-1.1568887533689018,-1.2540721420170193,-1.3422223406686202,-1.4209581651495566,-1.4899924966004159,-1.5491351502732542,-1.5982947757947323,-1.6374797699088486,-1.6667981925794493,-1.6864566872907893,-1.6967584163341443,-1.6981000317104096,-1.6909677119144222,-1.6759323042001495,-1.6536436208636247,-1.6248239465332848,-1.5902608213407183,-1.5507991720799965,-1.5073328699784427,-1.4607957994308043,-1.41215252693508,-1.3623886634629168,-1.3125010165605795,-1.26348763057745,-1.2163378145367982,-1.1720222572870422,-1.1314833286996437,-1.095625663820857,-1.0653071240573806,-1.0413302257087513,-1.0244341214897577,-1.0152872151608432,-1.014480483058679,-1.0225215692559573,-1.0398297133496215,-1.0667315615573978,-1.1034579029767584,-1.150141363616554,-1.2068150812417713,-1.2734123742719359,-1.3497674080414228,-1.4356168517646253,-1.5306025096501155,-1.6342748998745802,-1.7460977456566256,-1.8654533335571168,-1.9916486854676663,-2.123922482618814,-2.2614526724255226,-2.403364682164882,-2.5487401574176527,-2.6966261379620446,-2.8460445794372555,-2.9960021256394387,-3.1455000338085184,-3.2935441537356995,-3.4391548609837423,-3.5813768449705266,-3.7192886541165966,-3.8520119026847404,-3.978720047319931,-4.09864664559732,-4.211093014061583,-4.315435209241047,-4.411130261884615,-4.497721602131055,-4.574843621404114,-4.642225325452562,-4.69969304203517,-4.747172156196348,-4.784687855794104,-4.812364879831295,-4.830426272104744,-4.839191152625358,-4.839071529076455,-4.830568180169192,-4.814265652027214,-4.790826417595014,-4.7609842574272525,-4.7255369279960195,-4.68533819077186,-4.641289281721379,-4.594329906455371,-4.545428851000987,-4.4955743020119865,-4.445763973134341,-4.396995136181285,-4.35025465672302,-4.306509133652141,-4.266695241247024,-4.231710370232051,-4.2024036613461435,-4.179567521009177,-4.163929703858971,-4.156146041267511,-4.156793888490673,-4.166366355925351,-4.185267382113372,-4.21380769772111,-4.252201720821386,-4.300565414498952,-4.358915128185695,-4.427167434302506,-4.505139961840073,-4.592553218549728,-4.689033383537609,-4.79411604235946,-4.907250827296235,-5.027806916446428,-5.155079336689997,-5.288296007546737,-5.426625455549219,-5.569185122050831,-5.7150501814600485,-5.86326278179204,-6.012841615209048,-6.162791722923954,-6.312114436499587,-6.4598173562136285,-6.604924266788583,-6.746484891412144,-6.883584386588998,-7.015352482954607,-7.14097218071902,-7.259687912858719,-7.370813094492571,-7.473736983010992,-7.567930780414214,-7.6529529168871075,-7.728453462818819,-7.79417762518376,-7.849968293349295,-7.895767608873252,-7.931617543606356,-7.957659480323365,-7.97413280007312,-7.981372490362232,-7.979805798070655,-7.9699479605420835,-7.952397057502733,-7.927828035246414,-7.896985962794267,-7.8606785874114,-7.819768263863212,-7.775163338051641,-7.727809071123165,-7.678678194731887,-7.628761191826403,-7.579056400071572,-7.530560036788588,-7.484256245080802,-7.441107260601159,-7.402043797211622,-7.367955747597908,-7.339683291755945,-7.318008502191072,-7.303647529708087,-7.297243447869129,-7.299359827615224,-7.310475106251729,-7.330977807060925,-7.361162657305817,-7.401227643412744,-7.451272032756442,-7.511295381813264,-7.5811975405927114,-7.660779653303042,-7.749746145252599,-7.84770767613443,-7.954185030185938,-8.068613904354379,-8.190350546626409,-8.318678188185425,-8.452814205128648]]]}}},\"view\":{\"type\":\"object\",\"name\":\"CDSView\",\"id\":\"p1037\",\"attributes\":{\"filter\":{\"type\":\"object\",\"name\":\"AllIndices\",\"id\":\"p1038\"}}},\"glyph\":{\"type\":\"object\",\"name\":\"Line\",\"id\":\"p1033\",\"attributes\":{\"x\":{\"type\":\"field\",\"field\":\"x\"},\"y\":{\"type\":\"field\",\"field\":\"y\"},\"line_color\":\"#1f77b4\",\"line_width\":2}},\"nonselection_glyph\":{\"type\":\"object\",\"name\":\"Line\",\"id\":\"p1034\",\"attributes\":{\"x\":{\"type\":\"field\",\"field\":\"x\"},\"y\":{\"type\":\"field\",\"field\":\"y\"},\"line_color\":\"#1f77b4\",\"line_alpha\":0.1,\"line_width\":2}},\"muted_glyph\":{\"type\":\"object\",\"name\":\"Line\",\"id\":\"p1035\",\"attributes\":{\"x\":{\"type\":\"field\",\"field\":\"x\"},\"y\":{\"type\":\"field\",\"field\":\"y\"},\"line_color\":\"#1f77b4\",\"line_alpha\":0.2,\"line_width\":2}}}}],\"toolbar\":{\"type\":\"object\",\"name\":\"Toolbar\",\"id\":\"p1010\",\"attributes\":{\"tools\":[{\"type\":\"object\",\"name\":\"PanTool\",\"id\":\"p1023\"},{\"type\":\"object\",\"name\":\"WheelZoomTool\",\"id\":\"p1024\"},{\"type\":\"object\",\"name\":\"BoxZoomTool\",\"id\":\"p1025\",\"attributes\":{\"overlay\":{\"type\":\"object\",\"name\":\"BoxAnnotation\",\"id\":\"p1026\",\"attributes\":{\"syncable\":false,\"level\":\"overlay\",\"visible\":false,\"left_units\":\"canvas\",\"right_units\":\"canvas\",\"bottom_units\":\"canvas\",\"top_units\":\"canvas\",\"line_color\":\"black\",\"line_alpha\":1.0,\"line_width\":2,\"line_dash\":[4,4],\"fill_color\":\"lightgrey\",\"fill_alpha\":0.5}}}},{\"type\":\"object\",\"name\":\"SaveTool\",\"id\":\"p1027\"},{\"type\":\"object\",\"name\":\"ResetTool\",\"id\":\"p1028\"},{\"type\":\"object\",\"name\":\"HelpTool\",\"id\":\"p1029\"}]}},\"left\":[{\"type\":\"object\",\"name\":\"LinearAxis\",\"id\":\"p1018\",\"attributes\":{\"ticker\":{\"type\":\"object\",\"name\":\"BasicTicker\",\"id\":\"p1019\",\"attributes\":{\"mantissas\":[1,2,5]}},\"formatter\":{\"type\":\"object\",\"name\":\"BasicTickFormatter\",\"id\":\"p1020\"},\"major_label_policy\":{\"type\":\"object\",\"name\":\"AllLabels\",\"id\":\"p1021\"}}}],\"below\":[{\"type\":\"object\",\"name\":\"LinearAxis\",\"id\":\"p1013\",\"attributes\":{\"ticker\":{\"type\":\"object\",\"name\":\"BasicTicker\",\"id\":\"p1014\",\"attributes\":{\"mantissas\":[1,2,5]}},\"formatter\":{\"type\":\"object\",\"name\":\"BasicTickFormatter\",\"id\":\"p1015\"},\"major_label_policy\":{\"type\":\"object\",\"name\":\"AllLabels\",\"id\":\"p1016\"}}}],\"center\":[{\"type\":\"object\",\"name\":\"Grid\",\"id\":\"p1017\",\"attributes\":{\"axis\":{\"id\":\"p1013\"}}},{\"type\":\"object\",\"name\":\"Grid\",\"id\":\"p1022\",\"attributes\":{\"dimension\":1,\"axis\":{\"id\":\"p1018\"}}}]}}]}};\n  const render_items = [{\"docid\":\"55427dd7-114d-4237-b740-40b5cb9219f1\",\"roots\":{\"p1001\":\"f12678c7-938b-40b3-abea-4768fba5b063\"},\"root_ids\":[\"p1001\"]}];\n  root.Bokeh.embed.embed_items_notebook(docs_json, render_items);\n  }\n  if (root.Bokeh !== undefined) {\n    embed_document(root);\n  } else {\n    let attempts = 0;\n    const timer = setInterval(function(root) {\n      if (root.Bokeh !== undefined) {\n        clearInterval(timer);\n        embed_document(root);\n      } else {\n        attempts++;\n        if (attempts > 100) {\n          clearInterval(timer);\n          console.log(\"Bokeh: ERROR: Unable to run BokehJS code because BokehJS library is missing\");\n        }\n      }\n    }, 10, root)\n  }\n})(window);",
      "application/vnd.bokehjs_exec.v0+json": ""
     },
     "metadata": {
      "application/vnd.bokehjs_exec.v0+json": {
       "id": "p1001"
      }
     },
     "output_type": "display_data"
    }
   ],
   "source": [
    "# Here is some code to view the graph of the function with Bokeh\n",
    "\n",
    "# Create a list of number from 1 to 10 in steps of 0.1.  These will be the x values.\n",
    "xdata = list(np.arange(-10, 20, 0.1))\n",
    "\n",
    "# Now create a corresponding list of y values.\n",
    "# The nth entry in this list if the value of the\n",
    "# function f1 at the nth entry of the xdata list.\n",
    "ydata = [f1(x) for x in xdata]\n",
    "\n",
    "# This bit of code below uses Bokeh to plot our data.\n",
    "\n",
    "# First we create the plot canvas called ourplot\n",
    "ourplot = figure(width=600, height=600, title=\"Graph of f1\")\n",
    "\n",
    "# Then we plot the data, with points joined by lines.\n",
    "ourplot.line(xdata, ydata, line_width=2)\n",
    "\n",
    "# Finally, we can make the canvas visible.\n",
    "show(ourplot)"
   ]
  },
  {
   "cell_type": "markdown",
   "id": "9e8d7e0e-c57c-4792-9439-eb14d58e0ae3",
   "metadata": {},
   "source": [
    "### 2.2 Now here are some tasks to try\n",
    "\n",
    "You don't need to do any fancy coding here. Just use Python as a calculator to get f1(x) for various values of x and do some arithmetic.\n",
    "\n",
    "1.  Notice that the function has local minimum near $x=3.5$. Can you get a more precise estimate of where the local minimum is located? Don't just look at the graph. Try plugging in values like f1(3.5), f1(3.51), f1(3.52) etc.\n",
    "2.  Next, estimate the value of the derivative, f1', at the point $x=2$. You can get a rough estimate by looking at the graph. Can you get a better estimate using the function itself? Remember that the derivative is approximated by the slope of a chord $\\frac{f(x+h) - f(x)}{h}$ as $h$ gets smaller and smaller. Compare your estimate from looking at the graph to your calculation.\n",
    "3.  Estimate the value of the derivative, f1', at the point $x=6$.\n",
    "4.  How precise do you think you estimates are? How would you make them more precise? Do you know the difference between **precision** and **accuracy**?\n"
   ]
  },
  {
   "cell_type": "code",
   "execution_count": 4,
   "id": "baac3209",
   "metadata": {},
   "outputs": [
    {
     "name": "stdout",
     "output_type": "stream",
     "text": [
      "-1.6864566872907965\n",
      "-1.6879020910333034\n",
      "-1.6892542053441233\n"
     ]
    }
   ],
   "source": [
    "print(f1(3.5))\n",
    "print(f1(3.51))\n",
    "print(f1(3.52))\n",
    "# f1(3.5)\n",
    "# f1(3.51)\n",
    "# f1(3.52)"
   ]
  },
  {
   "attachments": {
    "wigglyfunction.gif": {
     "image/gif": "[encoded data removed]"
    }
   },
   "cell_type": "markdown",
   "id": "eb6aa7e2",
   "metadata": {},
   "source": [
    "---\n",
    "\n",
    "## Exercise 3\n",
    "\n",
    "This question is to be done on by hand on a piece of paper (or drawing on a tablet). Consider the function $f(x)$ shown below. Try to sketch the graph of the derivative $f'(x)$. Pay attention to where $f'(x)$ crosses the x-axis.\n",
    "\n",
    "![wigglyfunction.gif](attachment:wigglyfunction.gif)\n"
   ]
  },
  {
   "attachments": {
    "derivative-sign-data-2.png": {
     "image/png": "[encoded data removed]"
    }
   },
   "cell_type": "markdown",
   "id": "ab9932bf",
   "metadata": {},
   "source": [
    "---\n",
    "\n",
    "## Exercise 4\n",
    "\n",
    "Suppose $f(x)$ is a function such that the derivative is positive, negative, or zero according to the figure below.\n",
    "\n",
    "1.  Sketch the graph of $f(x)$.\n",
    "2.  Where are the local minima and maxima of $f$?\n",
    "\n",
    "![derivative-sign-data-2.png](attachment:derivative-sign-data-2.png)\n"
   ]
  },
  {
   "cell_type": "markdown",
   "id": "9660c9ab",
   "metadata": {},
   "source": [
    "---\n",
    "\n",
    "## Exercise 5\n",
    "\n",
    "### 5.1 First task - differentiation by hand\n",
    "\n",
    "For those of you who feel confident with formulae:\n",
    "use the rules of differentiation (given up above) to compute the derivatives of the following functions **by hand**.\n",
    "\n",
    "1. $f(x)=\\cos(2x)-\\sin{x}$.\n",
    "2. $f(x)=\\sqrt{1+x^2}$.\n",
    "3. $f(x)=(2-x^2)\\cos (x^2)$.\n",
    "4. $f(x)=\\sin(\\sin x)$.\n",
    "5. $f(x)=\\frac{x}{\\sqrt{4-x^2}}$.\n",
    "6. $f(x)=e^{4x^2}$.\n",
    "7. $f(x)=e^{\\sqrt{x}}$.\n",
    "8. $f(x)=\\ln(1+x^2)$.\n"
   ]
  },
  {
   "cell_type": "markdown",
   "id": "649ffa90",
   "metadata": {},
   "source": [
    "Computing derivatives of formulae is an _algorithmic process_. You just follow the rules and you will arrive at the answer. Sometimes applying the rules might look daunting or confusing, and there might be many steps to keep track of, but it doesn't require any creativity.\n",
    "\n",
    "This situation sounds like just the sort of thing that computers are good at! This is an entry point to the subject of _symbolic algebra_. Python has the ability to compute many derivatives for you using the **SymPy package**. It is a fairly powerful package that can do a lot of cool things.\n",
    "\n",
    "- The SymPy official documentation is here: https://docs.sympy.org/latest/index.html\n",
    "- You can read about using SymPy to do calculus here: https://vknight.org/pfm/tools-for-mathematics/03-calculus/tutorial/main.html\n"
   ]
  },
  {
   "cell_type": "code",
   "execution_count": 5,
   "id": "b4718303",
   "metadata": {},
   "outputs": [],
   "source": [
    "# We are going to use the symbol x as our variable, so we need to tell this to SymPy.\n",
    "x = sym.Symbol(\"x\")\n",
    "\n",
    "# Now we can define formulae using this variable.\n",
    "# Mostly we can do this using what looks like ordinary Python arithmetic involving x.\n",
    "exp1 = 1 + x**2\n",
    "exp2 = (1-x)*(1 + 2*x**2)"
   ]
  },
  {
   "cell_type": "markdown",
   "id": "977c2cb7-de79-47e1-a6fa-674d81a524db",
   "metadata": {},
   "source": [
    "**Caution:** If we want to use functions like sin or cosine, we need to use the symbolic version provided by Sympy (rather than the numeric version from the math module).\n"
   ]
  },
  {
   "cell_type": "code",
   "execution_count": 6,
   "id": "182ac404-0b1b-41a8-9f43-01c31be03aa0",
   "metadata": {},
   "outputs": [],
   "source": [
    "# This won't work - you should get a big TypeError message\n",
    "# expression = math.sin(x)"
   ]
  },
  {
   "cell_type": "code",
   "execution_count": 7,
   "id": "117b1b3b-f5f2-49ec-b96e-8ee3b43ae3a9",
   "metadata": {},
   "outputs": [],
   "source": [
    "# But this will work\n",
    "expression = sym.sin(x)"
   ]
  },
  {
   "cell_type": "markdown",
   "id": "98a13b5d-58ea-4f65-a6fe-07b0fbb52cd1",
   "metadata": {},
   "source": [
    "You can ask SymPy to differentiate symbolic expressions for you like this:\n"
   ]
  },
  {
   "cell_type": "code",
   "execution_count": 8,
   "id": "e1a0f1fc",
   "metadata": {},
   "outputs": [
    {
     "data": {
      "text/latex": [
       "$\\displaystyle 2 x - \\sin{\\left(x \\right)}$"
      ],
      "text/plain": [
       "2*x - sin(x)"
      ]
     },
     "execution_count": 8,
     "metadata": {},
     "output_type": "execute_result"
    }
   ],
   "source": [
    "expression = x**2 + sym.cos(x)\n",
    "\n",
    "# Differentiate the expression with respect to x\n",
    "output = sym.diff(expression, x)\n",
    "\n",
    "output"
   ]
  },
  {
   "cell_type": "markdown",
   "id": "0d02d353-ba56-4197-8c46-eb65b4f89768",
   "metadata": {},
   "source": [
    "### 5.2 Second task - differentiation by computer\n",
    "\n",
    "Use SymPy to differentiate the functions from the first task.\n"
   ]
  },
  {
   "cell_type": "code",
   "execution_count": 9,
   "id": "c31ce68b-e7fb-4830-9611-749b15d103b8",
   "metadata": {},
   "outputs": [
    {
     "data": {
      "text/latex": [
       "$\\displaystyle - 2 \\sin{\\left(2 x \\right)} - \\cos{\\left(x \\right)}$"
      ],
      "text/plain": [
       "-2*sin(2*x) - cos(x)"
      ]
     },
     "execution_count": 9,
     "metadata": {},
     "output_type": "execute_result"
    }
   ],
   "source": [
    "# Put some code here.\n",
    "\n",
    "exp1 = sym.cos(2*x)-sym.sin(x)\n",
    "output_exp1 = sym.diff(exp1, x)\n",
    "output_exp1"
   ]
  },
  {
   "cell_type": "code",
   "execution_count": null,
   "id": "280ea842",
   "metadata": {},
   "outputs": [],
   "source": [
    "exp2 = sym.sqrt(1+x**2)\n",
    "output_exp2 = sym.diff(exp2, x)\n",
    "output_exp2"
   ]
  },
  {
   "cell_type": "code",
   "execution_count": null,
   "id": "5a268f9f",
   "metadata": {},
   "outputs": [],
   "source": [
    "exp3 = (2-x**2)*sym.cos(x**2)\n",
    "output_exp3 = sym.diff(exp3, x)\n",
    "output_exp3"
   ]
  },
  {
   "cell_type": "code",
   "execution_count": null,
   "id": "def4f9c6",
   "metadata": {},
   "outputs": [],
   "source": [
    "exp4 = sym.sin(sym.sin(x))\n",
    "output_exp4 = sym.diff(exp4, x)\n",
    "output_exp4"
   ]
  },
  {
   "cell_type": "code",
   "execution_count": null,
   "id": "cef0a53a",
   "metadata": {},
   "outputs": [],
   "source": [
    "exp5 = x / sym.sqrt(4-x**2)\n",
    "output_exp5 = sym.diff(exp5, x)\n",
    "output_exp5"
   ]
  },
  {
   "cell_type": "code",
   "execution_count": null,
   "id": "e4ecc0bb",
   "metadata": {},
   "outputs": [],
   "source": [
    "exp6 = sym.E**(4*x**2)\n",
    "output_exp6 = sym.diff(exp6, x)\n",
    "output_exp6"
   ]
  },
  {
   "cell_type": "code",
   "execution_count": null,
   "id": "12c2225c",
   "metadata": {},
   "outputs": [],
   "source": [
    "exp7 = sym.E**(sym.sqrt(x))\n",
    "output_exp7 = sym.diff(exp7, x)\n",
    "output_exp7"
   ]
  },
  {
   "cell_type": "markdown",
   "id": "1e90ad17-e1cd-45e4-afec-265f300ad532",
   "metadata": {},
   "source": [
    "### 5.3 Third task - computer differentiation with parameters\n",
    "\n",
    "Now suppose you have a function like $f(x) = Ax^2 + Bx + C$ where we don't know what the values of $A$, $B$ and $C$ are. (They are parameters.) Can you figure out how to use SymPy to differentiate this?\n"
   ]
  },
  {
   "cell_type": "code",
   "execution_count": null,
   "id": "aebbb485-2bd7-40e9-9ba4-b63f773c7dd5",
   "metadata": {},
   "outputs": [],
   "source": [
    "# Put some code here.\n",
    "\n",
    "# exp1 = ...\n",
    "\n",
    "# Define the symbolic variables and parameters\n",
    "x, A, B, C = sym.symbols('x A B C')\n",
    "\n",
    "# Define the function\n",
    "f = A*x**2 + B*x + C\n",
    "\n",
    "# Differentiate the function with respect to x\n",
    "f_prime = sym.diff(f, x)\n",
    "\n",
    "# Display the derivative\n",
    "f_prime\n"
   ]
  },
  {
   "cell_type": "markdown",
   "id": "dbe7fad8-ab04-47e0-9cb4-2d2658ad0f7a",
   "metadata": {},
   "source": [
    "### The opposite of differentiation\n",
    "\n",
    "SymPy can also go in the reverse direction: you give it a function $f(x)$ and it tries to find a function $g(x)$ that has $f(x)$ as its derivative. This is called finding an _antiderivative_. We'll see more on this next week. Computing the derivative of a function is entirely striaghtforward, but surprisingly, finding an antiderivative is much more complicated and not always possible.\n"
   ]
  },
  {
   "cell_type": "code",
   "execution_count": null,
   "id": "a5713e62-a356-4f39-a509-0808572742a7",
   "metadata": {},
   "outputs": [],
   "source": [
    "# Here is a simple example of using sym.integrate to find an antiderivative.\n",
    "\n",
    "expression = x**3 / 4 + x\n",
    "sym.integrate(expression, x)"
   ]
  },
  {
   "cell_type": "markdown",
   "id": "9daac398-a7a0-43b7-8d62-9ca28c35042c",
   "metadata": {},
   "source": [
    "### 5.4 Fourth task - calculating antiderivatives\n",
    "\n",
    "Try using SymPy to find antiderivatives of the following functions:\n",
    "\n",
    "- $f(x) = 3x^2$\n",
    "- $f(x) = \\sin(x)$\n",
    "- $f(x) = \\frac{1}{1-x}$\n",
    "- $f(x) = \\sqrt{1 - x^3}$\n",
    "- $f(x) = \\sqrt{1 - x^4}$\n",
    "- $f(x) = \\sin(\\sin(x))$\n"
   ]
  },
  {
   "cell_type": "code",
   "execution_count": 10,
   "id": "3455e6a9",
   "metadata": {},
   "outputs": [
    {
     "data": {
      "text/latex": [
       "$\\displaystyle x^{3}$"
      ],
      "text/plain": [
       "x**3"
      ]
     },
     "execution_count": 10,
     "metadata": {},
     "output_type": "execute_result"
    }
   ],
   "source": [
    "# Type some code here\n",
    "function1 = 3*(x**2)\n",
    "sym.integrate(function1, x)"
   ]
  },
  {
   "cell_type": "code",
   "execution_count": 11,
   "id": "ef149fe0",
   "metadata": {},
   "outputs": [
    {
     "data": {
      "text/latex": [
       "$\\displaystyle - \\cos{\\left(x \\right)}$"
      ],
      "text/plain": [
       "-cos(x)"
      ]
     },
     "execution_count": 11,
     "metadata": {},
     "output_type": "execute_result"
    }
   ],
   "source": [
    "function2 = sym.sin(x)\n",
    "sym.integrate(function2, x)"
   ]
  },
  {
   "cell_type": "code",
   "execution_count": 13,
   "id": "f376720a",
   "metadata": {},
   "outputs": [
    {
     "data": {
      "text/latex": [
       "$\\displaystyle - \\log{\\left(x - 1 \\right)}$"
      ],
      "text/plain": [
       "-log(x - 1)"
      ]
     },
     "execution_count": 13,
     "metadata": {},
     "output_type": "execute_result"
    }
   ],
   "source": [
    "function3 = 1/(1-x)\n",
    "sym.integrate(function3, x)"
   ]
  },
  {
   "cell_type": "code",
   "execution_count": null,
   "id": "a1299dca",
   "metadata": {},
   "outputs": [],
   "source": []
  },
  {
   "cell_type": "code",
   "execution_count": null,
   "id": "6765d080",
   "metadata": {},
   "outputs": [],
   "source": []
  },
  {
   "cell_type": "code",
   "execution_count": null,
   "id": "d78140f3",
   "metadata": {},
   "outputs": [],
   "source": []
  },
  {
   "cell_type": "code",
   "execution_count": null,
   "id": "80827404-9dbb-428b-906b-715fc584af25",
   "metadata": {},
   "outputs": [],
   "source": []
  },
  {
   "cell_type": "markdown",
   "id": "0bb96838-c12f-44cd-916c-68ecba8b57bd",
   "metadata": {},
   "source": [
    "---\n",
    "\n",
    "## Exercise 6 - Differential equations and modelling\n",
    "\n",
    "Now we come to differential equations and their use in mathematical modelling.\n",
    "\n",
    "### A quick bit of review\n",
    "\n",
    "From the lecture video, recall the simple differential equation\n",
    "$$ \\frac{df}{dt} = \\alpha f(t),$$\n",
    "where $\\alpha$ is some positie constant. This could describe a population growing; $f(t)$ represents the side of the population at time $t$, and the equation says that the rate of growth is proportional to the size of the population. E.g. the number of babies born in a country is proportional to the population of the country. Canada has about 1/10 as many people as the US and 1/10 as many babies born each year.\n",
    "\n",
    "You can check that $f(t) = A e^{\\alpha t}$ is a solution for any value of $A$. It turns out that there aren't any other solutions; this is all there is.\n",
    "\n",
    "Note that $Ae^{\\alpha 0} = A$, so if we decide what the value of $f(0)$ is (the initial population), then this determines $A=f(0)$ and so we know how to compute the value of $f(t)$ for all values of $t>0$. This is a general principle with differential equations of this type. If you know the **initial value** $f(0)$, then the equation uniquely determines $f(t)$ for all future times.\n",
    "\n",
    "### A nice class of differential equations\n",
    "\n",
    "We're going to consider equations of the following form:\n",
    "\n",
    "$$\n",
    "\\frac{df}{dt} = G(t,f(t)).\n",
    "$$\n",
    "\n",
    "The right hand side function $G$ takes two inputs. This says that the rate of change of $f$ depends on the current time, and on the current value of $f(t)$. Here are some examples:\n",
    "\n",
    "- $G(t,f) = \\mathrm{constant}$ says that the rate of increase of $f$ is a constant. So $f(t)$ is a line and the slope is the constant.\n",
    "- $G(t,f) = \\alpha f(t).$ This is the exponential growth we saw above.\n",
    "- $G(t,f) = \\alpha t f(t).$ This is like saying that your bank account is earning an interest rate of $\\alpha t$, so the interest rate is increasing linearly with time.\n",
    "\n",
    "### Task 6.1\n",
    "\n",
    "Suppose we are measuring time in hours and $f(t)$ is the height of some plant. This plant likes to grow during the day when it is collecting lots of energy through sunlight, and at night it is dormant. During the day its growth rate is proportional to its size, and at night the growth rate is zero. Write out a differential equation that could model this situation.\n",
    "\n",
    "We're tracking a weather balloon as it floats around the Earth. The longitude of the balloon is $L(t)$. The balloon moves with a speed proportional to the wind speed. If the wind\n"
   ]
  },
  {
   "cell_type": "markdown",
   "id": "853aa882-412c-44ae-83a3-6ab7a00b4880",
   "metadata": {},
   "source": [
    "### Task 6.2\n",
    "\n",
    "The code below uses the **solve_ivp** method from the SciPy module to solve a differential equation $\\frac{df}{dt} = G(t,f(t))$ where $G= f(t)$, so we're looking at the simple exponential growth scenario. Your task is to modify the definition of $G$ to simulate the two models you built in Task 6.1 above.\n"
   ]
  },
  {
   "cell_type": "code",
   "execution_count": null,
   "id": "8a7f5a4d-442f-4963-ad1b-2c195503bc0a",
   "metadata": {},
   "outputs": [],
   "source": [
    "def G(t, f):\n",
    "    return f\n",
    "\n",
    "\n",
    "sol = solve_ivp(G, [0, 15], [2], rtol=1e-5)\n",
    "\n",
    "solutionplot = figure(width=600, height=600, title=\"Graph of the solution\")\n",
    "solutionplot.line(sol.t, sol.y[0], line_width=2)\n",
    "show(solutionplot)"
   ]
  },
  {
   "cell_type": "code",
   "execution_count": null,
   "id": "1f6df7a1-75de-4264-8a1f-12ae5b9d91fd",
   "metadata": {},
   "outputs": [],
   "source": []
  }
 ],
 "metadata": {
  "kernelspec": {
   "display_name": "Python 3 (ipykernel)",
   "language": "python",
   "name": "python3"
  },
  "language_info": {
   "codemirror_mode": {
    "name": "ipython",
    "version": 3
   },
   "file_extension": ".py",
   "mimetype": "text/x-python",
   "name": "python",
   "nbconvert_exporter": "python",
   "pygments_lexer": "ipython3",
   "version": "3.10.13"
  }
 },
 "nbformat": 4,
 "nbformat_minor": 5
}
