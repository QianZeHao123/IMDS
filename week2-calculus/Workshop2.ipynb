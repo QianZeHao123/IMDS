{
 "cells": [
  {
   "cell_type": "markdown",
   "id": "b1c625ab",
   "metadata": {},
   "source": [
    "# IMDS Computer Workshop 2  \n",
    "### *By Jeffrey Giansiracusa - Michaelmas 2023*\n",
    "    \n",
    "This workshop connects with videos:\n",
    "* 1.1 Basics of functions\n",
    "* 1.2 Calculus - differentiation\n",
    "* 1.3 Optimisation\n",
    "* 1.4 Modelling with differential equations\n",
    "\n",
    "\n",
    "Key skills to focus on:\n",
    "* The idea of the derivative of $f(x)$ and slope of the tangent line\n",
    "* How we approximate $f'$  as $\\frac{f(x+h) - f(x)}{h}$\n",
    "* Given the graph of a function, sketch the graph of its derivative\n",
    "* Given the graph of $f'$, sketch the graph of $f$ and identify local minima and maxima\n",
    "* Use the 4 rules of differentiation (linearity, product rule, quotient rule, chain rule) and a table of derivatives to differentiate various functions\n",
    "* Use a table of values to estimate the derivative of a function at a point\n",
    "* Building some intuition for simple differential equation models\n",
    "\n",
    "Some of these questions will involve a bit of Python code.  Others are to be done the 'old fashioned way' with a piece of paper and a pencil or pen.\n"
   ]
  },
  {
   "cell_type": "markdown",
   "id": "258cc202",
   "metadata": {
    "tags": []
   },
   "source": [
    "## Here is a quick summary of some key facts about differentiation that you might find useful.\n",
    "\n",
    "Table of some common derivatives:\n",
    "\n",
    "* constant function $f(x)=C$ ---> $f^\\prime(x)=0$                      \n",
    "* $f(x)=x$              ---> $f^\\prime(x)=1$                        \n",
    "* $f(x)=x^n$ --- $f^\\prime(x)=nx^{n-1}$ (this works when $n$ is any real number)\n",
    "* $f(x)=\\sin (x)$       ---> $f^\\prime (x)=\\cos (x)$                \n",
    "* $f(x)=\\cos (x)$       ---> $f^\\prime (x)=-\\sin (x)$               \n",
    "* $f(x)=e^x$            ---> $f^\\prime(x)=e^x$                      \n",
    "* $f(x)=a^x, a>0$       ---> $f^\\prime(x)=a^x \\ln(a)$               \n",
    "* $f(x)=\\ln (x)$        ---> $f^\\prime(x)=\\frac{1}{x}$\n",
    "\n",
    "<!---\n",
    " $f(x)=\\tan (x)$       --- > $f^\\prime (x)=\\frac{1}{\\cos^2 (x)}$    \n",
    " $f(x)=\\cot (x)$       --- > $f^\\prime (x)=-\\frac{1}{\\sin^2 (x)}$   --->\n",
    "\n",
    "\n",
    "The most important rules for differentiation:\n",
    "* Linearity:  $\\frac{d}{dx} (Af(x) + Bg(x)) = Af'(x) + Bg'(x)$\n",
    "* Product rule: $(fg)' = f' g + f g'$\n",
    "* Chain rule: $f(g(x))' = f'(g(x))g'(x)$\n",
    "\n"
   ]
  },
  {
   "cell_type": "markdown",
   "id": "cb567ac3",
   "metadata": {},
   "source": [
    "# Initialization code to run before you start your work\n",
    "\n",
    "Click on the cell below and then type Shift-Return to execute it."
   ]
  },
  {
   "cell_type": "code",
   "execution_count": null,
   "id": "ee4ab88a",
   "metadata": {},
   "outputs": [],
   "source": [
    "import math\n",
    "import numpy as np\n",
    "import sympy as sym\n",
    "\n",
    "from scipy.integrate import solve_ivp\n",
    "\n",
    "from bokeh.io import output_notebook, show\n",
    "from bokeh.plotting import figure\n",
    "output_notebook()\n",
    "\n",
    "exec(open('workshop2support.py').read())\n"
   ]
  },
  {
   "cell_type": "markdown",
   "id": "c405416d-3e56-4217-a880-912a1947ec43",
   "metadata": {},
   "source": [
    "---\n",
    "\n",
    "## Exercise 1\n",
    "\n",
    "Python is a fantastic computer language for doing data science and mathematics.  For now, we're not going to have to do any significant coding.  We're just going to use Python as a fancy graphing calculator.\n",
    "\n",
    "Let's get used to using Python for mathematics.\n",
    "\n",
    "### Arithmetic operations\n",
    "* \\* means times;\n",
    "* \\+ means addition\n",
    "* \\- means subtraction\n",
    "* a\\**b means $a^b$ \n",
    "* The square root of a number can be computed in either of two ways: a\\**0.5 or math.sqrt(a).  (This second option is making use of the sqrt function that is defined in the math module that we imported just above.)\n",
    "\n",
    "The **math** module provides all sorts of useful things for doing mathematics in Python.  You can look at the documentation here: https://docs.python.org/3/library/math.html to see the complete list of what it can do.\n",
    "\n",
    "If you want to use functions like sine and cosine, log, exponential, etc, these are defined in the math module:\n",
    "* math.sin(a), math.cos(a), math.tan(a), ...\n",
    "\n",
    "The math module also provides some useful constants like:\n",
    "* $\\pi$ is math.pi\n",
    "* $e$ is math.pi\n",
    "\n",
    "\n",
    "### 1.1 Some warm-up tasks to try\n",
    "In the code cell below, try to compute: \n",
    "* $a = \\sqrt{2\\pi}$\n",
    "* $b = \\cos(30^\\circ)$  (You will have to convert degrees to radians.)\n",
    "* $c = \\sin(30^\\circ)$  \n",
    "* $d =  b^2 + c^2$"
   ]
  },
  {
   "cell_type": "code",
   "execution_count": null,
   "id": "ee5fcaf5-393b-4cbd-ae35-599c6b032405",
   "metadata": {},
   "outputs": [],
   "source": [
    "# Type some code here.  Then execute it by typing Shift-Return.\n",
    "\n",
    "a = ...\n",
    "b = ...\n",
    "c = ...\n",
    "d = ..."
   ]
  },
  {
   "cell_type": "markdown",
   "id": "36859450",
   "metadata": {},
   "source": [
    "---\n",
    "\n",
    "## Exercise 2\n",
    "\n",
    "The Python function **f1(..)** has been defined for you (in the workshop2support.py file).  It takes a number as input and produces a number as output, so it is a function $\\mathbb{R} \\to \\mathbb{R}$.  \n",
    "\n",
    "There is a formula for the function, but the goal in this question is to work with the function without looking at the formula.  Instead, we will explore the function *numerically* by feeding inputs to the function and then doing things with the outputs.  (It is a very common situation in data science to be able to see the inputs and outputs of a function but not a formula for it.)\n",
    "\n",
    "### 2.1 Look at the graph\n",
    "The first thing we usually do when we meet a new function is we look at its graph.  Try executing the Python code below to look at the graph.  This code uses the excellent Bokeh library for plotting.  Click in the box below and then hit the play button or type SHIFT-ENTER."
   ]
  },
  {
   "cell_type": "code",
   "execution_count": null,
   "id": "535b3bd4",
   "metadata": {},
   "outputs": [],
   "source": [
    "# Here is some code to view the graph of the function with Bokeh\n",
    "\n",
    "# Create a list of number from 1 to 10 in steps of 0.1.  These will be the x values.\n",
    "xdata = list(np.arange(0,10,0.1))\n",
    "\n",
    "# Now create a corresponding list of y values.  \n",
    "# The nth entry in this list if the value of the\n",
    "# function f1 at the nth entry of the xdata list.\n",
    "ydata = [f1(x) for x in xdata]\n",
    "\n",
    "# This bit of code below uses Bokeh to plot our data.\n",
    "\n",
    "# First we create the plot canvas called ourplot\n",
    "ourplot = figure(width=600, height=600, title=\"Graph of f1\")\n",
    "\n",
    "# Then we plot the data, with points joined by lines.\n",
    "ourplot.line(xdata, ydata, line_width=2)\n",
    "\n",
    "# Finally, we can make the canvas visible.\n",
    "show(ourplot)\n"
   ]
  },
  {
   "cell_type": "markdown",
   "id": "9e8d7e0e-c57c-4792-9439-eb14d58e0ae3",
   "metadata": {},
   "source": [
    "### 2.2 Now here are some tasks to try\n",
    "\n",
    "You don't need to do any fancy coding here.  Just use Python as a calculator to get f1(x) for various values of x and do some arithmetic.\n",
    "\n",
    " 1. Notice that the function has local minimum near $x=3.5$.  Can you get a more precise estimate of where the local minimum is located? Don't just look at the graph.  Try plugging in values like f1(3.5), f1(3.51), f1(3.52) etc.\n",
    " 2. Next, estimate the value of the derivative, f1', at the point $x=2$.  You can get a rough estimate by looking at the graph.  Can you get a better estimate using the function itself?  Remember that the derivative is approximated by the slope of a chord $\\frac{f(x+h) - f(x)}{h}$ as $h$ gets smaller and smaller.  Compare your estimate from looking at the graph to your calculation.\n",
    " 3. Estimate the value of the derivative, f1', at the point $x=6$.\n",
    " 4. How precise do you think you estimates are?  How would you make them more precise?  Do you know the difference between **precision** and **accuracy**?\n",
    "\n",
    "\n"
   ]
  },
  {
   "attachments": {
    "wigglyfunction.gif": {
     "image/gif": "[encoded data removed]"
    }
   },
   "cell_type": "markdown",
   "id": "eb6aa7e2",
   "metadata": {},
   "source": [
    "---\n",
    "\n",
    "## Exercise 3\n",
    "\n",
    "This question is to be done on by hand on a piece of paper (or drawing on a tablet). Consider the function $f(x)$ shown below. Try to sketch the graph of the derivative $f'(x)$.  Pay attention to where $f'(x)$ crosses the x-axis. \n",
    "\n",
    "![wigglyfunction.gif](attachment:wigglyfunction.gif)"
   ]
  },
  {
   "attachments": {
    "derivative-sign-data-2.png": {
     "image/png": "[encoded data removed]"
    }
   },
   "cell_type": "markdown",
   "id": "ab9932bf",
   "metadata": {},
   "source": [
    "---\n",
    "\n",
    "## Exercise 4\n",
    "\n",
    "Suppose $f(x)$ is a function such that the derivative is positive, negative, or zero according to the figure below.\n",
    "\n",
    " 1. Sketch the graph of $f(x)$.\n",
    " 2. Where are the local minima and maxima of $f$?\n",
    "  \n",
    "![derivative-sign-data-2.png](attachment:derivative-sign-data-2.png)"
   ]
  },
  {
   "cell_type": "markdown",
   "id": "9660c9ab",
   "metadata": {},
   "source": [
    "---\n",
    "\n",
    "## Exercise 5\n",
    "\n",
    "### 5.1 First task - differentiation by hand\n",
    "For those of you who feel confident with formulae:\n",
    "use the rules of differentiation (given up above) to compute the derivatives of the following functions **by hand**.\n",
    "\n",
    "1. $f(x)=\\cos(2x)-\\sin{x}$.\n",
    "2. $f(x)=\\sqrt{1+x^2}$.\n",
    "3. $f(x)=(2-x^2)\\cos (x^2)$.\n",
    "4. $f(x)=\\sin(\\sin x)$.\n",
    "5. $f(x)=\\frac{x}{\\sqrt{4-x^2}}$.\n",
    "6. $f(x)=e^{4x^2}$.\n",
    "7. $f(x)=e^{\\sqrt{x}}$.\n",
    "8. $f(x)=\\ln(1+x^2)$.\n"
   ]
  },
  {
   "cell_type": "markdown",
   "id": "649ffa90",
   "metadata": {},
   "source": [
    "Computing derivatives of formulae is an *algorithmic process*.  You just follow the rules and you will arrive at the answer. Sometimes applying the rules might look daunting or confusing, and there might be many steps to keep track of, but it doesn't require any creativity.\n",
    "\n",
    "This situation sounds like just the sort of thing that computers are good at!  This is an entry point to the subject of *symbolic algebra*.  Python has the ability to compute many derivatives for you using the **SymPy package**.  It is a fairly powerful package that can do a lot of cool things.\n",
    "\n",
    "* The SymPy official documentation is here: https://docs.sympy.org/latest/index.html\n",
    "* You can read about using SymPy to do calculus here: https://vknight.org/pfm/tools-for-mathematics/03-calculus/tutorial/main.html\n",
    "\n"
   ]
  },
  {
   "cell_type": "code",
   "execution_count": null,
   "id": "b4718303",
   "metadata": {},
   "outputs": [],
   "source": [
    "# We are going to use the symbol x as our variable, so we need to tell this to SymPy.\n",
    "x = sym.Symbol(\"x\")\n",
    "\n",
    "# Now we can define formulae using this variable.  \n",
    "# Mostly we can do this using what looks like ordinary Python arithmetic involving x.\n",
    "exp1 = 1 + x**2\n",
    "exp2 = (1-x)*(1+ 2*x**2)"
   ]
  },
  {
   "cell_type": "markdown",
   "id": "977c2cb7-de79-47e1-a6fa-674d81a524db",
   "metadata": {},
   "source": [
    "**Caution:** If we want to use functions like sin or cosine, we need to use the symbolic version provided by Sympy (rather than the numeric version from the math module)."
   ]
  },
  {
   "cell_type": "code",
   "execution_count": null,
   "id": "182ac404-0b1b-41a8-9f43-01c31be03aa0",
   "metadata": {},
   "outputs": [],
   "source": [
    "# This won't work - you should get a big TypeError message\n",
    "expression = math.sin(x)"
   ]
  },
  {
   "cell_type": "code",
   "execution_count": null,
   "id": "117b1b3b-f5f2-49ec-b96e-8ee3b43ae3a9",
   "metadata": {},
   "outputs": [],
   "source": [
    "# But this will work\n",
    "expression = sym.sin(x)"
   ]
  },
  {
   "cell_type": "markdown",
   "id": "98a13b5d-58ea-4f65-a6fe-07b0fbb52cd1",
   "metadata": {},
   "source": [
    "You can ask SymPy to differentiate symbolic expressions for you like this:"
   ]
  },
  {
   "cell_type": "code",
   "execution_count": null,
   "id": "e1a0f1fc",
   "metadata": {},
   "outputs": [],
   "source": [
    "expression = x**2 + sym.cos(x)\n",
    "\n",
    "# Differentiate the expression with respect to x\n",
    "output = sym.diff(expression,x)\n",
    "\n",
    "output"
   ]
  },
  {
   "cell_type": "markdown",
   "id": "0d02d353-ba56-4197-8c46-eb65b4f89768",
   "metadata": {},
   "source": [
    "### 5.2 Second task - differentiation by computer\n",
    "\n",
    "Use SymPy to differentiate the functions from the first task."
   ]
  },
  {
   "cell_type": "code",
   "execution_count": null,
   "id": "c31ce68b-e7fb-4830-9611-749b15d103b8",
   "metadata": {},
   "outputs": [],
   "source": [
    "# Put some code here.\n",
    "\n",
    "exp1 = ...\n"
   ]
  },
  {
   "cell_type": "markdown",
   "id": "1e90ad17-e1cd-45e4-afec-265f300ad532",
   "metadata": {},
   "source": [
    "### 5.3 Third task - computer differentiation with parameters\n",
    "\n",
    "Now suppose you have a function like $f(x) = Ax^2 + Bx + C$ where we don't know what the values of $A$, $B$ and $C$ are.  (They are parameters.) Can you figure out how to use SymPy to differentiate this?\n",
    "\n"
   ]
  },
  {
   "cell_type": "code",
   "execution_count": null,
   "id": "aebbb485-2bd7-40e9-9ba4-b63f773c7dd5",
   "metadata": {},
   "outputs": [],
   "source": [
    "# Put some code here.\n",
    "\n",
    "exp1 = ...\n"
   ]
  },
  {
   "cell_type": "markdown",
   "id": "dbe7fad8-ab04-47e0-9cb4-2d2658ad0f7a",
   "metadata": {},
   "source": [
    "### The opposite of differentiation\n",
    "\n",
    "SymPy can also go in the reverse direction:  you give it a function $f(x)$ and it tries to find a function $g(x)$ that has $f(x)$ as its derivative. This is called finding an *antiderivative*.  We'll see more on this next week.  Computing the derivative of a function is entirely striaghtforward, but surprisingly, finding an antiderivative is much more complicated and not always possible."
   ]
  },
  {
   "cell_type": "code",
   "execution_count": null,
   "id": "a5713e62-a356-4f39-a509-0808572742a7",
   "metadata": {},
   "outputs": [],
   "source": [
    "# Here is a simple example of using sym.integrate to find an antiderivative.\n",
    "\n",
    "expression = x**3 / 4 + x\n",
    "sym.integrate(expression, x)"
   ]
  },
  {
   "cell_type": "markdown",
   "id": "9daac398-a7a0-43b7-8d62-9ca28c35042c",
   "metadata": {},
   "source": [
    "### 5.4 Fourth task - calculating antiderivatives\n",
    "Try using SymPy to find antiderivatives of the following functions:\n",
    "* $f(x) = 3x^2$\n",
    "* $f(x) = \\sin(x)$\n",
    "* $f(x) = \\frac{1}{1-x}$\n",
    "* $f(x) = \\sqrt{1 - x^3}$\n",
    "* $f(x) = \\sqrt{1 - x^4}$\n",
    "* $f(x) = \\sin(\\sin(x))$"
   ]
  },
  {
   "cell_type": "code",
   "execution_count": null,
   "id": "80827404-9dbb-428b-906b-715fc584af25",
   "metadata": {},
   "outputs": [],
   "source": [
    "# Type some code here\n"
   ]
  },
  {
   "cell_type": "markdown",
   "id": "0bb96838-c12f-44cd-916c-68ecba8b57bd",
   "metadata": {},
   "source": [
    "---\n",
    "\n",
    "## Exercise 6 - Differential equations and modelling\n",
    "\n",
    "Now we come to differential equations and their use in mathematical modelling.\n",
    "\n",
    "### A quick bit of review\n",
    "\n",
    "From the lecture video, recall the simple differential equation\n",
    "$$ \\frac{df}{dt} = \\alpha f(t),$$\n",
    "where $\\alpha$ is some positie constant.  This could describe a population growing; $f(t)$ represents the side of the population at time $t$, and the equation says that the rate of growth is proportional to the size of the population.  E.g.  the number of babies born in a country is proportional to the population of the country.  Canada has about 1/10 as many people as the US and 1/10 as many babies born each year.\n",
    "\n",
    "You can check that $f(t) = A e^{\\alpha t}$ is a solution for any value of $A$.  It turns out that there aren't any other solutions; this is all there is. \n",
    "\n",
    "Note that $Ae^{\\alpha 0} = A$, so if we decide what the value of $f(0)$ is (the initial population), then this determines $A=f(0)$ and so we know how to compute the value of $f(t)$ for all values of $t>0$.  This is a general principle with differential equations of this type.  If you know the **initial value** $f(0)$, then the equation uniquely determines $f(t)$ for all future times.\n",
    "\n",
    "### A nice class of differential equations\n",
    "\n",
    "We're going to consider equations of the following form:\n",
    "$$\n",
    "\\frac{df}{dt} = G(t,f(t)).\n",
    "$$\n",
    "The right hand side function $G$ takes two inputs.  This says that the rate of change of $f$ depends on the current time, and on the current value of $f(t)$.   Here are some examples:\n",
    "* $G(t,f) = \\mathrm{constant}$ says that the rate of increase of $f$ is a constant.  So $f(t)$ is a line and the slope is the constant.\n",
    "* $G(t,f) = \\alpha f(t).$  This is the exponential growth we saw above.\n",
    "* $G(t,f) = \\alpha t f(t).$ This is like saying that your bank account is earning an interest rate of $\\alpha t$, so the interest rate is increasing linearly with time.  \n",
    "\n",
    "### Task 6.1\n",
    "\n",
    "Suppose we are measuring time in hours and $f(t)$ is the height of some plant.  This plant likes to grow during the day when it is collecting lots of energy through sunlight, and at night it is dormant.  During the day its growth rate is proportional to its size, and at night the growth rate is zero.  Write out a differential equation that could model this situation.\n",
    "\n",
    "We're tracking a weather balloon as it floats around the Earth.  The longitude of the balloon is $L(t)$.  The balloon moves with a speed proportional to the wind speed.  If the wind\n"
   ]
  },
  {
   "cell_type": "markdown",
   "id": "853aa882-412c-44ae-83a3-6ab7a00b4880",
   "metadata": {},
   "source": [
    "### Task 6.2\n",
    "\n",
    "The code below uses the **solve_ivp**  method from the SciPy module to solve a differential equation  $\\frac{df}{dt} = G(t,f(t))$ where $G= f(t)$, so we're looking at the simple exponential growth scenario.  Your task is to modify the definition of $G$ to simulate the two models you built in Task 6.1 above. "
   ]
  },
  {
   "cell_type": "code",
   "execution_count": null,
   "id": "8a7f5a4d-442f-4963-ad1b-2c195503bc0a",
   "metadata": {},
   "outputs": [],
   "source": [
    "def G(t, f):\n",
    "    return f\n",
    "\n",
    "sol = solve_ivp(G, [0, 15], [2], rtol = 1e-5)\n",
    "\n",
    "solutionplot = figure(width=600, height=600, title=\"Graph of the solution\")\n",
    "solutionplot.line(sol.t, sol.y[0], line_width=2)\n",
    "show(solutionplot)\n"
   ]
  },
  {
   "cell_type": "code",
   "execution_count": null,
   "id": "1f6df7a1-75de-4264-8a1f-12ae5b9d91fd",
   "metadata": {},
   "outputs": [],
   "source": []
  }
 ],
 "metadata": {
  "kernelspec": {
   "display_name": "Python 3 (ipykernel)",
   "language": "python",
   "name": "python3"
  },
  "language_info": {
   "codemirror_mode": {
    "name": "ipython",
    "version": 3
   },
   "file_extension": ".py",
   "mimetype": "text/x-python",
   "name": "python",
   "nbconvert_exporter": "python",
   "pygments_lexer": "ipython3",
   "version": "3.10.13"
  }
 },
 "nbformat": 4,
 "nbformat_minor": 5
}
